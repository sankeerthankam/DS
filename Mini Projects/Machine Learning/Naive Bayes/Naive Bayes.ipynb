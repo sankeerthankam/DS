{
 "cells": [
  {
   "cell_type": "markdown",
   "metadata": {},
   "source": [
    "# <center> Bayes Theorem - Mini Project"
   ]
  },
  {
   "cell_type": "markdown",
   "metadata": {},
   "source": [
    "## Contents\n",
    "\n",
    "1. Document Retrival System <br>\n",
    "    a. Vector Space Model <br>\n",
    "        i. Document vectors representation\n",
    "        ii. Term Document Matrix\n",
    "        iii. Similarity Measures: Cosine Similarity\n",
    "        iv. High level system design\n",
    "    b. Sparse Matrix <br>\n",
    "        i. Example\n",
    "        ii. Naive Bayes Classifier\n",
    "2. Rotten Tomatoes Dataset <br>\n",
    "    a. Data Preprocessing <br>\n",
    "    b. EDA <br>\n",
    "    c. Input & Output Data <br>\n",
    "    d. Train & Test Data <br>\n",
    "    e. Naive Bayes <br>\n",
    "<br>\n",
    "3. 4. Cross Validation  <br>\n",
    "    a. Working <br>\n",
    "    b. Interpretation <br>\n",
    "<br>\n",
    "5. Calibration <br>\n",
    "    a. Improvement <br>\n",
    "    b. Better Features <br>\n",
    "<br>\n",
    "6. Clustering"
   ]
  },
  {
   "cell_type": "markdown",
   "metadata": {},
   "source": [
    "## 1. Document Retrieval System:"
   ]
  },
  {
   "cell_type": "markdown",
   "metadata": {},
   "source": [
    "Given a set of documents and search term(s)/query we need to retrieve relevant documents that are similar to the search query."
   ]
  },
  {
   "cell_type": "markdown",
   "metadata": {},
   "source": [
    "![callibration](img\\document retrieval system.png)"
   ]
  },
  {
   "cell_type": "markdown",
   "metadata": {},
   "source": [
    "### a. Vector Space Model:\n",
    "\t\n",
    "A vector space model is an algebraic model, involving two steps\n",
    "\n",
    "\t(i) in first step we represent the text documents into vector of words \n",
    "\t(ii) second step we transform to numerical format so that we can apply any text mining techniques such as information retrieval, information extraction,information filtering etc.\n",
    "\t\n",
    "Let us understand with an example. consider below statements and a query term. The statements are referred as documents hereafter.\n",
    "\n",
    "\tDocument 1: Cat runs behind rat\n",
    "\tDocument 2: Dog runs behind cat\n",
    "\tQuery: rat"
   ]
  },
  {
   "cell_type": "markdown",
   "metadata": {},
   "source": [
    "#### (i) Document vectors representation:\n",
    "\t\t\n",
    "In this step includes breaking each document into words, applying preprocessing steps such as removing stopwords, punctuations, special characters etc. After preprocessing the documents we represent them as vectors of words. \n",
    "\n",
    "Below is a sample representation of the document vectors.\n",
    "\n",
    "**Example 1:**\n",
    "    \n",
    "    Assume that you have a search query(q) \"hello world world\"    \n",
    "    and the dictionary has  \n",
    "    5: Hello\n",
    "    99: World\n",
    "    \n",
    "    This search query will be indexed as `[(5,1),(99,2)]`\n",
    "    \n",
    "    Note: 5 and 99 are the indices of 'Hello' and 'World' while 1, 2 are the number of occurances of the respective words.\n",
    "\n",
    "    Also, this is a sparse representation of the matrix. When converted to a dense array, it looks something like below \n",
    "\n",
    "![total number of documents](img\\documents to vectors.png)\n",
    "\n",
    "**Example 2:**\n",
    "\n",
    "\t\tDocument 1: (cat, runs, behind, rat)\n",
    "\t\tDocument 2: (Dog, runs, behind, cat)\n",
    "\t\tQuery: (rat)\n",
    "\n",
    "\n",
    "the relevant document to Query = greater of (similarity score between (Document1, Query), similarity score between (Document2, Query)\n",
    "\n",
    "Next step is to represent the above created vectors of terms to numerical format known as term document matrix. \n",
    "\t\t\n",
    "#### (ii) Term Document Matrix:\n",
    "\t\t\n",
    "A term document matrix is a way of representing documents vectors in a matrix format in which each row represents term vectors across all the documents and columns represent document vectors across all the terms. The cell values frequency counts of each term in corresponding document. If a term is present in a document, then the corresponding cell value contains 1 else if the term is not present in the document then the cell value contains 0.\n",
    "\n",
    "After creating the term document matrix, we will calculate term weights for all the terms in the matrix across all the documents. It is also important to calculate the term weightings because we need to find out terms which uniquely define a document. \n",
    "\n",
    "We should note that a word which occurs in most of the documents might not contribute to represent the document relevance whereas less frequently occurred terms might define document relevance. This can be achieved using a method known as term frequency - inverse document frequency (tf-idf), which gives higher weights to the terms which occurs more in a document but rarely occurs in all other documents, lower weights to the terms which commonly occurs within and across all the documents.\n",
    "\n",
    "** <center> Tf-idf = tf X idf **\n",
    "        \n",
    "\t\ttf = term frequency is the number of times a term occurs in a document\n",
    "\t\tidf = inverse of the document frequency, given as below\n",
    "\t\tidf = log(N/df), where df is the document frequency-number of documents containing a term"
   ]
  },
  {
   "cell_type": "markdown",
   "metadata": {},
   "source": [
    "![total number of documents](img\\total documents.png)"
   ]
  },
  {
   "cell_type": "markdown",
   "metadata": {},
   "source": [
    "<center> N = 2 (document 1 and document 2)"
   ]
  },
  {
   "cell_type": "markdown",
   "metadata": {},
   "source": [
    "![total number of documents](img\\term document matrix.png)"
   ]
  },
  {
   "cell_type": "markdown",
   "metadata": {},
   "source": [
    "<center> Occurance of each word from 'Vocabular' (Bag of Words) in each document"
   ]
  },
  {
   "cell_type": "markdown",
   "metadata": {},
   "source": [
    "![total number of documents](img\\inverse document frequency.png)"
   ]
  },
  {
   "cell_type": "markdown",
   "metadata": {},
   "source": [
    "<center>\n",
    "document frequency (df) = document1 + document2 (see above image) <br>\n",
    "inverse document frequency (idf) = log(N/df)\n",
    "\n",
    "**Note:** idf is calculated using logarithm of inverse fraction between document count and document frequency"
   ]
  },
  {
   "cell_type": "markdown",
   "metadata": {},
   "source": [
    "![total number of documents](img\\tf-idf calculation.png)"
   ]
  },
  {
   "cell_type": "markdown",
   "metadata": {},
   "source": [
    "<center> Replace Term Document Matrix (counts) with term frequency - inverse document frequency (tf x idf) <br>\n",
    "\n",
    "**Note:** Tf-idf weightage is calculated using tf X idf"
   ]
  },
  {
   "cell_type": "markdown",
   "metadata": {},
   "source": [
    "You can use different weighting schemes for 'term frequency'. <br> \n",
    "Below are some variants:"
   ]
  },
  {
   "cell_type": "markdown",
   "metadata": {},
   "source": [
    "![total number of documents](img\\term frequency variations.png)"
   ]
  },
  {
   "cell_type": "markdown",
   "metadata": {},
   "source": [
    "<center> `term frequency variations`"
   ]
  },
  {
   "cell_type": "markdown",
   "metadata": {},
   "source": [
    "You can use different weighting schemes for 'inverse document frequency'. <br> \n",
    "Below are some variants:"
   ]
  },
  {
   "cell_type": "markdown",
   "metadata": {},
   "source": [
    "![total number of documents](img\\inverse document frequency variations.png)"
   ]
  },
  {
   "cell_type": "markdown",
   "metadata": {},
   "source": [
    "<center> `inverse document frequency variations`"
   ]
  },
  {
   "cell_type": "markdown",
   "metadata": {},
   "source": [
    "#### Transformations: \n",
    "\n",
    "> The terms (features) can be `stemmed` before indexing -- <br>\n",
    "   'jealous' and 'jealousy' after stemming are the same feature. <br>\n",
    "   'work', 'working' and 'worked' would all reduce to work.\n",
    "   \n",
    "   You could use \"Natural Language Processing\" transformations to construct such vocabulary to perform Lemmatization. "
   ]
  },
  {
   "cell_type": "markdown",
   "metadata": {},
   "source": [
    "> We could remove \"stopwords\" from our vocabulary, such as common words like \"the\". We could look for particular parts of speech, such as article, adjectives etc. \n",
    "\n",
    "This is often done in Sentiment Analysis. And so on. It all deoends on our application."
   ]
  },
  {
   "cell_type": "markdown",
   "metadata": {},
   "source": [
    "#### (iii) Similarity Measures: Cosine Similarity\n",
    "\n",
    "Mathematically, closeness between two vectors is calculated by calculating the cosine angle between two vectors. In similar lines, we can calculate cosine angle between each document vector and the query vector to find its closeness. To find relevant document to the query term , we may calculate the similarity score between each document vector and the query term vector by applying cosine similarity . Finally, whichever documents having high similarity scores will be considered as relevant documents to the query term.\n",
    "\n",
    "When we plot the term document matrix, each document vector represents a point in the vector space. In the below example, 'query', 'Document 1' and 'Document 2' represent three points in the vector space. We can now compare the query with each of the document by calculating the cosine angle between them. \n",
    "\n",
    "![total number of documents](img\\cosine similarity.png)"
   ]
  },
  {
   "cell_type": "markdown",
   "metadata": {},
   "source": [
    "Assume that you have the query (q) = 'gossip jealous' and three documents (d1, d2, d3)\n",
    "\n",
    ">The key idea now: to assign to each document 'd' a score equal to the dot product:\n",
    "\n",
    "$$\\bar V(q) \\cdot \\bar V(d)$$\n",
    "\n",
    "![Vector Space Model](img\\vsm.png)"
   ]
  },
  {
   "cell_type": "markdown",
   "metadata": {},
   "source": [
    "The Vector Model computer dot product for three documents (d1.V), (d2.V), (d3.V) and returns the highest relavant document (d2). <br>\n",
    "Thus, we can use this simple Vector Model as a Search engine."
   ]
  },
  {
   "cell_type": "markdown",
   "metadata": {},
   "source": [
    "Apart from cosine similarity, we have other variants for calculating the similarity scores and are shown below: \n",
    "\n",
    "1. Jaccard distance\n",
    "2. Kullback-Leibler divergence\n",
    "3. Euclidean distance"
   ]
  },
  {
   "cell_type": "markdown",
   "metadata": {},
   "source": [
    "#### (iv) High level system design:\n",
    "\n",
    "In this section we show the high-level design implementation. The implementation steps are as follows:\n",
    "\n",
    "1. Load documents and search queries. \n",
    "2. Preprocess the data by creating a corpus object with all the documents and query terms, removing `stop words`, `punctuations`.\n",
    "3. Creating a term document matrix with tf-idf weight setting using in CountVectorizer() method. This returns a 'Sparse Matrix' (to save memory)\n",
    "4. Separate the term sparse matrix into two parts - \n",
    "   - X or Input (Each row corresponds to a bag-of-words representation).\n",
    "   - y or Output (Represents which class it belongs to (0 or 1))\n",
    "5. Now calculate cosine similarity between each document and each query.\n",
    "6. Improve your model."
   ]
  },
  {
   "cell_type": "markdown",
   "metadata": {},
   "source": [
    "![Vector Space Model](img\\high level information retrieval system.png)"
   ]
  },
  {
   "cell_type": "markdown",
   "metadata": {},
   "source": [
    "### b. Sparse Matrix"
   ]
  },
  {
   "cell_type": "markdown",
   "metadata": {},
   "source": [
    "In numerical analysis and computer science, a sparse matrix or sparse array is a matrix in which most of the elements are zero. \n",
    "\n",
    "By contrast, if most of the elements are nonzero, then the matrix is considered dense. \n",
    "\n",
    "The number of zero-valued elements divided by the total number of elements (e.g., m × n for an m × n matrix) is called the sparsity of the matrix (which is equal to 1 minus the density of the matrix). \n",
    "\n",
    ">**COO--CSC Formats**: <br>\n",
    "https://en.wikipedia.org/wiki/Sparse_matrix <br>\n",
    "https://www.youtube.com/watch?v=Lhef_jxzqCg"
   ]
  },
  {
   "cell_type": "markdown",
   "metadata": {},
   "source": [
    "#### Example:"
   ]
  },
  {
   "cell_type": "markdown",
   "metadata": {},
   "source": [
    "To do the entire process, there are two parts to it.\n",
    "\n",
    "(a) Count vectorizer which converts the documents to words. It also has bunch of parameters that it can take such as 'min_df' etc. <br>\n",
    "(b) After doing count vertorization, we do the Naive Bayes classifier.\n",
    "\n",
    "So, your vocabulary depends on Count Vectorizer. Hence, it largely depends on the parametrs which we use in the Count Vectorizer. \n",
    "\n",
    ">min_df: Stands for minimum_document-frequency. When building the vocabulary ignore terms that have a document frequency strictly lower than the given threshold. This value is also called cut-off in the literature. If float, the parameter represents a proportion of documents, integer absolute counts. This parameter is ignored if vocabulary is not None.\n",
    "\n",
    "What this means is, if 'min_df' = 5, there should be atleast 5 documents with that word in it. And if not, it won't consider that term at all."
   ]
  },
  {
   "cell_type": "markdown",
   "metadata": {},
   "source": [
    "**Response:** min_df is used to removed terms that are too rare, and max_df is used to remove terms that are too common."
   ]
  },
  {
   "cell_type": "markdown",
   "metadata": {},
   "source": [
    "#### <center>  Part 1 - Count Vectorizer"
   ]
  },
  {
   "cell_type": "code",
   "execution_count": 1,
   "metadata": {},
   "outputs": [
    {
     "name": "stdout",
     "output_type": "stream",
     "text": [
      "Original text is\n",
      " Hop on pop\n",
      "Hop off pop\n",
      "Hop Hop hop\n"
     ]
    }
   ],
   "source": [
    "# Necessary import and text\n",
    "from sklearn.feature_extraction.text import CountVectorizer\n",
    "text = ['Hop on pop', 'Hop off pop', 'Hop Hop hop']\n",
    "print(\"Original text is\\n\", '\\n'.join(text))"
   ]
  },
  {
   "cell_type": "code",
   "execution_count": 2,
   "metadata": {},
   "outputs": [
    {
     "data": {
      "text/plain": [
       "CountVectorizer(analyzer='word', binary=False, decode_error='strict',\n",
       "        dtype=<class 'numpy.int64'>, encoding='utf-8', input='content',\n",
       "        lowercase=True, max_df=1.0, max_features=None, min_df=0,\n",
       "        ngram_range=(1, 1), preprocessor=None, stop_words=None,\n",
       "        strip_accents=None, token_pattern='(?u)\\\\b\\\\w\\\\w+\\\\b',\n",
       "        tokenizer=None, vocabulary=None)"
      ]
     },
     "execution_count": 2,
     "metadata": {},
     "output_type": "execute_result"
    }
   ],
   "source": [
    "# Initialize count vectorizer with min_df = 0\n",
    "vectorizer = CountVectorizer(min_df = 0)\n",
    "vectorizer.fit(text)                                 # 'fit' method builds the vocabulary"
   ]
  },
  {
   "cell_type": "code",
   "execution_count": 3,
   "metadata": {
    "collapsed": true
   },
   "outputs": [],
   "source": [
    "# Convert 'text' to a bag of words\n",
    "x = vectorizer.transform(text)                      "
   ]
  },
  {
   "cell_type": "markdown",
   "metadata": {},
   "source": [
    "CountVectorizer uses a sparse array (sparse matrix) to save memory i.e. 'The bag of words' is a sparse matrix of integer type.\n",
    "\n",
    "**Note:** This representation loses the relative ordering of the terms in the document. That is \"Hop on pop\" and \"Pop on hop\" are the same. Hence, this representation is known as the 'Bag-Of-Words' representation."
   ]
  },
  {
   "cell_type": "code",
   "execution_count": 4,
   "metadata": {},
   "outputs": [
    {
     "data": {
      "text/plain": [
       "<3x4 sparse matrix of type '<class 'numpy.int64'>'\n",
       "\twith 7 stored elements in Compressed Sparse Row format>"
      ]
     },
     "execution_count": 4,
     "metadata": {},
     "output_type": "execute_result"
    }
   ],
   "source": [
    "x"
   ]
  },
  {
   "cell_type": "code",
   "execution_count": 5,
   "metadata": {},
   "outputs": [
    {
     "name": "stdout",
     "output_type": "stream",
     "text": [
      "Sparse Matrix Representation\n",
      "  (0, 0)\t1\n",
      "  (0, 2)\t1\n",
      "  (0, 3)\t1\n",
      "  (1, 0)\t1\n",
      "  (1, 1)\t1\n",
      "  (1, 3)\t1\n",
      "  (2, 0)\t3\n"
     ]
    }
   ],
   "source": [
    "print('Sparse Matrix Representation')\n",
    "print(x)"
   ]
  },
  {
   "cell_type": "code",
   "execution_count": 6,
   "metadata": {},
   "outputs": [
    {
     "name": "stdout",
     "output_type": "stream",
     "text": [
      "Dense Matrix Representation\n",
      "[[1 0 1 1]\n",
      " [1 1 0 1]\n",
      " [3 0 0 0]]\n"
     ]
    }
   ],
   "source": [
    "# Convert Sparse Matrix to Dense Matrix\n",
    "print('Dense Matrix Representation')\n",
    "x = x.toarray()\n",
    "print(x)"
   ]
  },
  {
   "cell_type": "code",
   "execution_count": 7,
   "metadata": {},
   "outputs": [
    {
     "name": "stdout",
     "output_type": "stream",
     "text": [
      "Original text:\n",
      " Hop on pop\n",
      "Hop off pop\n",
      "Hop Hop hop\n",
      "------------------------------------------------------------\n",
      "Words for each feature: \n",
      " ['hop', 'off', 'on', 'pop']\n",
      "------------------------------------------------------------\n",
      "The transformed matrix: \n",
      " [[1 0 1 1]\n",
      " [1 1 0 1]\n",
      " [3 0 0 0]]\n"
     ]
    }
   ],
   "source": [
    "# Above text summarized in one snippet\n",
    "print(\"Original text:\\n\", '\\n'.join(text))\n",
    "print(\"------------------------------------------------------------\")\n",
    "print(\"Words for each feature: \\n\", vectorizer.get_feature_names())\n",
    "print(\"------------------------------------------------------------\")\n",
    "print(\"The transformed matrix: \\n\", x)"
   ]
  },
  {
   "cell_type": "markdown",
   "metadata": {},
   "source": [
    "** Reference **\n",
    "\n",
    "X = vectorizer.fit_transform(df['col']) -- This converts text to numbers\n",
    "\n",
    "-- This returns a 'sparse' matrix which is of the form \"(row_index, column_index) occurances\". \n",
    "-- Occurances means the number of times the 'term' has appeared in the document.\n",
    "\n",
    "In sparse most of the entries are zeros. Hence, to save memory, 'sparse matrix' is chosen.\n",
    "\n",
    "(0, 1) 1 <br>\n",
    "(0, 2) 1 <br>\n",
    "(0, 6) 1 <br>\n",
    "\n",
    "**Note: ** Sometimes the number of occurance might not match because they can be 'stop-words' and might not be included in the 'vocabulary'.\n",
    "\n",
    "We can convert the sparse matrix to a dense matrix using 'X.toarray()'. <br>\n",
    "Vocabulary of words can be printed by 'vectorizer.get_feature_names()'. <br>\n",
    "You can also print out stop words by 'vectorizer.stop_words()'"
   ]
  },
  {
   "cell_type": "markdown",
   "metadata": {},
   "source": [
    "#### <center>  Part 2 - Naive Bayes"
   ]
  },
  {
   "cell_type": "markdown",
   "metadata": {},
   "source": []
  },
  {
   "cell_type": "markdown",
   "metadata": {},
   "source": [
    "From Bayes' Theorem, we have:\n",
    "\n",
    "$$P(c \\vert f) = \\frac{P(c \\cap f)}{P(f)}$$\n",
    "\n",
    "where $c$ represents a *class* or category, and $f$ represents a feature vector, such as $\\bar V(d)$ as above. \n",
    "\n",
    "**We are computing the probability that a document (or whatever we are classifying) belongs to category *c* for given the features in the document.** \n",
    "\n",
    "In the above equation (bayes theorem), $P(f)$ is really just a normalization constant. Hence, according to Bayes literature, we can write Bayes' Theorem in context of Naive Bayes as\n",
    "\n",
    "$$P(c \\vert f) \\propto P(f \\vert c) P(c) $$\n",
    "\n",
    "$P(c)$ is called the <u> *prior* </u> and is simply the probability of $c$. \n",
    "\n",
    "But what is $P(f \\vert c)$? -- This is the probability of seeing feature set $f$ given that class $c$. This is called the *likelihood* and comes from the data. \n",
    "\n",
    "** Note:** One of the major assumptions of the Naive Bayes model is that the <u> features</u> are *conditionally independent* given the class. This is different than \"feature independence\".\n",
    "\n",
    "**Example:** The presence of a particular word may uniquely identify the document as being part of class $c$.... this violates general feature independence. However, conditional independence means that the presence of that term is independent of all the other words that appear *within that class*. This is a very important distinction. \n",
    "\n",
    "Recall that if two events are independent, then:\n",
    "\n",
    "$$P(A \\cap B) = P(A) \\cdot P(B)$$\n",
    "\n",
    "Thus, conditional independence implies\n",
    "\n",
    "$$P(f \\vert c)  = \\prod_i P(f_i | c) $$\n",
    "\n",
    "where $f_i$ is an individual feature (a word in this example).\n",
    "\n",
    "To make a classification, we then choose the class $c$ such that $P(c \\vert f)$ is maximal.\n",
    "\n",
    "There is a small caveat when computing these probabilities. For [floating point underflow](http://nlp.stanford.edu/IR-book/html/htmledition/naive-bayes-text-classification-1.html) we change the product into a sum by going into log space. This is called the LogSumExp trick. So:\n",
    "\n",
    "$$\\log P(f \\vert c)  = \\sum_i \\log P(f_i \\vert c) $$\n",
    "\n",
    "There is another caveat. What if we see a term that didn't exist in the training data? This means that $P(f_i \\vert c) = 0$ for that term, and thus $P(f \\vert c)  = \\prod_i P(f_i | c) = 0$, which doesn't help us at all. \n",
    "\n",
    "So, instead of using zeros, we add a small negligible value called $\\alpha$ to each count. This is called Laplace Smoothing.\n",
    "\n",
    "$$P(f_i \\vert c) = \\frac{N_{ic}+\\alpha}{N_c + \\alpha N_i}$$\n",
    "\n",
    "where $N_{ic}$ is the number of times feature $i$ was seen in class $c$, <br> \n",
    "$N_c$ is the number of times class $c$ was seen and  <br> \n",
    "$N_i$ is the number of times feature $i$ was seen globally.  <br> \n",
    "$\\alpha$ is sometimes called a regularization parameter."
   ]
  },
  {
   "cell_type": "code",
   "execution_count": null,
   "metadata": {
    "collapsed": true
   },
   "outputs": [],
   "source": []
  },
  {
   "cell_type": "markdown",
   "metadata": {},
   "source": [
    "### Types of Naive Bayes Classifier:\n",
    "\n",
    "**Multinomial Naive Bayes:**\n",
    "This is mostly used for document classification problem, i.e whether a document belongs to the category of sports, politics, technology etc. The features/predictors used by the classifier are the frequency of the words present in the document.\n",
    "\n",
    "**Bernoulli Naive Bayes:**\n",
    "This is similar to the multinomial naive bayes but the predictors are boolean variables. The parameters that we use to predict the class variable take up only values yes or no, for example if a word occurs in the text or not.\n",
    "\n",
    "**Gaussian Naive Bayes:**\n",
    "When the predictors take up a continuous value and are not discrete, we assume that these values are sampled from a gaussian distribution."
   ]
  },
  {
   "cell_type": "code",
   "execution_count": null,
   "metadata": {
    "collapsed": true
   },
   "outputs": [],
   "source": []
  },
  {
   "cell_type": "markdown",
   "metadata": {},
   "source": [
    "### Multinomial Naive Bayes and Other Likelihood Functions\n",
    "\n",
    "Since we are modeling word counts, we are using variation of Naive Bayes called Multinomial Naive Bayes. This is because the likelihood function actually takes the form of the multinomial distribution.\n",
    "\n",
    "$$P(f \\vert c) = \\frac{\\left( \\sum_i f_i \\right)!}{\\prod_i f_i!} \\prod_{f_i} P(f_i \\vert c)^{f_i} \\propto \\prod_{i} P(f_i \\vert c)$$\n",
    "\n",
    "where the nasty term out front is absorbed as a normalization constant such that probabilities sum to 1.\n",
    "\n",
    "There are many other variations of Naive Bayes, all which depend on what type of value $f_i$ takes. If $f_i$ is continuous, we may be able to use *Gaussian Naive Bayes*. First compute the mean and variance for each class $c$. Then the likelihood, $P(f \\vert c)$ is given as follows\n",
    "\n",
    "$$P(f_i = v \\vert c) = \\frac{1}{\\sqrt{2\\pi \\sigma^2_c}} e^{- \\frac{\\left( v - \\mu_c \\right)^2}{2 \\sigma^2_c}}$$"
   ]
  },
  {
   "cell_type": "markdown",
   "metadata": {},
   "source": [
    "## 2. Rotten Tomatoes Dataset"
   ]
  },
  {
   "cell_type": "markdown",
   "metadata": {},
   "source": [
    "In this project, I'll be analyzing movie reviews to determine whether movies are good or bad.\n",
    "\n",
    "Rotten Tomatoes aggregates movie reviews from a large number of critics. Each movie is given a quantitative score on the Tomatometer which is used to classify the movie as either Fresh (good) or Rotten (bad).\n",
    "\n",
    "Aim of this project is to build a classifier that determines if a movie is good (Fresh) or bad (Rotten) based on the contents of the reviews."
   ]
  },
  {
   "cell_type": "markdown",
   "metadata": {},
   "source": [
    "### a. Data Preprocessing"
   ]
  },
  {
   "cell_type": "code",
   "execution_count": 8,
   "metadata": {
    "collapsed": true
   },
   "outputs": [],
   "source": [
    "# Necessary imports\n",
    "%matplotlib inline\n",
    "\n",
    "from  sklearn.model_selection import cross_val_score\n",
    "from sklearn.model_selection import train_test_split\n",
    "from sklearn.naive_bayes import MultinomialNB\n",
    "from sklearn.feature_extraction.text import CountVectorizer\n",
    "from sklearn.metrics import mean_squared_error\n",
    "from sklearn.preprocessing import StandardScaler\n",
    "from sklearn.decomposition import PCA\n",
    "\n",
    "import pandas as pd\n",
    "import numpy as np\n",
    "import seaborn as sns\n",
    "import matplotlib.pyplot as plt\n",
    "import sklearn\n",
    "import statsmodels.formula.api as smf"
   ]
  },
  {
   "cell_type": "code",
   "execution_count": 9,
   "metadata": {
    "collapsed": true
   },
   "outputs": [],
   "source": [
    "# Setting Pandas\n",
    "pd.set_option('display.width', 500)\n",
    "pd.set_option('display.max_columns', 100)\n",
    "pd.set_option('display.notebook_repr_html', True)\n",
    "\n",
    "# Setting Seaborn\n",
    "sns.set_style(\"whitegrid\")\n",
    "sns.set_context(\"poster\")"
   ]
  },
  {
   "cell_type": "code",
   "execution_count": 10,
   "metadata": {
    "collapsed": true
   },
   "outputs": [],
   "source": [
    "# Reading critics\n",
    "critics = pd.read_csv('data/critics.csv')"
   ]
  },
  {
   "cell_type": "code",
   "execution_count": 11,
   "metadata": {},
   "outputs": [
    {
     "name": "stdout",
     "output_type": "stream",
     "text": [
      "<class 'pandas.core.frame.DataFrame'>\n",
      "RangeIndex: 27631 entries, 0 to 27630\n",
      "Data columns (total 8 columns):\n",
      "critic         23740 non-null object\n",
      "fresh          27631 non-null object\n",
      "imdb           27631 non-null int64\n",
      "publication    27631 non-null object\n",
      "quote          15561 non-null object\n",
      "review_date    27631 non-null object\n",
      "rtid           27631 non-null int64\n",
      "title          27631 non-null object\n",
      "dtypes: int64(2), object(6)\n",
      "memory usage: 1.7+ MB\n"
     ]
    }
   ],
   "source": [
    "critics.info()"
   ]
  },
  {
   "cell_type": "markdown",
   "metadata": {},
   "source": [
    "Looks like there are few NaN values in 'quote' column."
   ]
  },
  {
   "cell_type": "code",
   "execution_count": 12,
   "metadata": {},
   "outputs": [
    {
     "data": {
      "text/html": [
       "<div>\n",
       "<style>\n",
       "    .dataframe thead tr:only-child th {\n",
       "        text-align: right;\n",
       "    }\n",
       "\n",
       "    .dataframe thead th {\n",
       "        text-align: left;\n",
       "    }\n",
       "\n",
       "    .dataframe tbody tr th {\n",
       "        vertical-align: top;\n",
       "    }\n",
       "</style>\n",
       "<table border=\"1\" class=\"dataframe\">\n",
       "  <thead>\n",
       "    <tr style=\"text-align: right;\">\n",
       "      <th></th>\n",
       "      <th>critic</th>\n",
       "      <th>fresh</th>\n",
       "      <th>imdb</th>\n",
       "      <th>publication</th>\n",
       "      <th>quote</th>\n",
       "      <th>review_date</th>\n",
       "      <th>rtid</th>\n",
       "      <th>title</th>\n",
       "    </tr>\n",
       "  </thead>\n",
       "  <tbody>\n",
       "    <tr>\n",
       "      <th>1</th>\n",
       "      <td>Derek Adams</td>\n",
       "      <td>fresh</td>\n",
       "      <td>114709</td>\n",
       "      <td>Time Out</td>\n",
       "      <td>So ingenious in concept, design and execution ...</td>\n",
       "      <td>2009-10-04</td>\n",
       "      <td>9559</td>\n",
       "      <td>Toy story</td>\n",
       "    </tr>\n",
       "    <tr>\n",
       "      <th>2</th>\n",
       "      <td>Richard Corliss</td>\n",
       "      <td>fresh</td>\n",
       "      <td>114709</td>\n",
       "      <td>TIME Magazine</td>\n",
       "      <td>The year's most inventive comedy.</td>\n",
       "      <td>2008-08-31</td>\n",
       "      <td>9559</td>\n",
       "      <td>Toy story</td>\n",
       "    </tr>\n",
       "    <tr>\n",
       "      <th>3</th>\n",
       "      <td>David Ansen</td>\n",
       "      <td>fresh</td>\n",
       "      <td>114709</td>\n",
       "      <td>Newsweek</td>\n",
       "      <td>A winning animated feature that has something ...</td>\n",
       "      <td>2008-08-18</td>\n",
       "      <td>9559</td>\n",
       "      <td>Toy story</td>\n",
       "    </tr>\n",
       "    <tr>\n",
       "      <th>4</th>\n",
       "      <td>Leonard Klady</td>\n",
       "      <td>fresh</td>\n",
       "      <td>114709</td>\n",
       "      <td>Variety</td>\n",
       "      <td>The film sports a provocative and appealing st...</td>\n",
       "      <td>2008-06-09</td>\n",
       "      <td>9559</td>\n",
       "      <td>Toy story</td>\n",
       "    </tr>\n",
       "    <tr>\n",
       "      <th>5</th>\n",
       "      <td>Jonathan Rosenbaum</td>\n",
       "      <td>fresh</td>\n",
       "      <td>114709</td>\n",
       "      <td>Chicago Reader</td>\n",
       "      <td>An entertaining computer-generated, hyperreali...</td>\n",
       "      <td>2008-03-10</td>\n",
       "      <td>9559</td>\n",
       "      <td>Toy story</td>\n",
       "    </tr>\n",
       "  </tbody>\n",
       "</table>\n",
       "</div>"
      ],
      "text/plain": [
       "               critic  fresh    imdb     publication                                              quote review_date  rtid      title\n",
       "1         Derek Adams  fresh  114709        Time Out  So ingenious in concept, design and execution ...  2009-10-04  9559  Toy story\n",
       "2     Richard Corliss  fresh  114709   TIME Magazine                  The year's most inventive comedy.  2008-08-31  9559  Toy story\n",
       "3         David Ansen  fresh  114709        Newsweek  A winning animated feature that has something ...  2008-08-18  9559  Toy story\n",
       "4       Leonard Klady  fresh  114709         Variety  The film sports a provocative and appealing st...  2008-06-09  9559  Toy story\n",
       "5  Jonathan Rosenbaum  fresh  114709  Chicago Reader  An entertaining computer-generated, hyperreali...  2008-03-10  9559  Toy story"
      ]
     },
     "execution_count": 12,
     "metadata": {},
     "output_type": "execute_result"
    }
   ],
   "source": [
    "# Dropping rows with NaN values\n",
    "critics = critics[pd.notnull(critics['quote'])]\n",
    "critics.head()"
   ]
  },
  {
   "cell_type": "markdown",
   "metadata": {},
   "source": [
    "### b. Explore"
   ]
  },
  {
   "cell_type": "code",
   "execution_count": 13,
   "metadata": {
    "collapsed": true
   },
   "outputs": [],
   "source": [
    "# Counting number of reviews, movies and critics\n",
    "n_reviews = len(critics)\n",
    "n_quotes = critics.quote.unique().size\n",
    "n_movies = critics.rtid.unique().size\n",
    "n_critics = critics.critic.unique().size"
   ]
  },
  {
   "cell_type": "code",
   "execution_count": 14,
   "metadata": {},
   "outputs": [
    {
     "name": "stdout",
     "output_type": "stream",
     "text": [
      "Number of reviews: 15561\n",
      "Number of critics: 623\n",
      "Number of movies:  1921\n",
      "Number of movies:  15546\n"
     ]
    }
   ],
   "source": [
    "print(\"Number of reviews: %i\" % n_reviews)\n",
    "print(\"Number of critics: %i\" % n_critics)\n",
    "print(\"Number of movies:  %i\" % n_movies)\n",
    "print(\"Number of movies:  %i\" % n_quotes)"
   ]
  },
  {
   "cell_type": "markdown",
   "metadata": {},
   "source": [
    "Let's go ahead and calculate the number of reviews by each critic and the average freshness of the critic."
   ]
  },
  {
   "cell_type": "code",
   "execution_count": 15,
   "metadata": {
    "collapsed": true
   },
   "outputs": [],
   "source": [
    "df = critics.copy()\n",
    "df['fresh'] = (df['fresh']=='fresh')"
   ]
  },
  {
   "cell_type": "code",
   "execution_count": 16,
   "metadata": {
    "scrolled": true
   },
   "outputs": [
    {
     "data": {
      "text/html": [
       "<div>\n",
       "<style>\n",
       "    .dataframe thead tr:only-child th {\n",
       "        text-align: right;\n",
       "    }\n",
       "\n",
       "    .dataframe thead th {\n",
       "        text-align: left;\n",
       "    }\n",
       "\n",
       "    .dataframe tbody tr th {\n",
       "        vertical-align: top;\n",
       "    }\n",
       "</style>\n",
       "<table border=\"1\" class=\"dataframe\">\n",
       "  <thead>\n",
       "    <tr style=\"text-align: right;\">\n",
       "      <th></th>\n",
       "      <th>critic</th>\n",
       "      <th>fresh</th>\n",
       "      <th>imdb</th>\n",
       "      <th>publication</th>\n",
       "      <th>quote</th>\n",
       "      <th>review_date</th>\n",
       "      <th>rtid</th>\n",
       "      <th>title</th>\n",
       "    </tr>\n",
       "  </thead>\n",
       "  <tbody>\n",
       "    <tr>\n",
       "      <th>1</th>\n",
       "      <td>Derek Adams</td>\n",
       "      <td>True</td>\n",
       "      <td>114709</td>\n",
       "      <td>Time Out</td>\n",
       "      <td>So ingenious in concept, design and execution ...</td>\n",
       "      <td>2009-10-04</td>\n",
       "      <td>9559</td>\n",
       "      <td>Toy story</td>\n",
       "    </tr>\n",
       "    <tr>\n",
       "      <th>2</th>\n",
       "      <td>Richard Corliss</td>\n",
       "      <td>True</td>\n",
       "      <td>114709</td>\n",
       "      <td>TIME Magazine</td>\n",
       "      <td>The year's most inventive comedy.</td>\n",
       "      <td>2008-08-31</td>\n",
       "      <td>9559</td>\n",
       "      <td>Toy story</td>\n",
       "    </tr>\n",
       "    <tr>\n",
       "      <th>3</th>\n",
       "      <td>David Ansen</td>\n",
       "      <td>True</td>\n",
       "      <td>114709</td>\n",
       "      <td>Newsweek</td>\n",
       "      <td>A winning animated feature that has something ...</td>\n",
       "      <td>2008-08-18</td>\n",
       "      <td>9559</td>\n",
       "      <td>Toy story</td>\n",
       "    </tr>\n",
       "    <tr>\n",
       "      <th>4</th>\n",
       "      <td>Leonard Klady</td>\n",
       "      <td>True</td>\n",
       "      <td>114709</td>\n",
       "      <td>Variety</td>\n",
       "      <td>The film sports a provocative and appealing st...</td>\n",
       "      <td>2008-06-09</td>\n",
       "      <td>9559</td>\n",
       "      <td>Toy story</td>\n",
       "    </tr>\n",
       "    <tr>\n",
       "      <th>5</th>\n",
       "      <td>Jonathan Rosenbaum</td>\n",
       "      <td>True</td>\n",
       "      <td>114709</td>\n",
       "      <td>Chicago Reader</td>\n",
       "      <td>An entertaining computer-generated, hyperreali...</td>\n",
       "      <td>2008-03-10</td>\n",
       "      <td>9559</td>\n",
       "      <td>Toy story</td>\n",
       "    </tr>\n",
       "    <tr>\n",
       "      <th>6</th>\n",
       "      <td>Michael Booth</td>\n",
       "      <td>True</td>\n",
       "      <td>114709</td>\n",
       "      <td>Denver Post</td>\n",
       "      <td>As Lion King did before it, Toy Story revived ...</td>\n",
       "      <td>2007-05-03</td>\n",
       "      <td>9559</td>\n",
       "      <td>Toy story</td>\n",
       "    </tr>\n",
       "    <tr>\n",
       "      <th>7</th>\n",
       "      <td>Geoff Andrew</td>\n",
       "      <td>True</td>\n",
       "      <td>114709</td>\n",
       "      <td>Time Out</td>\n",
       "      <td>The film will probably be more fully appreciat...</td>\n",
       "      <td>2006-06-24</td>\n",
       "      <td>9559</td>\n",
       "      <td>Toy story</td>\n",
       "    </tr>\n",
       "    <tr>\n",
       "      <th>8</th>\n",
       "      <td>Janet Maslin</td>\n",
       "      <td>True</td>\n",
       "      <td>114709</td>\n",
       "      <td>New York Times</td>\n",
       "      <td>Children will enjoy a new take on the irresist...</td>\n",
       "      <td>2003-05-20</td>\n",
       "      <td>9559</td>\n",
       "      <td>Toy story</td>\n",
       "    </tr>\n",
       "    <tr>\n",
       "      <th>9</th>\n",
       "      <td>Kenneth Turan</td>\n",
       "      <td>True</td>\n",
       "      <td>114709</td>\n",
       "      <td>Los Angeles Times</td>\n",
       "      <td>Although its computer-generated imagery is imp...</td>\n",
       "      <td>2001-02-13</td>\n",
       "      <td>9559</td>\n",
       "      <td>Toy story</td>\n",
       "    </tr>\n",
       "    <tr>\n",
       "      <th>10</th>\n",
       "      <td>Susan Wloszczyna</td>\n",
       "      <td>True</td>\n",
       "      <td>114709</td>\n",
       "      <td>USA Today</td>\n",
       "      <td>How perfect that two of the most popular funny...</td>\n",
       "      <td>2000-01-01</td>\n",
       "      <td>9559</td>\n",
       "      <td>Toy story</td>\n",
       "    </tr>\n",
       "    <tr>\n",
       "      <th>11</th>\n",
       "      <td>Roger Ebert</td>\n",
       "      <td>True</td>\n",
       "      <td>114709</td>\n",
       "      <td>Chicago Sun-Times</td>\n",
       "      <td>The result is a visionary roller-coaster ride ...</td>\n",
       "      <td>2000-01-01</td>\n",
       "      <td>9559</td>\n",
       "      <td>Toy story</td>\n",
       "    </tr>\n",
       "    <tr>\n",
       "      <th>12</th>\n",
       "      <td>John Hartl</td>\n",
       "      <td>True</td>\n",
       "      <td>114709</td>\n",
       "      <td>Film.com</td>\n",
       "      <td>Disney's witty, wondrously imaginative, all-co...</td>\n",
       "      <td>2000-01-01</td>\n",
       "      <td>9559</td>\n",
       "      <td>Toy story</td>\n",
       "    </tr>\n",
       "    <tr>\n",
       "      <th>13</th>\n",
       "      <td>Susan Stark</td>\n",
       "      <td>True</td>\n",
       "      <td>114709</td>\n",
       "      <td>Detroit News</td>\n",
       "      <td>Disney's first computer-made animated feature ...</td>\n",
       "      <td>2000-01-01</td>\n",
       "      <td>9559</td>\n",
       "      <td>Toy story</td>\n",
       "    </tr>\n",
       "    <tr>\n",
       "      <th>14</th>\n",
       "      <td>Peter Stack</td>\n",
       "      <td>True</td>\n",
       "      <td>114709</td>\n",
       "      <td>San Francisco Chronicle</td>\n",
       "      <td>The script, by Lasseter, Pete Docter, Andrew S...</td>\n",
       "      <td>2000-01-01</td>\n",
       "      <td>9559</td>\n",
       "      <td>Toy story</td>\n",
       "    </tr>\n",
       "    <tr>\n",
       "      <th>15</th>\n",
       "      <td>James Berardinelli</td>\n",
       "      <td>True</td>\n",
       "      <td>114709</td>\n",
       "      <td>ReelViews</td>\n",
       "      <td>The one big negative about Toy Story involves ...</td>\n",
       "      <td>2000-01-01</td>\n",
       "      <td>9559</td>\n",
       "      <td>Toy story</td>\n",
       "    </tr>\n",
       "    <tr>\n",
       "      <th>16</th>\n",
       "      <td>Sean Means</td>\n",
       "      <td>True</td>\n",
       "      <td>114709</td>\n",
       "      <td>Film.com</td>\n",
       "      <td>Technically, Toy Story is nearly flawless.</td>\n",
       "      <td>2000-01-01</td>\n",
       "      <td>9559</td>\n",
       "      <td>Toy story</td>\n",
       "    </tr>\n",
       "    <tr>\n",
       "      <th>17</th>\n",
       "      <td>Rita Kempley</td>\n",
       "      <td>True</td>\n",
       "      <td>114709</td>\n",
       "      <td>Washington Post</td>\n",
       "      <td>It's a nice change of pace to see the studio d...</td>\n",
       "      <td>2000-01-01</td>\n",
       "      <td>9559</td>\n",
       "      <td>Toy story</td>\n",
       "    </tr>\n",
       "    <tr>\n",
       "      <th>18</th>\n",
       "      <td>NaN</td>\n",
       "      <td>True</td>\n",
       "      <td>114709</td>\n",
       "      <td>Entertainment Weekly</td>\n",
       "      <td>I can hardly imagine having more fun at the mo...</td>\n",
       "      <td>1995-11-22</td>\n",
       "      <td>9559</td>\n",
       "      <td>Toy story</td>\n",
       "    </tr>\n",
       "    <tr>\n",
       "      <th>19</th>\n",
       "      <td>Roger Moore</td>\n",
       "      <td>True</td>\n",
       "      <td>114709</td>\n",
       "      <td>Orlando Sentinel</td>\n",
       "      <td>The great voice acting, the visual puns, all a...</td>\n",
       "      <td>1995-11-22</td>\n",
       "      <td>9559</td>\n",
       "      <td>Toy story</td>\n",
       "    </tr>\n",
       "    <tr>\n",
       "      <th>30</th>\n",
       "      <td>Roger Ebert</td>\n",
       "      <td>False</td>\n",
       "      <td>113497</td>\n",
       "      <td>Chicago Sun-Times</td>\n",
       "      <td>A gloomy special-effects extravaganza filled w...</td>\n",
       "      <td>2000-01-01</td>\n",
       "      <td>12436</td>\n",
       "      <td>Jumanji</td>\n",
       "    </tr>\n",
       "    <tr>\n",
       "      <th>32</th>\n",
       "      <td>NaN</td>\n",
       "      <td>True</td>\n",
       "      <td>113497</td>\n",
       "      <td>USA Today</td>\n",
       "      <td>A calculated but very entertaining special eff...</td>\n",
       "      <td>2000-01-01</td>\n",
       "      <td>12436</td>\n",
       "      <td>Jumanji</td>\n",
       "    </tr>\n",
       "    <tr>\n",
       "      <th>36</th>\n",
       "      <td>Richard Schickel</td>\n",
       "      <td>True</td>\n",
       "      <td>107050</td>\n",
       "      <td>TIME Magazine</td>\n",
       "      <td>Walter Matthau and Jack Lemmon are awfully goo...</td>\n",
       "      <td>2008-08-24</td>\n",
       "      <td>10498</td>\n",
       "      <td>Grumpy Old Men</td>\n",
       "    </tr>\n",
       "    <tr>\n",
       "      <th>37</th>\n",
       "      <td>Derek Adams</td>\n",
       "      <td>False</td>\n",
       "      <td>107050</td>\n",
       "      <td>Time Out</td>\n",
       "      <td>Mediocre, regrettably.</td>\n",
       "      <td>2006-06-24</td>\n",
       "      <td>10498</td>\n",
       "      <td>Grumpy Old Men</td>\n",
       "    </tr>\n",
       "    <tr>\n",
       "      <th>38</th>\n",
       "      <td>Caryn James</td>\n",
       "      <td>True</td>\n",
       "      <td>107050</td>\n",
       "      <td>New York Times</td>\n",
       "      <td>Just don't expect their bickering to be on the...</td>\n",
       "      <td>2003-05-20</td>\n",
       "      <td>10498</td>\n",
       "      <td>Grumpy Old Men</td>\n",
       "    </tr>\n",
       "    <tr>\n",
       "      <th>39</th>\n",
       "      <td>James Berardinelli</td>\n",
       "      <td>True</td>\n",
       "      <td>107050</td>\n",
       "      <td>ReelViews</td>\n",
       "      <td>While it won't come close to my top 10 best li...</td>\n",
       "      <td>2000-01-01</td>\n",
       "      <td>10498</td>\n",
       "      <td>Grumpy Old Men</td>\n",
       "    </tr>\n",
       "    <tr>\n",
       "      <th>40</th>\n",
       "      <td>Roger Ebert</td>\n",
       "      <td>False</td>\n",
       "      <td>107050</td>\n",
       "      <td>Chicago Sun-Times</td>\n",
       "      <td>The movie is too pat and practiced to really b...</td>\n",
       "      <td>2000-01-01</td>\n",
       "      <td>10498</td>\n",
       "      <td>Grumpy Old Men</td>\n",
       "    </tr>\n",
       "    <tr>\n",
       "      <th>41</th>\n",
       "      <td>Desson Thomson</td>\n",
       "      <td>True</td>\n",
       "      <td>107050</td>\n",
       "      <td>Washington Post</td>\n",
       "      <td>If you poke through Grumpy's cheap sentimental...</td>\n",
       "      <td>2000-01-01</td>\n",
       "      <td>10498</td>\n",
       "      <td>Grumpy Old Men</td>\n",
       "    </tr>\n",
       "    <tr>\n",
       "      <th>47</th>\n",
       "      <td>Liam Lacey</td>\n",
       "      <td>False</td>\n",
       "      <td>114885</td>\n",
       "      <td>Globe and Mail</td>\n",
       "      <td>Never escapes the queasy aura of Melrose Place...</td>\n",
       "      <td>2002-04-12</td>\n",
       "      <td>16697</td>\n",
       "      <td>Waiting to Exhale</td>\n",
       "    </tr>\n",
       "    <tr>\n",
       "      <th>48</th>\n",
       "      <td>Kenneth Turan</td>\n",
       "      <td>True</td>\n",
       "      <td>114885</td>\n",
       "      <td>Los Angeles Times</td>\n",
       "      <td>A pleasant if undemanding piece of work that i...</td>\n",
       "      <td>2001-02-13</td>\n",
       "      <td>16697</td>\n",
       "      <td>Waiting to Exhale</td>\n",
       "    </tr>\n",
       "    <tr>\n",
       "      <th>49</th>\n",
       "      <td>Edward Guthmann</td>\n",
       "      <td>False</td>\n",
       "      <td>114885</td>\n",
       "      <td>San Francisco Chronicle</td>\n",
       "      <td>You want the movie to stomp and rejoice and cr...</td>\n",
       "      <td>2000-01-01</td>\n",
       "      <td>16697</td>\n",
       "      <td>Waiting to Exhale</td>\n",
       "    </tr>\n",
       "    <tr>\n",
       "      <th>...</th>\n",
       "      <td>...</td>\n",
       "      <td>...</td>\n",
       "      <td>...</td>\n",
       "      <td>...</td>\n",
       "      <td>...</td>\n",
       "      <td>...</td>\n",
       "      <td>...</td>\n",
       "      <td>...</td>\n",
       "    </tr>\n",
       "    <tr>\n",
       "      <th>27560</th>\n",
       "      <td>Jonathan Rosenbaum</td>\n",
       "      <td>True</td>\n",
       "      <td>94347</td>\n",
       "      <td>Chicago Reader</td>\n",
       "      <td>Although most of this is rather familiar stuff...</td>\n",
       "      <td>2000-01-01</td>\n",
       "      <td>770674061</td>\n",
       "      <td>The Year My Voice Broke</td>\n",
       "    </tr>\n",
       "    <tr>\n",
       "      <th>27561</th>\n",
       "      <td>Hal Hinson</td>\n",
       "      <td>True</td>\n",
       "      <td>94347</td>\n",
       "      <td>Washington Post</td>\n",
       "      <td>This isn't an adolescent wish-fulfillment fant...</td>\n",
       "      <td>2000-01-01</td>\n",
       "      <td>770674061</td>\n",
       "      <td>The Year My Voice Broke</td>\n",
       "    </tr>\n",
       "    <tr>\n",
       "      <th>27563</th>\n",
       "      <td>NaN</td>\n",
       "      <td>False</td>\n",
       "      <td>55471</td>\n",
       "      <td>Time Out</td>\n",
       "      <td>A complicated film that never really successfu...</td>\n",
       "      <td>2006-02-09</td>\n",
       "      <td>18436</td>\n",
       "      <td>Splendor in the Grass</td>\n",
       "    </tr>\n",
       "    <tr>\n",
       "      <th>27566</th>\n",
       "      <td>Pat Graham</td>\n",
       "      <td>False</td>\n",
       "      <td>63185</td>\n",
       "      <td>Chicago Reader</td>\n",
       "      <td>Robert Aldrich's \"daring\" 1968 mating of lesbi...</td>\n",
       "      <td>2009-04-24</td>\n",
       "      <td>747403171</td>\n",
       "      <td>The Killing of Sister George</td>\n",
       "    </tr>\n",
       "    <tr>\n",
       "      <th>27570</th>\n",
       "      <td>Dave Kehr</td>\n",
       "      <td>True</td>\n",
       "      <td>40506</td>\n",
       "      <td>Chicago Reader</td>\n",
       "      <td>A little windy and rhetorical for my taste, bu...</td>\n",
       "      <td>2008-04-08</td>\n",
       "      <td>18375</td>\n",
       "      <td>Key Largo</td>\n",
       "    </tr>\n",
       "    <tr>\n",
       "      <th>27571</th>\n",
       "      <td>Variety Staff</td>\n",
       "      <td>True</td>\n",
       "      <td>40506</td>\n",
       "      <td>Variety</td>\n",
       "      <td>Emphasis is on tension in the telling, and eff...</td>\n",
       "      <td>2008-04-08</td>\n",
       "      <td>18375</td>\n",
       "      <td>Key Largo</td>\n",
       "    </tr>\n",
       "    <tr>\n",
       "      <th>27572</th>\n",
       "      <td>Tom Milne</td>\n",
       "      <td>True</td>\n",
       "      <td>40506</td>\n",
       "      <td>Time Out</td>\n",
       "      <td>Although the characters are basically stereoty...</td>\n",
       "      <td>2006-06-24</td>\n",
       "      <td>18375</td>\n",
       "      <td>Key Largo</td>\n",
       "    </tr>\n",
       "    <tr>\n",
       "      <th>27573</th>\n",
       "      <td>Bosley Crowther</td>\n",
       "      <td>False</td>\n",
       "      <td>40506</td>\n",
       "      <td>New York Times</td>\n",
       "      <td>The script prepared by Mr. Huston and Richard ...</td>\n",
       "      <td>2006-03-25</td>\n",
       "      <td>18375</td>\n",
       "      <td>Key Largo</td>\n",
       "    </tr>\n",
       "    <tr>\n",
       "      <th>27574</th>\n",
       "      <td>Bob Longino</td>\n",
       "      <td>True</td>\n",
       "      <td>364435</td>\n",
       "      <td>Atlanta Journal-Constitution</td>\n",
       "      <td>Disturbing and affecting.</td>\n",
       "      <td>2006-08-31</td>\n",
       "      <td>748169836</td>\n",
       "      <td>Jailbait</td>\n",
       "    </tr>\n",
       "    <tr>\n",
       "      <th>27575</th>\n",
       "      <td>Carrie Rickey</td>\n",
       "      <td>False</td>\n",
       "      <td>364435</td>\n",
       "      <td>Philadelphia Inquirer</td>\n",
       "      <td>Claustrophobic and overwrought, Jailbait is an...</td>\n",
       "      <td>2006-08-18</td>\n",
       "      <td>748169836</td>\n",
       "      <td>Jailbait</td>\n",
       "    </tr>\n",
       "    <tr>\n",
       "      <th>27576</th>\n",
       "      <td>Frank Scheck</td>\n",
       "      <td>False</td>\n",
       "      <td>364435</td>\n",
       "      <td>Hollywood Reporter</td>\n",
       "      <td>While the stars deliver highly committed perfo...</td>\n",
       "      <td>2006-08-17</td>\n",
       "      <td>748169836</td>\n",
       "      <td>Jailbait</td>\n",
       "    </tr>\n",
       "    <tr>\n",
       "      <th>27577</th>\n",
       "      <td>Laura Kern</td>\n",
       "      <td>False</td>\n",
       "      <td>364435</td>\n",
       "      <td>New York Times</td>\n",
       "      <td>A stagy, only mildly compelling prison drama t...</td>\n",
       "      <td>2006-08-04</td>\n",
       "      <td>748169836</td>\n",
       "      <td>Jailbait</td>\n",
       "    </tr>\n",
       "    <tr>\n",
       "      <th>27578</th>\n",
       "      <td>Lou Lumenick</td>\n",
       "      <td>False</td>\n",
       "      <td>364435</td>\n",
       "      <td>New York Post</td>\n",
       "      <td>I wouldn't have thought it was possible to mak...</td>\n",
       "      <td>2006-08-04</td>\n",
       "      <td>748169836</td>\n",
       "      <td>Jailbait</td>\n",
       "    </tr>\n",
       "    <tr>\n",
       "      <th>27579</th>\n",
       "      <td>Jack Mathews</td>\n",
       "      <td>False</td>\n",
       "      <td>364435</td>\n",
       "      <td>New York Daily News</td>\n",
       "      <td>The cruelty of the law has been better demonst...</td>\n",
       "      <td>2006-08-04</td>\n",
       "      <td>748169836</td>\n",
       "      <td>Jailbait</td>\n",
       "    </tr>\n",
       "    <tr>\n",
       "      <th>27580</th>\n",
       "      <td>Jim Ridley</td>\n",
       "      <td>False</td>\n",
       "      <td>364435</td>\n",
       "      <td>Village Voice</td>\n",
       "      <td>... the umpteenth prison drama to focus on the...</td>\n",
       "      <td>2006-08-02</td>\n",
       "      <td>748169836</td>\n",
       "      <td>Jailbait</td>\n",
       "    </tr>\n",
       "    <tr>\n",
       "      <th>27593</th>\n",
       "      <td>Vincent Canby</td>\n",
       "      <td>False</td>\n",
       "      <td>74695</td>\n",
       "      <td>New York Times</td>\n",
       "      <td>Mr. Peckinpah's least interesting, least perso...</td>\n",
       "      <td>2005-05-09</td>\n",
       "      <td>13694</td>\n",
       "      <td>Cross of Iron</td>\n",
       "    </tr>\n",
       "    <tr>\n",
       "      <th>27595</th>\n",
       "      <td>Dave Kehr</td>\n",
       "      <td>False</td>\n",
       "      <td>42276</td>\n",
       "      <td>Chicago Reader</td>\n",
       "      <td>George Cukor directed, a little impersonally f...</td>\n",
       "      <td>2008-01-11</td>\n",
       "      <td>18781</td>\n",
       "      <td>Born Yesterday</td>\n",
       "    </tr>\n",
       "    <tr>\n",
       "      <th>27596</th>\n",
       "      <td>NaN</td>\n",
       "      <td>True</td>\n",
       "      <td>42276</td>\n",
       "      <td>Time Out</td>\n",
       "      <td>Magic.</td>\n",
       "      <td>2006-06-24</td>\n",
       "      <td>18781</td>\n",
       "      <td>Born Yesterday</td>\n",
       "    </tr>\n",
       "    <tr>\n",
       "      <th>27597</th>\n",
       "      <td>Bosley Crowther</td>\n",
       "      <td>True</td>\n",
       "      <td>42276</td>\n",
       "      <td>New York Times</td>\n",
       "      <td>More firm in its social implications than ever...</td>\n",
       "      <td>2003-05-20</td>\n",
       "      <td>18781</td>\n",
       "      <td>Born Yesterday</td>\n",
       "    </tr>\n",
       "    <tr>\n",
       "      <th>27598</th>\n",
       "      <td>Variety Staff</td>\n",
       "      <td>False</td>\n",
       "      <td>86969</td>\n",
       "      <td>Variety</td>\n",
       "      <td>Belying the lightheartedness of its title, Bir...</td>\n",
       "      <td>2008-09-16</td>\n",
       "      <td>15889</td>\n",
       "      <td>Birdy</td>\n",
       "    </tr>\n",
       "    <tr>\n",
       "      <th>27599</th>\n",
       "      <td>NaN</td>\n",
       "      <td>True</td>\n",
       "      <td>86969</td>\n",
       "      <td>Time Out</td>\n",
       "      <td>A trifle self-indulgent -- well, it is directe...</td>\n",
       "      <td>2006-02-09</td>\n",
       "      <td>15889</td>\n",
       "      <td>Birdy</td>\n",
       "    </tr>\n",
       "    <tr>\n",
       "      <th>27600</th>\n",
       "      <td>Roger Ebert</td>\n",
       "      <td>True</td>\n",
       "      <td>86969</td>\n",
       "      <td>Chicago Sun-Times</td>\n",
       "      <td>A very strange and beautiful movie.</td>\n",
       "      <td>2004-10-23</td>\n",
       "      <td>15889</td>\n",
       "      <td>Birdy</td>\n",
       "    </tr>\n",
       "    <tr>\n",
       "      <th>27601</th>\n",
       "      <td>Janet Maslin</td>\n",
       "      <td>True</td>\n",
       "      <td>86969</td>\n",
       "      <td>New York Times</td>\n",
       "      <td>Most of Birdy is enchanting.</td>\n",
       "      <td>2003-05-20</td>\n",
       "      <td>15889</td>\n",
       "      <td>Birdy</td>\n",
       "    </tr>\n",
       "    <tr>\n",
       "      <th>27603</th>\n",
       "      <td>Bosley Crowther</td>\n",
       "      <td>False</td>\n",
       "      <td>49189</td>\n",
       "      <td>New York Times</td>\n",
       "      <td>We can't recommend this little item as a sampl...</td>\n",
       "      <td>2006-10-30</td>\n",
       "      <td>11854</td>\n",
       "      <td>Et Dieu... créa la femme</td>\n",
       "    </tr>\n",
       "    <tr>\n",
       "      <th>27605</th>\n",
       "      <td>Richard Schickel</td>\n",
       "      <td>True</td>\n",
       "      <td>86005</td>\n",
       "      <td>TIME Magazine</td>\n",
       "      <td>Ballard and his masterly crew of film makers h...</td>\n",
       "      <td>2009-03-09</td>\n",
       "      <td>12606</td>\n",
       "      <td>Never Cry Wolf</td>\n",
       "    </tr>\n",
       "    <tr>\n",
       "      <th>27606</th>\n",
       "      <td>Ronald Holloway</td>\n",
       "      <td>True</td>\n",
       "      <td>86005</td>\n",
       "      <td>Variety</td>\n",
       "      <td>Measures up to the promise Ballard amply provi...</td>\n",
       "      <td>2008-07-23</td>\n",
       "      <td>12606</td>\n",
       "      <td>Never Cry Wolf</td>\n",
       "    </tr>\n",
       "    <tr>\n",
       "      <th>27607</th>\n",
       "      <td>NaN</td>\n",
       "      <td>True</td>\n",
       "      <td>86005</td>\n",
       "      <td>Time Out</td>\n",
       "      <td>For the most part very absorbing, the film suf...</td>\n",
       "      <td>2006-01-26</td>\n",
       "      <td>12606</td>\n",
       "      <td>Never Cry Wolf</td>\n",
       "    </tr>\n",
       "    <tr>\n",
       "      <th>27608</th>\n",
       "      <td>Vincent Canby</td>\n",
       "      <td>True</td>\n",
       "      <td>86005</td>\n",
       "      <td>New York Times</td>\n",
       "      <td>Perhaps the best thing about the film is that ...</td>\n",
       "      <td>2004-08-30</td>\n",
       "      <td>12606</td>\n",
       "      <td>Never Cry Wolf</td>\n",
       "    </tr>\n",
       "    <tr>\n",
       "      <th>27609</th>\n",
       "      <td>Dave Kehr</td>\n",
       "      <td>True</td>\n",
       "      <td>86005</td>\n",
       "      <td>Chicago Reader</td>\n",
       "      <td>The film is still memorable for its compassion...</td>\n",
       "      <td>2000-01-01</td>\n",
       "      <td>12606</td>\n",
       "      <td>Never Cry Wolf</td>\n",
       "    </tr>\n",
       "    <tr>\n",
       "      <th>27616</th>\n",
       "      <td>Don Druker</td>\n",
       "      <td>True</td>\n",
       "      <td>55353</td>\n",
       "      <td>Chicago Reader</td>\n",
       "      <td>It does have enough gritty insights and (for t...</td>\n",
       "      <td>2007-11-13</td>\n",
       "      <td>18541</td>\n",
       "      <td>A Raisin in the Sun</td>\n",
       "    </tr>\n",
       "  </tbody>\n",
       "</table>\n",
       "<p>15561 rows × 8 columns</p>\n",
       "</div>"
      ],
      "text/plain": [
       "                   critic  fresh    imdb                   publication                                              quote review_date       rtid                         title\n",
       "1             Derek Adams   True  114709                      Time Out  So ingenious in concept, design and execution ...  2009-10-04       9559                     Toy story\n",
       "2         Richard Corliss   True  114709                 TIME Magazine                  The year's most inventive comedy.  2008-08-31       9559                     Toy story\n",
       "3             David Ansen   True  114709                      Newsweek  A winning animated feature that has something ...  2008-08-18       9559                     Toy story\n",
       "4           Leonard Klady   True  114709                       Variety  The film sports a provocative and appealing st...  2008-06-09       9559                     Toy story\n",
       "5      Jonathan Rosenbaum   True  114709                Chicago Reader  An entertaining computer-generated, hyperreali...  2008-03-10       9559                     Toy story\n",
       "6           Michael Booth   True  114709                   Denver Post  As Lion King did before it, Toy Story revived ...  2007-05-03       9559                     Toy story\n",
       "7            Geoff Andrew   True  114709                      Time Out  The film will probably be more fully appreciat...  2006-06-24       9559                     Toy story\n",
       "8            Janet Maslin   True  114709                New York Times  Children will enjoy a new take on the irresist...  2003-05-20       9559                     Toy story\n",
       "9           Kenneth Turan   True  114709             Los Angeles Times  Although its computer-generated imagery is imp...  2001-02-13       9559                     Toy story\n",
       "10       Susan Wloszczyna   True  114709                     USA Today  How perfect that two of the most popular funny...  2000-01-01       9559                     Toy story\n",
       "11            Roger Ebert   True  114709             Chicago Sun-Times  The result is a visionary roller-coaster ride ...  2000-01-01       9559                     Toy story\n",
       "12             John Hartl   True  114709                      Film.com  Disney's witty, wondrously imaginative, all-co...  2000-01-01       9559                     Toy story\n",
       "13            Susan Stark   True  114709                  Detroit News  Disney's first computer-made animated feature ...  2000-01-01       9559                     Toy story\n",
       "14            Peter Stack   True  114709       San Francisco Chronicle  The script, by Lasseter, Pete Docter, Andrew S...  2000-01-01       9559                     Toy story\n",
       "15     James Berardinelli   True  114709                     ReelViews  The one big negative about Toy Story involves ...  2000-01-01       9559                     Toy story\n",
       "16             Sean Means   True  114709                      Film.com         Technically, Toy Story is nearly flawless.  2000-01-01       9559                     Toy story\n",
       "17           Rita Kempley   True  114709               Washington Post  It's a nice change of pace to see the studio d...  2000-01-01       9559                     Toy story\n",
       "18                    NaN   True  114709          Entertainment Weekly  I can hardly imagine having more fun at the mo...  1995-11-22       9559                     Toy story\n",
       "19            Roger Moore   True  114709              Orlando Sentinel  The great voice acting, the visual puns, all a...  1995-11-22       9559                     Toy story\n",
       "30            Roger Ebert  False  113497             Chicago Sun-Times  A gloomy special-effects extravaganza filled w...  2000-01-01      12436                       Jumanji\n",
       "32                    NaN   True  113497                     USA Today  A calculated but very entertaining special eff...  2000-01-01      12436                       Jumanji\n",
       "36       Richard Schickel   True  107050                 TIME Magazine  Walter Matthau and Jack Lemmon are awfully goo...  2008-08-24      10498                Grumpy Old Men\n",
       "37            Derek Adams  False  107050                      Time Out                             Mediocre, regrettably.  2006-06-24      10498                Grumpy Old Men\n",
       "38            Caryn James   True  107050                New York Times  Just don't expect their bickering to be on the...  2003-05-20      10498                Grumpy Old Men\n",
       "39     James Berardinelli   True  107050                     ReelViews  While it won't come close to my top 10 best li...  2000-01-01      10498                Grumpy Old Men\n",
       "40            Roger Ebert  False  107050             Chicago Sun-Times  The movie is too pat and practiced to really b...  2000-01-01      10498                Grumpy Old Men\n",
       "41         Desson Thomson   True  107050               Washington Post  If you poke through Grumpy's cheap sentimental...  2000-01-01      10498                Grumpy Old Men\n",
       "47             Liam Lacey  False  114885                Globe and Mail  Never escapes the queasy aura of Melrose Place...  2002-04-12      16697             Waiting to Exhale\n",
       "48          Kenneth Turan   True  114885             Los Angeles Times  A pleasant if undemanding piece of work that i...  2001-02-13      16697             Waiting to Exhale\n",
       "49        Edward Guthmann  False  114885       San Francisco Chronicle  You want the movie to stomp and rejoice and cr...  2000-01-01      16697             Waiting to Exhale\n",
       "...                   ...    ...     ...                           ...                                                ...         ...        ...                           ...\n",
       "27560  Jonathan Rosenbaum   True   94347                Chicago Reader  Although most of this is rather familiar stuff...  2000-01-01  770674061       The Year My Voice Broke\n",
       "27561          Hal Hinson   True   94347               Washington Post  This isn't an adolescent wish-fulfillment fant...  2000-01-01  770674061       The Year My Voice Broke\n",
       "27563                 NaN  False   55471                      Time Out  A complicated film that never really successfu...  2006-02-09      18436         Splendor in the Grass\n",
       "27566          Pat Graham  False   63185                Chicago Reader  Robert Aldrich's \"daring\" 1968 mating of lesbi...  2009-04-24  747403171  The Killing of Sister George\n",
       "27570           Dave Kehr   True   40506                Chicago Reader  A little windy and rhetorical for my taste, bu...  2008-04-08      18375                     Key Largo\n",
       "27571       Variety Staff   True   40506                       Variety  Emphasis is on tension in the telling, and eff...  2008-04-08      18375                     Key Largo\n",
       "27572           Tom Milne   True   40506                      Time Out  Although the characters are basically stereoty...  2006-06-24      18375                     Key Largo\n",
       "27573     Bosley Crowther  False   40506                New York Times  The script prepared by Mr. Huston and Richard ...  2006-03-25      18375                     Key Largo\n",
       "27574         Bob Longino   True  364435  Atlanta Journal-Constitution                          Disturbing and affecting.  2006-08-31  748169836                      Jailbait\n",
       "27575       Carrie Rickey  False  364435         Philadelphia Inquirer  Claustrophobic and overwrought, Jailbait is an...  2006-08-18  748169836                      Jailbait\n",
       "27576        Frank Scheck  False  364435            Hollywood Reporter  While the stars deliver highly committed perfo...  2006-08-17  748169836                      Jailbait\n",
       "27577          Laura Kern  False  364435                New York Times  A stagy, only mildly compelling prison drama t...  2006-08-04  748169836                      Jailbait\n",
       "27578        Lou Lumenick  False  364435                 New York Post  I wouldn't have thought it was possible to mak...  2006-08-04  748169836                      Jailbait\n",
       "27579        Jack Mathews  False  364435           New York Daily News  The cruelty of the law has been better demonst...  2006-08-04  748169836                      Jailbait\n",
       "27580          Jim Ridley  False  364435                 Village Voice  ... the umpteenth prison drama to focus on the...  2006-08-02  748169836                      Jailbait\n",
       "27593       Vincent Canby  False   74695                New York Times  Mr. Peckinpah's least interesting, least perso...  2005-05-09      13694                 Cross of Iron\n",
       "27595           Dave Kehr  False   42276                Chicago Reader  George Cukor directed, a little impersonally f...  2008-01-11      18781                Born Yesterday\n",
       "27596                 NaN   True   42276                      Time Out                                             Magic.  2006-06-24      18781                Born Yesterday\n",
       "27597     Bosley Crowther   True   42276                New York Times  More firm in its social implications than ever...  2003-05-20      18781                Born Yesterday\n",
       "27598       Variety Staff  False   86969                       Variety  Belying the lightheartedness of its title, Bir...  2008-09-16      15889                         Birdy\n",
       "27599                 NaN   True   86969                      Time Out  A trifle self-indulgent -- well, it is directe...  2006-02-09      15889                         Birdy\n",
       "27600         Roger Ebert   True   86969             Chicago Sun-Times                A very strange and beautiful movie.  2004-10-23      15889                         Birdy\n",
       "27601        Janet Maslin   True   86969                New York Times                       Most of Birdy is enchanting.  2003-05-20      15889                         Birdy\n",
       "27603     Bosley Crowther  False   49189                New York Times  We can't recommend this little item as a sampl...  2006-10-30      11854      Et Dieu... créa la femme\n",
       "27605    Richard Schickel   True   86005                 TIME Magazine  Ballard and his masterly crew of film makers h...  2009-03-09      12606                Never Cry Wolf\n",
       "27606     Ronald Holloway   True   86005                       Variety  Measures up to the promise Ballard amply provi...  2008-07-23      12606                Never Cry Wolf\n",
       "27607                 NaN   True   86005                      Time Out  For the most part very absorbing, the film suf...  2006-01-26      12606                Never Cry Wolf\n",
       "27608       Vincent Canby   True   86005                New York Times  Perhaps the best thing about the film is that ...  2004-08-30      12606                Never Cry Wolf\n",
       "27609           Dave Kehr   True   86005                Chicago Reader  The film is still memorable for its compassion...  2000-01-01      12606                Never Cry Wolf\n",
       "27616          Don Druker   True   55353                Chicago Reader  It does have enough gritty insights and (for t...  2007-11-13      18541           A Raisin in the Sun\n",
       "\n",
       "[15561 rows x 8 columns]"
      ]
     },
     "execution_count": 16,
     "metadata": {},
     "output_type": "execute_result"
    }
   ],
   "source": [
    "df"
   ]
  },
  {
   "cell_type": "code",
   "execution_count": 17,
   "metadata": {
    "collapsed": true
   },
   "outputs": [],
   "source": [
    "# Grouping the dataframe by object to find the counts of each critic and average freshness of the critic\n",
    "grp = df.groupby('critic')\n",
    "counts = grp.critic.count()  # Total number of reviews by each critic\n",
    "means = grp.fresh.mean()     # Average freshness for each critic"
   ]
  },
  {
   "cell_type": "code",
   "execution_count": 18,
   "metadata": {},
   "outputs": [
    {
     "data": {
      "text/plain": [
       "critic\n",
       "A.D. Murphy     13\n",
       "A.H. Weiler     17\n",
       "A.O. Scott      19\n",
       "Aaron Hillis     2\n",
       "Abel Green       5\n",
       "Name: critic, dtype: int64"
      ]
     },
     "execution_count": 18,
     "metadata": {},
     "output_type": "execute_result"
    }
   ],
   "source": [
    "counts.head()"
   ]
  },
  {
   "cell_type": "code",
   "execution_count": 19,
   "metadata": {},
   "outputs": [
    {
     "data": {
      "text/plain": [
       "critic\n",
       "A.D. Murphy     1.000000\n",
       "A.H. Weiler     0.705882\n",
       "A.O. Scott      0.368421\n",
       "Aaron Hillis    1.000000\n",
       "Abel Green      1.000000\n",
       "Name: fresh, dtype: float64"
      ]
     },
     "execution_count": 19,
     "metadata": {},
     "output_type": "execute_result"
    }
   ],
   "source": [
    "means.head()"
   ]
  },
  {
   "cell_type": "code",
   "execution_count": 20,
   "metadata": {},
   "outputs": [
    {
     "data": {
      "text/plain": [
       "<matplotlib.text.Text at 0xc06b3c8>"
      ]
     },
     "execution_count": 20,
     "metadata": {},
     "output_type": "execute_result"
    },
    {
     "data": {
      "image/png": "[encoded data removed]",
      "text/plain": [
       "<matplotlib.figure.Figure at 0x83b0860>"
      ]
     },
     "metadata": {},
     "output_type": "display_data"
    }
   ],
   "source": [
    "# Plotting histograms of the means of critics with counts greater than 100\n",
    "means[counts > 100].hist(bins=10, edgecolor='w', lw = 1)\n",
    "plt.xlabel(\"Mean rating per critic\")\n",
    "plt.ylabel(\"Counts\")"
   ]
  },
  {
   "cell_type": "markdown",
   "metadata": {
    "collapsed": true
   },
   "source": [
    "**Note:** From the above graph it is evident that on an avergae most of the critics have given a positive review. Another interesting insight is that the extreme positive ratings critics (> 0.7) were slightly higher than that of extremely negative  (< 0.5). This may be because the critics were quite generous in writing a review."
   ]
  },
  {
   "cell_type": "code",
   "execution_count": null,
   "metadata": {
    "collapsed": true
   },
   "outputs": [],
   "source": []
  },
  {
   "cell_type": "markdown",
   "metadata": {},
   "source": [
    "### c. Input and Output data"
   ]
  },
  {
   "cell_type": "markdown",
   "metadata": {},
   "source": [
    "The following function accepts the dataframe and returns two numerical arrays (X, Y)\n",
    "\n",
    "1. X (input) is a Sparse Matrix (nreview, nwords) array where each row is a 'bag-of-words' representation of a single review. \n",
    "1. y (output) array with binary values (1/0). 1 represents Class Fresh while 0 represents Class Rotten."
   ]
  },
  {
   "cell_type": "code",
   "execution_count": 103,
   "metadata": {
    "collapsed": true
   },
   "outputs": [],
   "source": [
    "# Function to create 'X' and 'y' from critics\n",
    "def make_xy(critics, vectorizer = None):\n",
    "    #Your code here    \n",
    "    if vectorizer is None:\n",
    "        vectorizer = CountVectorizer()\n",
    "    X = vectorizer.fit_transform(critics.quote)\n",
    "    X = X.tocsc()  # some versions of sklearn return COO format\n",
    "    y = (critics.fresh == 'fresh').values.astype(np.int)\n",
    "    return X, y"
   ]
  },
  {
   "cell_type": "code",
   "execution_count": 104,
   "metadata": {
    "collapsed": true
   },
   "outputs": [],
   "source": [
    "# Create 'X' and 'y' from critics \n",
    "X, y = make_xy(critics)"
   ]
  },
  {
   "cell_type": "code",
   "execution_count": 105,
   "metadata": {
    "scrolled": true
   },
   "outputs": [
    {
     "name": "stdout",
     "output_type": "stream",
     "text": [
      "  (1028, 0)\t1\n",
      "  (3215, 0)\t1\n",
      "  (4740, 0)\t1\n",
      "  (4741, 0)\t1\n",
      "  (8722, 0)\t2\n",
      "  (8820, 0)\t1\n",
      "  (12118, 0)\t1\n",
      "  (4031, 1)\t1\n",
      "  (74, 2)\t1\n",
      "  (76, 2)\t1\n",
      "  (3653, 2)\t1\n",
      "  (4031, 2)\t1\n",
      "  (8023, 2)\t1\n",
      "  (10704, 2)\t1\n",
      "  (13425, 2)\t1\n",
      "  (13435, 2)\t1\n",
      "  (13668, 2)\t1\n",
      "  (13693, 2)\t1\n",
      "  (8647, 3)\t1\n",
      "  (369, 4)\t1\n",
      "  (24, 5)\t1\n",
      "  (65, 5)\t1\n",
      "  (472, 5)\t1\n",
      "  (625, 5)\t1\n",
      "  (731, 5)\t1\n",
      "  :\t:\n",
      "  (14548, 22402)\t1\n",
      "  (14551, 22402)\t1\n",
      "  (958, 22403)\t1\n",
      "  (10209, 22403)\t1\n",
      "  (6804, 22404)\t1\n",
      "  (8594, 22405)\t1\n",
      "  (14697, 22406)\t1\n",
      "  (6465, 22407)\t1\n",
      "  (4134, 22408)\t1\n",
      "  (8145, 22408)\t1\n",
      "  (4471, 22409)\t1\n",
      "  (4477, 22409)\t1\n",
      "  (4478, 22409)\t1\n",
      "  (4476, 22410)\t1\n",
      "  (8847, 22411)\t1\n",
      "  (1076, 22412)\t1\n",
      "  (3126, 22412)\t1\n",
      "  (3128, 22412)\t1\n",
      "  (9252, 22412)\t1\n",
      "  (2774, 22413)\t1\n",
      "  (3360, 22414)\t1\n",
      "  (5930, 22414)\t1\n",
      "  (10457, 22414)\t1\n",
      "  (4473, 22415)\t1\n",
      "  (8518, 22416)\t1\n"
     ]
    }
   ],
   "source": [
    "print(X)"
   ]
  },
  {
   "cell_type": "code",
   "execution_count": 106,
   "metadata": {},
   "outputs": [
    {
     "name": "stdout",
     "output_type": "stream",
     "text": [
      "[1 1 1 ..., 1 1 1]\n"
     ]
    }
   ],
   "source": [
    "print(y)"
   ]
  },
  {
   "cell_type": "code",
   "execution_count": null,
   "metadata": {
    "collapsed": true
   },
   "outputs": [],
   "source": []
  },
  {
   "cell_type": "code",
   "execution_count": 107,
   "metadata": {},
   "outputs": [
    {
     "data": {
      "image/png": "[encoded data removed]",
      "text/plain": [
       "<matplotlib.figure.Figure at 0xcd0c748>"
      ]
     },
     "metadata": {},
     "output_type": "display_data"
    }
   ],
   "source": [
    "# For each word, count the number of documents that contains it \n",
    "count = (X > 0).sum(axis=0).tolist()[0]                      # Calculates the feature-wise sum [See code snippet in the below cells]\n",
    "count = sorted(count)\n",
    "n = np.unique(count)\n",
    "\n",
    "# Compute the frequency of words that appear in exactly k documents\n",
    "freq, cat = np.histogram(count, bins = len(n))            # See below cell as to how numpy histogram function works\n",
    "cumfreq = np.cumsum(freq)                                 # Calculates the cumulative sum of the array\n",
    "cumfreq = np.insert(cumfreq,0,0)                          # Inserts '0' in the array 'cmufreq'\n",
    "n = np.insert(n,0,0)                                      # Inserts '0' in the array 'n'\n",
    "\n",
    "plt.plot(n,cumfreq)\n",
    "plt.xlim(-1,100)\n",
    "plt.xlabel('Count of Documents in which a Word Appears')\n",
    "plt.ylabel('Cumulative Frequency of Words')\n",
    "plt.show()"
   ]
  },
  {
   "cell_type": "markdown",
   "metadata": {},
   "source": [
    "**Response:** min_df is used to removed terms that are too rare, and max_df is used to remove terms that are too common. Out of a total of 22417 words, 95% of them appear in only one document but they are also very rare words. Only a few words are extremely common, so if min_df is one and we choose max_df to be around 20, we will cover more than 99% of the vocabulary."
   ]
  },
  {
   "cell_type": "code",
   "execution_count": 108,
   "metadata": {},
   "outputs": [
    {
     "data": {
      "text/plain": [
       "array([0, 6, 8])"
      ]
     },
     "execution_count": 108,
     "metadata": {},
     "output_type": "execute_result"
    }
   ],
   "source": [
    "np.sum([[0, 1, 2], [0, 5, 6]], axis=0)"
   ]
  },
  {
   "cell_type": "code",
   "execution_count": 109,
   "metadata": {},
   "outputs": [
    {
     "data": {
      "text/plain": [
       "array([ 3, 11])"
      ]
     },
     "execution_count": 109,
     "metadata": {},
     "output_type": "execute_result"
    }
   ],
   "source": [
    "np.sum([[0, 1, 2], [0, 5, 6]], axis=1)"
   ]
  },
  {
   "cell_type": "markdown",
   "metadata": {},
   "source": [
    "The Numpy histogram function doesn't draw the histogram. It computes the occurrences of <u> input data</u> that fall within each bin. These occurance determine the area (usually the height) of each bar.\n",
    "\n",
    "https://stackoverflow.com/questions/9141732/how-does-numpy-histogram-work"
   ]
  },
  {
   "cell_type": "code",
   "execution_count": 111,
   "metadata": {},
   "outputs": [
    {
     "data": {
      "text/plain": [
       "(array([21347,   537,   179,    96,    44,    35,    28,    23,    24,\n",
       "           12,     8,     7,     6,     7,     4,     3,     3,     3,\n",
       "            1,     4,     1,     5,     3,     0,     1,     2,     0,\n",
       "            2,     0,     0,     0,     3,     1,     2,     2,     1,\n",
       "            0,     0,     1,     0,     2,     1,     0,     2,     0,\n",
       "            0,     0,     0,     0,     0,     0,     0,     0,     0,\n",
       "            0,     1,     0,     1,     0,     0,     0,     0,     0,\n",
       "            0,     0,     2,     0,     0,     0,     0,     1,     0,\n",
       "            0,     1,     1,     0,     0,     0,     2,     0,     0,\n",
       "            0,     0,     0,     0,     0,     0,     0,     0,     0,\n",
       "            0,     0,     0,     0,     0,     0,     0,     0,     0,\n",
       "            0,     0,     0,     0,     0,     0,     0,     0,     0,\n",
       "            0,     1,     0,     0,     0,     0,     0,     0,     0,\n",
       "            0,     0,     0,     0,     1,     0,     0,     0,     0,\n",
       "            0,     0,     0,     0,     0,     0,     0,     0,     0,\n",
       "            0,     0,     0,     0,     0,     0,     0,     1,     0,\n",
       "            0,     0,     0,     0,     0,     0,     0,     0,     0,\n",
       "            0,     0,     0,     0,     0,     0,     0,     0,     0,\n",
       "            0,     0,     1,     0,     0,     0,     0,     1,     0,\n",
       "            0,     0,     0,     0,     0,     0,     0,     0,     0,\n",
       "            0,     0,     0,     0,     0,     0,     0,     0,     0,\n",
       "            0,     0,     0,     0,     0,     0,     0,     0,     0,\n",
       "            0,     0,     0,     0,     0,     0,     0,     0,     0,\n",
       "            0,     0,     0,     0,     0,     0,     0,     0,     0,\n",
       "            0,     0,     0,     0,     0,     0,     0,     0,     0,\n",
       "            0,     0,     0,     0,     0,     0,     0,     0,     0,\n",
       "            0,     0,     1,     0,     0,     0,     0,     0,     0,\n",
       "            0,     0,     0,     0,     0,     0,     0,     1,     0,\n",
       "            0,     0,     0,     0,     0,     0,     0,     0,     0,\n",
       "            0,     0,     0,     0,     0,     0,     0,     0,     0,\n",
       "            0,     0,     0,     0,     0,     0,     0,     0,     0,\n",
       "            0,     0,     0,     0,     0,     0,     0,     0,     0,\n",
       "            0,     0,     0,     0,     0,     0,     0,     0,     0,\n",
       "            0,     0,     0,     0,     0,     0,     0,     0,     0,\n",
       "            0,     0,     0,     0,     0,     0,     0,     0,     1], dtype=int64),\n",
       " array([  1.00000000e+00,   3.11619048e+01,   6.13238095e+01,\n",
       "          9.14857143e+01,   1.21647619e+02,   1.51809524e+02,\n",
       "          1.81971429e+02,   2.12133333e+02,   2.42295238e+02,\n",
       "          2.72457143e+02,   3.02619048e+02,   3.32780952e+02,\n",
       "          3.62942857e+02,   3.93104762e+02,   4.23266667e+02,\n",
       "          4.53428571e+02,   4.83590476e+02,   5.13752381e+02,\n",
       "          5.43914286e+02,   5.74076190e+02,   6.04238095e+02,\n",
       "          6.34400000e+02,   6.64561905e+02,   6.94723810e+02,\n",
       "          7.24885714e+02,   7.55047619e+02,   7.85209524e+02,\n",
       "          8.15371429e+02,   8.45533333e+02,   8.75695238e+02,\n",
       "          9.05857143e+02,   9.36019048e+02,   9.66180952e+02,\n",
       "          9.96342857e+02,   1.02650476e+03,   1.05666667e+03,\n",
       "          1.08682857e+03,   1.11699048e+03,   1.14715238e+03,\n",
       "          1.17731429e+03,   1.20747619e+03,   1.23763810e+03,\n",
       "          1.26780000e+03,   1.29796190e+03,   1.32812381e+03,\n",
       "          1.35828571e+03,   1.38844762e+03,   1.41860952e+03,\n",
       "          1.44877143e+03,   1.47893333e+03,   1.50909524e+03,\n",
       "          1.53925714e+03,   1.56941905e+03,   1.59958095e+03,\n",
       "          1.62974286e+03,   1.65990476e+03,   1.69006667e+03,\n",
       "          1.72022857e+03,   1.75039048e+03,   1.78055238e+03,\n",
       "          1.81071429e+03,   1.84087619e+03,   1.87103810e+03,\n",
       "          1.90120000e+03,   1.93136190e+03,   1.96152381e+03,\n",
       "          1.99168571e+03,   2.02184762e+03,   2.05200952e+03,\n",
       "          2.08217143e+03,   2.11233333e+03,   2.14249524e+03,\n",
       "          2.17265714e+03,   2.20281905e+03,   2.23298095e+03,\n",
       "          2.26314286e+03,   2.29330476e+03,   2.32346667e+03,\n",
       "          2.35362857e+03,   2.38379048e+03,   2.41395238e+03,\n",
       "          2.44411429e+03,   2.47427619e+03,   2.50443810e+03,\n",
       "          2.53460000e+03,   2.56476190e+03,   2.59492381e+03,\n",
       "          2.62508571e+03,   2.65524762e+03,   2.68540952e+03,\n",
       "          2.71557143e+03,   2.74573333e+03,   2.77589524e+03,\n",
       "          2.80605714e+03,   2.83621905e+03,   2.86638095e+03,\n",
       "          2.89654286e+03,   2.92670476e+03,   2.95686667e+03,\n",
       "          2.98702857e+03,   3.01719048e+03,   3.04735238e+03,\n",
       "          3.07751429e+03,   3.10767619e+03,   3.13783810e+03,\n",
       "          3.16800000e+03,   3.19816190e+03,   3.22832381e+03,\n",
       "          3.25848571e+03,   3.28864762e+03,   3.31880952e+03,\n",
       "          3.34897143e+03,   3.37913333e+03,   3.40929524e+03,\n",
       "          3.43945714e+03,   3.46961905e+03,   3.49978095e+03,\n",
       "          3.52994286e+03,   3.56010476e+03,   3.59026667e+03,\n",
       "          3.62042857e+03,   3.65059048e+03,   3.68075238e+03,\n",
       "          3.71091429e+03,   3.74107619e+03,   3.77123810e+03,\n",
       "          3.80140000e+03,   3.83156190e+03,   3.86172381e+03,\n",
       "          3.89188571e+03,   3.92204762e+03,   3.95220952e+03,\n",
       "          3.98237143e+03,   4.01253333e+03,   4.04269524e+03,\n",
       "          4.07285714e+03,   4.10301905e+03,   4.13318095e+03,\n",
       "          4.16334286e+03,   4.19350476e+03,   4.22366667e+03,\n",
       "          4.25382857e+03,   4.28399048e+03,   4.31415238e+03,\n",
       "          4.34431429e+03,   4.37447619e+03,   4.40463810e+03,\n",
       "          4.43480000e+03,   4.46496190e+03,   4.49512381e+03,\n",
       "          4.52528571e+03,   4.55544762e+03,   4.58560952e+03,\n",
       "          4.61577143e+03,   4.64593333e+03,   4.67609524e+03,\n",
       "          4.70625714e+03,   4.73641905e+03,   4.76658095e+03,\n",
       "          4.79674286e+03,   4.82690476e+03,   4.85706667e+03,\n",
       "          4.88722857e+03,   4.91739048e+03,   4.94755238e+03,\n",
       "          4.97771429e+03,   5.00787619e+03,   5.03803810e+03,\n",
       "          5.06820000e+03,   5.09836190e+03,   5.12852381e+03,\n",
       "          5.15868571e+03,   5.18884762e+03,   5.21900952e+03,\n",
       "          5.24917143e+03,   5.27933333e+03,   5.30949524e+03,\n",
       "          5.33965714e+03,   5.36981905e+03,   5.39998095e+03,\n",
       "          5.43014286e+03,   5.46030476e+03,   5.49046667e+03,\n",
       "          5.52062857e+03,   5.55079048e+03,   5.58095238e+03,\n",
       "          5.61111429e+03,   5.64127619e+03,   5.67143810e+03,\n",
       "          5.70160000e+03,   5.73176190e+03,   5.76192381e+03,\n",
       "          5.79208571e+03,   5.82224762e+03,   5.85240952e+03,\n",
       "          5.88257143e+03,   5.91273333e+03,   5.94289524e+03,\n",
       "          5.97305714e+03,   6.00321905e+03,   6.03338095e+03,\n",
       "          6.06354286e+03,   6.09370476e+03,   6.12386667e+03,\n",
       "          6.15402857e+03,   6.18419048e+03,   6.21435238e+03,\n",
       "          6.24451429e+03,   6.27467619e+03,   6.30483810e+03,\n",
       "          6.33500000e+03,   6.36516190e+03,   6.39532381e+03,\n",
       "          6.42548571e+03,   6.45564762e+03,   6.48580952e+03,\n",
       "          6.51597143e+03,   6.54613333e+03,   6.57629524e+03,\n",
       "          6.60645714e+03,   6.63661905e+03,   6.66678095e+03,\n",
       "          6.69694286e+03,   6.72710476e+03,   6.75726667e+03,\n",
       "          6.78742857e+03,   6.81759048e+03,   6.84775238e+03,\n",
       "          6.87791429e+03,   6.90807619e+03,   6.93823810e+03,\n",
       "          6.96840000e+03,   6.99856190e+03,   7.02872381e+03,\n",
       "          7.05888571e+03,   7.08904762e+03,   7.11920952e+03,\n",
       "          7.14937143e+03,   7.17953333e+03,   7.20969524e+03,\n",
       "          7.23985714e+03,   7.27001905e+03,   7.30018095e+03,\n",
       "          7.33034286e+03,   7.36050476e+03,   7.39066667e+03,\n",
       "          7.42082857e+03,   7.45099048e+03,   7.48115238e+03,\n",
       "          7.51131429e+03,   7.54147619e+03,   7.57163810e+03,\n",
       "          7.60180000e+03,   7.63196190e+03,   7.66212381e+03,\n",
       "          7.69228571e+03,   7.72244762e+03,   7.75260952e+03,\n",
       "          7.78277143e+03,   7.81293333e+03,   7.84309524e+03,\n",
       "          7.87325714e+03,   7.90341905e+03,   7.93358095e+03,\n",
       "          7.96374286e+03,   7.99390476e+03,   8.02406667e+03,\n",
       "          8.05422857e+03,   8.08439048e+03,   8.11455238e+03,\n",
       "          8.14471429e+03,   8.17487619e+03,   8.20503810e+03,\n",
       "          8.23520000e+03,   8.26536190e+03,   8.29552381e+03,\n",
       "          8.32568571e+03,   8.35584762e+03,   8.38600952e+03,\n",
       "          8.41617143e+03,   8.44633333e+03,   8.47649524e+03,\n",
       "          8.50665714e+03,   8.53681905e+03,   8.56698095e+03,\n",
       "          8.59714286e+03,   8.62730476e+03,   8.65746667e+03,\n",
       "          8.68762857e+03,   8.71779048e+03,   8.74795238e+03,\n",
       "          8.77811429e+03,   8.80827619e+03,   8.83843810e+03,\n",
       "          8.86860000e+03,   8.89876190e+03,   8.92892381e+03,\n",
       "          8.95908571e+03,   8.98924762e+03,   9.01940952e+03,\n",
       "          9.04957143e+03,   9.07973333e+03,   9.10989524e+03,\n",
       "          9.14005714e+03,   9.17021905e+03,   9.20038095e+03,\n",
       "          9.23054286e+03,   9.26070476e+03,   9.29086667e+03,\n",
       "          9.32102857e+03,   9.35119048e+03,   9.38135238e+03,\n",
       "          9.41151429e+03,   9.44167619e+03,   9.47183810e+03,\n",
       "          9.50200000e+03]))"
      ]
     },
     "execution_count": 111,
     "metadata": {},
     "output_type": "execute_result"
    }
   ],
   "source": [
    "np.histogram(count, bins = len(n))"
   ]
  },
  {
   "cell_type": "code",
   "execution_count": null,
   "metadata": {
    "collapsed": true
   },
   "outputs": [],
   "source": []
  },
  {
   "cell_type": "markdown",
   "metadata": {},
   "source": [
    "### d. Train and Test data"
   ]
  },
  {
   "cell_type": "code",
   "execution_count": 26,
   "metadata": {
    "collapsed": true
   },
   "outputs": [],
   "source": [
    "# Create train and test data\n",
    "from sklearn.cross_validation import train_test_split\n",
    "xtrain, xtest, ytrain, ytest = train_test_split(X, y)"
   ]
  },
  {
   "cell_type": "markdown",
   "metadata": {},
   "source": [
    "### e. Naive Bayes Classifier"
   ]
  },
  {
   "cell_type": "code",
   "execution_count": 27,
   "metadata": {},
   "outputs": [
    {
     "name": "stdout",
     "output_type": "stream",
     "text": [
      "Multinomial Naive Bayes Accuracy: 77.92%\n"
     ]
    }
   ],
   "source": [
    "# Fitting train data to Naive Bayes Classifier\n",
    "from sklearn.naive_bayes import MultinomialNB\n",
    "\n",
    "multinb_clf = MultinomialNB().fit(xtrain, ytrain)\n",
    "\n",
    "print(\"Multinomial Naive Bayes Accuracy: %0.2f%%\" % (100 * multinb_clf.score(xtest, ytest)))"
   ]
  },
  {
   "cell_type": "code",
   "execution_count": 28,
   "metadata": {},
   "outputs": [
    {
     "name": "stdout",
     "output_type": "stream",
     "text": [
      "Accuracy on training data: 0.92\n",
      "Accuracy on test data:     0.78\n"
     ]
    }
   ],
   "source": [
    "# Calculating accuracy\n",
    "training_accuracy = multinb_clf.score(xtrain, ytrain)\n",
    "test_accuracy = multinb_clf.score(xtest, ytest)\n",
    "\n",
    "print(\"Accuracy on training data: %0.2f\" % (training_accuracy))\n",
    "print(\"Accuracy on test data:     %0.2f\" % (test_accuracy))"
   ]
  },
  {
   "cell_type": "markdown",
   "metadata": {},
   "source": [
    "** Note: ** We see that our model works best for the training data but not so great on the test data. "
   ]
  },
  {
   "cell_type": "code",
   "execution_count": null,
   "metadata": {
    "collapsed": true
   },
   "outputs": [],
   "source": []
  },
  {
   "cell_type": "markdown",
   "metadata": {},
   "source": [
    "## 3. Model Evaluation "
   ]
  },
  {
   "cell_type": "markdown",
   "metadata": {},
   "source": [
    "### a. Score Function (log likelihood)"
   ]
  },
  {
   "cell_type": "markdown",
   "metadata": {},
   "source": [
    "The parameter $\\alpha$ is chosen to be a small value that simply avoids having zeros in the probability computations. This value can sometimes be chosen arbitrarily with domain expertise, but we will use K-fold cross validation. In K-fold cross-validation, we divide the data into $K$ non-overlapping parts. We train on $K-1$ of the folds and test on the remaining fold. We then iterate, so that each fold serves as the test fold exactly once. The function cv_score performs the K-fold cross-validation algorithm for us, but we need to pass a function that measures the performance of the algorithm on each fold."
   ]
  },
  {
   "cell_type": "markdown",
   "metadata": {},
   "source": [
    "Rather than just getting the optimal hyper-parameters, we write a new function 'cv_score' that takes in a classifier, features and target variables; and a score function."
   ]
  },
  {
   "cell_type": "code",
   "execution_count": 112,
   "metadata": {
    "collapsed": true
   },
   "outputs": [],
   "source": [
    "# Function that applies 'cross-validation', calculate average score  \n",
    "from sklearn.cross_validation import KFold\n",
    "\n",
    "def cv_score(clf, X, y, scorefunc):\n",
    "    result = 0.\n",
    "    nfold = 5\n",
    "    for train, test in KFold(y.size, nfold): # split data into train/test groups, 5 times\n",
    "        clf.fit(X[train], y[train]) # fit\n",
    "        result += scorefunc(clf, X[test], y[test]) # evaluate score function on held-out data\n",
    "    return result / nfold # average"
   ]
  },
  {
   "cell_type": "code",
   "execution_count": null,
   "metadata": {
    "collapsed": true
   },
   "outputs": [],
   "source": []
  },
  {
   "cell_type": "markdown",
   "metadata": {},
   "source": [
    "In general, you will see people use 'roc_auc', 'precision', 'recall' or 'f1-score' etc. But we use log-likelihood as the score function here. (See log_likelihood() below). \n",
    "\n",
    "Since Naive Bayes classifiers are often used in asymmetric situations, it might help to actually maximize probability on the validation folds rather than just accuracy.\n",
    "\n",
    "The higher the log-likelihood, the better. Indeed, what we do in cv_score above is to implement the cross-validation part of GridSearchCV."
   ]
  },
  {
   "cell_type": "code",
   "execution_count": 29,
   "metadata": {
    "collapsed": true
   },
   "outputs": [],
   "source": [
    "# Function to create 'log_likelhood'\n",
    "def log_likelihood(clf, x, y):\n",
    "    prob = clf.predict_log_proba(x)\n",
    "    rotten = y == 0\n",
    "    fresh = ~rotten\n",
    "    return prob[rotten, 0].sum() + prob[fresh, 1].sum()"
   ]
  },
  {
   "cell_type": "markdown",
   "metadata": {},
   "source": [
    "Log_likelihood is more robust to assymetry than just plain 'accuracy' is. This is basically maximzing the probability of the data rather than just the score."
   ]
  },
  {
   "cell_type": "markdown",
   "metadata": {},
   "source": [
    "Notice something else about using a custom score (cv_score) function. It allows us to do a lot of the choices with the Decision risk we care about (-profit for example) directly on the validation set, rather than comparing ROC curves on the test set"
   ]
  },
  {
   "cell_type": "code",
   "execution_count": 31,
   "metadata": {},
   "outputs": [
    {
     "name": "stdout",
     "output_type": "stream",
     "text": [
      "Log likelihood of train is = -2304.17387742\n",
      "Log likelihood of test is = -2176.3989617\n"
     ]
    }
   ],
   "source": [
    "# chance the nambes of the variables below to match our code in 2.2 and 2.3\n",
    "# the function becomes z2 or whatever which is after the fit\n",
    "print('Log likelihood of train is =',log_likelihood(multinb_clf, xtrain, ytrain))\n",
    "print('Log likelihood of test is =',log_likelihood(multinb_clf, xtest, ytest))"
   ]
  },
  {
   "cell_type": "markdown",
   "metadata": {},
   "source": [
    "**What does using the function `log_likelihood` as the score mean? What are we trying to optimize for?**\n",
    "\n",
    "The log_likelihood measures the probability of observing the data given the parameters. To maximize the log_likelihood means that we are trying to find the parameters that maximize the probability of predicting the training data. \n",
    "\n",
    "**Without writing any code, what do you think would happen if you choose a value of $\\alpha$ that is too high?**\n",
    "\n",
    "Since $\\alpha$ is an additive (Laplace/Lidstone) smoothing parameter, a larger $\\alpha$ will reduce the variance of the model (and overfitting) but increase bias at the same time. We can think of $\\alpha$ as a pseudocount of the number of times a word has been seen."
   ]
  },
  {
   "cell_type": "markdown",
   "metadata": {},
   "source": [
    "### b. Cross-Validation"
   ]
  },
  {
   "cell_type": "markdown",
   "metadata": {},
   "source": [
    "In the following code, I use grid search to find the best $\\alpha$ as well as the best min_df that will maximize the probability of observing the training data."
   ]
  },
  {
   "cell_type": "markdown",
   "metadata": {},
   "source": [
    "Our classifier has a few hyperparameters. The two most important are:\n",
    "\n",
    "> The min_df keyword in CountVectorizer, which will ignore words which appear in fewer than min_df fraction of reviews. Words that appear only once or twice can lead to overfitting, since words which occur only a few times might correlate very well with Fresh/Rotten reviews by chance in the training dataset.\n",
    "\n",
    "> The alpha keyword in the Bayesian classifier is a \"smoothing parameter\" -- increasing the value decreases the sensitivity to any single feature, and tends to pull prediction probabilities closer to 50%.\n",
    "\n",
    "How are we are going to use cross-validation to tune these hyperparameters? The objective function we want to maximize is the log-likelihood of our data. Fill in the remaining code in this block, to loop over many values of alpha and min_df to determine which settings are \"best\" in the sense of maximizing the cross-validated log-likelihood."
   ]
  },
  {
   "cell_type": "code",
   "execution_count": 32,
   "metadata": {
    "collapsed": true
   },
   "outputs": [],
   "source": [
    "# Masking data\n",
    "from sklearn.cross_validation import train_test_split\n",
    "\n",
    "# Creating indices from 0 through n (15561); and divding the data into training and test set\n",
    "itrain, itest = train_test_split(range(critics.shape[0]), train_size=0.7)\n",
    "\n",
    "mask = np.ones(critics.shape[0], dtype='int')      # Assigining 1s to all the values\n",
    "mask[itrain] = 1                                   # Assigning 1s to the training data\n",
    "mask[itest] = 0                                    # Assigning 0s to the test data"
   ]
  },
  {
   "cell_type": "code",
   "execution_count": 33,
   "metadata": {
    "collapsed": true
   },
   "outputs": [],
   "source": [
    "mask = (mask==1)                                 # Assiging boolean values to the 'mask' array."
   ]
  },
  {
   "cell_type": "markdown",
   "metadata": {},
   "source": [
    "So, by the end of code snippet, out 'mask' array contains boolean entries [ True for training data, False for testing data]"
   ]
  },
  {
   "cell_type": "code",
   "execution_count": 34,
   "metadata": {},
   "outputs": [
    {
     "name": "stderr",
     "output_type": "stream",
     "text": [
      "C:\\Users\\Nishu\\Anaconda3\\Lib\\site-packages\\sklearn\\naive_bayes.py:699: RuntimeWarning: divide by zero encountered in log\n",
      "  self.feature_log_prob_ = (np.log(smoothed_fc) -\n",
      "C:\\Users\\Nishu\\Anaconda3\\Lib\\site-packages\\sklearn\\utils\\extmath.py:410: RuntimeWarning: invalid value encountered in subtract\n",
      "  out = np.log(np.sum(np.exp(arr - vmax), axis=0))\n"
     ]
    }
   ],
   "source": [
    "# Grid of values for parameters (alphas, min_dfs)\n",
    "alphas = [0, .1, 1, 5, 10, 50]\n",
    "min_dfs = [1e-5, 1e-4, 1e-3, 1e-2, 1e-1]\n",
    "\n",
    "# Assigning default values for the parameters \n",
    "best_alpha = None                             # 'None' (i.e. no-value) to best_alpha and best_min_df\n",
    "best_min_df = None                            # 'None' (i.e. no-value) to best_alpha and best_min_df\n",
    "maxscore = -np.inf                            # negative infinite to maxscore\n",
    "\n",
    "# Finding the best alpha, best min_df\n",
    "for alpha in alphas:\n",
    "    for min_df in min_dfs:         \n",
    "        vectorizer = CountVectorizer(min_df = min_df)       \n",
    "        Xthis, ythis = make_xy(critics, vectorizer)\n",
    "        Xtrainthis = Xthis[mask]\n",
    "        ytrainthis = ythis[mask]\n",
    "        #your code here\n",
    "        clf = MultinomialNB(alpha = alpha)\n",
    "        cvscore = cv_score(clf, Xtrainthis, ytrainthis, log_likelihood)\n",
    "\n",
    "        if cvscore > maxscore:\n",
    "            maxscore = cvscore\n",
    "            best_alpha, best_min_df = alpha, min_df"
   ]
  },
  {
   "cell_type": "code",
   "execution_count": 36,
   "metadata": {},
   "outputs": [
    {
     "name": "stdout",
     "output_type": "stream",
     "text": [
      "alpha: 5.000000\n",
      "min_df: 0.001000\n"
     ]
    }
   ],
   "source": [
    "print(\"alpha: %f\" % best_alpha)\n",
    "print(\"min_df: %f\" % best_min_df)"
   ]
  },
  {
   "cell_type": "markdown",
   "metadata": {},
   "source": [
    "### c. Work with the best params"
   ]
  },
  {
   "cell_type": "code",
   "execution_count": 50,
   "metadata": {},
   "outputs": [
    {
     "name": "stdout",
     "output_type": "stream",
     "text": [
      "Accuracy on training data: 0.79\n",
      "Accuracy on test data:     0.74\n"
     ]
    }
   ],
   "source": [
    "# Using the best parameters to fit the data\n",
    "vectorizer_1 = CountVectorizer(min_df = best_min_df)\n",
    "X_1, y_1 = make_xy(critics, vectorizer)\n",
    "\n",
    "multinb_clf_1 = MultinomialNB().fit(xtrain, ytrain)\n",
    "\n",
    "training_accuracy = clf.score(xtrain, ytrain)\n",
    "test_accuracy = clf.score(xtest, ytest)\n",
    "print(\"Accuracy on training data: %0.2f\" % (training_accuracy))\n",
    "print(\"Accuracy on test data:     %0.2f\" % (test_accuracy))"
   ]
  },
  {
   "cell_type": "markdown",
   "metadata": {},
   "source": [
    "Thus, we see that when the best values of alpha and min_df are used, it causes an overfit of data, which eventually hampers the performance of the naive bayes model constructed using these values. Overfitting is worse and here, we observe the same because the performance decreases in this case because this model is less accurate."
   ]
  },
  {
   "cell_type": "markdown",
   "metadata": {},
   "source": [
    "### d. Other score of measure¶"
   ]
  },
  {
   "cell_type": "markdown",
   "metadata": {},
   "source": [
    "Earlier, I have used 'log_likelihood' (sum of probabilities) as the measure of score. In this section, I use the mean as the 'measure' function which takes the number of rows into account to measure the performance of a model. "
   ]
  },
  {
   "cell_type": "code",
   "execution_count": 51,
   "metadata": {
    "collapsed": true
   },
   "outputs": [],
   "source": [
    "# Function to calculate the score\n",
    "def measure_score(model, x, y):\n",
    "    return model.score(x, y)"
   ]
  },
  {
   "cell_type": "code",
   "execution_count": 53,
   "metadata": {
    "collapsed": true
   },
   "outputs": [
    {
     "name": "stderr",
     "output_type": "stream",
     "text": [
      "C:\\Users\\Nishu\\Anaconda3\\Lib\\site-packages\\sklearn\\naive_bayes.py:699: RuntimeWarning: divide by zero encountered in log\n",
      "  self.feature_log_prob_ = (np.log(smoothed_fc) -\n",
      "C:\\Users\\Nishu\\Anaconda3\\Lib\\site-packages\\sklearn\\naive_bayes.py:699: RuntimeWarning: divide by zero encountered in log\n",
      "  self.feature_log_prob_ = (np.log(smoothed_fc) -\n",
      "C:\\Users\\Nishu\\Anaconda3\\Lib\\site-packages\\sklearn\\naive_bayes.py:699: RuntimeWarning: divide by zero encountered in log\n",
      "  self.feature_log_prob_ = (np.log(smoothed_fc) -\n",
      "C:\\Users\\Nishu\\Anaconda3\\Lib\\site-packages\\sklearn\\naive_bayes.py:699: RuntimeWarning: divide by zero encountered in log\n",
      "  self.feature_log_prob_ = (np.log(smoothed_fc) -\n",
      "C:\\Users\\Nishu\\Anaconda3\\Lib\\site-packages\\sklearn\\naive_bayes.py:699: RuntimeWarning: divide by zero encountered in log\n",
      "  self.feature_log_prob_ = (np.log(smoothed_fc) -\n",
      "C:\\Users\\Nishu\\Anaconda3\\Lib\\site-packages\\sklearn\\naive_bayes.py:699: RuntimeWarning: divide by zero encountered in log\n",
      "  self.feature_log_prob_ = (np.log(smoothed_fc) -\n",
      "C:\\Users\\Nishu\\Anaconda3\\Lib\\site-packages\\sklearn\\naive_bayes.py:699: RuntimeWarning: divide by zero encountered in log\n",
      "  self.feature_log_prob_ = (np.log(smoothed_fc) -\n",
      "C:\\Users\\Nishu\\Anaconda3\\Lib\\site-packages\\sklearn\\naive_bayes.py:699: RuntimeWarning: divide by zero encountered in log\n",
      "  self.feature_log_prob_ = (np.log(smoothed_fc) -\n",
      "C:\\Users\\Nishu\\Anaconda3\\Lib\\site-packages\\sklearn\\naive_bayes.py:699: RuntimeWarning: divide by zero encountered in log\n",
      "  self.feature_log_prob_ = (np.log(smoothed_fc) -\n",
      "C:\\Users\\Nishu\\Anaconda3\\Lib\\site-packages\\sklearn\\naive_bayes.py:699: RuntimeWarning: divide by zero encountered in log\n",
      "  self.feature_log_prob_ = (np.log(smoothed_fc) -\n",
      "C:\\Users\\Nishu\\Anaconda3\\Lib\\site-packages\\sklearn\\naive_bayes.py:699: RuntimeWarning: divide by zero encountered in log\n",
      "  self.feature_log_prob_ = (np.log(smoothed_fc) -\n",
      "C:\\Users\\Nishu\\Anaconda3\\Lib\\site-packages\\sklearn\\naive_bayes.py:699: RuntimeWarning: divide by zero encountered in log\n",
      "  self.feature_log_prob_ = (np.log(smoothed_fc) -\n",
      "C:\\Users\\Nishu\\Anaconda3\\Lib\\site-packages\\sklearn\\naive_bayes.py:699: RuntimeWarning: divide by zero encountered in log\n",
      "  self.feature_log_prob_ = (np.log(smoothed_fc) -\n",
      "C:\\Users\\Nishu\\Anaconda3\\Lib\\site-packages\\sklearn\\naive_bayes.py:699: RuntimeWarning: divide by zero encountered in log\n",
      "  self.feature_log_prob_ = (np.log(smoothed_fc) -\n",
      "C:\\Users\\Nishu\\Anaconda3\\Lib\\site-packages\\sklearn\\naive_bayes.py:699: RuntimeWarning: divide by zero encountered in log\n",
      "  self.feature_log_prob_ = (np.log(smoothed_fc) -\n",
      "C:\\Users\\Nishu\\Anaconda3\\Lib\\site-packages\\sklearn\\naive_bayes.py:699: RuntimeWarning: divide by zero encountered in log\n",
      "  self.feature_log_prob_ = (np.log(smoothed_fc) -\n"
     ]
    }
   ],
   "source": [
    "#Find the best value for alpha and min_df, and the best classifier\n",
    "best_alpha_1 = None\n",
    "best_min_df_1 = None\n",
    "max_score = -np.inf\n",
    "\n",
    "for alpha_1 in alphas:\n",
    "    for min_df_1 in min_dfs:         \n",
    "        vectorizer_1 = CountVectorizer(min_df = min_df_1)       \n",
    "        X, Y = make_xy(critics, vectorizer_1)\n",
    "        model = sklearn.naive_bayes.MultinomialNB(alpha=alpha_1).fit(X,Y)\n",
    "        score = sklearn.cross_validation.cross_val_score(model, X,Y,cv=5, scoring=measure_score).mean()\n",
    "        if score>max_score:\n",
    "            max_score = score\n",
    "            best_alpha_1 = alpha\n",
    "            best_min_df_1 = min_df_1"
   ]
  },
  {
   "cell_type": "code",
   "execution_count": 60,
   "metadata": {},
   "outputs": [
    {
     "name": "stdout",
     "output_type": "stream",
     "text": [
      "Accuracy on training data: 0.64\n",
      "Accuracy on test data:     0.63\n"
     ]
    }
   ],
   "source": [
    "## New NB model\n",
    "multinb_clf_2 = sklearn.naive_bayes.MultinomialNB(alpha=best_alpha_1)\n",
    "\n",
    "## fitting the model\n",
    "multinb_clf_2.fit(xtrain, ytrain)\n",
    "\n",
    "training_accuracy = multinb_clf_2.score(xtrain, ytrain)\n",
    "test_accuracy = multinb_clf_2.score(xtest, ytest)\n",
    "\n",
    "print(\"Accuracy on training data: %0.2f\" % (training_accuracy))\n",
    "print(\"Accuracy on test data:     %0.2f\" % (test_accuracy))"
   ]
  },
  {
   "cell_type": "markdown",
   "metadata": {},
   "source": [
    "Thus, we see that this approach gives us a slight worse performance of the model on both, training and test sets because it further increases the impact of overfitting the data."
   ]
  },
  {
   "cell_type": "code",
   "execution_count": null,
   "metadata": {
    "collapsed": true
   },
   "outputs": [],
   "source": []
  },
  {
   "cell_type": "markdown",
   "metadata": {},
   "source": [
    "### e. Interpretation"
   ]
  },
  {
   "cell_type": "markdown",
   "metadata": {},
   "source": [
    "What words best predict a fresh or rotten review? Using our classifier and the vectorizer.get_feature_names method, determine which words best predict a positive or negative review. Print the 10 words that best predict a \"fresh\" review, and the 10 words that best predict a \"rotten\" review. For each word, what is the model's probability of freshness if the word appears one time?\n",
    "\n",
    "Hints\n",
    "1. In thinking about how to measure the impact of a word on freshness rating, consider computing the classification probability for a feature vector which consists of all 0s, except for a single 1. What does this probability refer to?\n",
    "1. numpy.identity generates an identity matrix, where all values are zero except the diagonal elements which have a value of one"
   ]
  },
  {
   "cell_type": "markdown",
   "metadata": {},
   "source": [
    "**What are the strongly predictive features?**\n",
    "\n",
    "We use a neat trick to identify strongly predictive features (i.e. words).\n",
    "\n",
    "1. Firstly, create a data set such that each row has exactly one feature. This is represented by the identity matrix.\n",
    "1. Use the trained classifier to make predictions on this matrix\n",
    "1. Sort the rows by predicted probabilities, and pick the top and bottom $K$ rows"
   ]
  },
  {
   "cell_type": "code",
   "execution_count": 61,
   "metadata": {
    "collapsed": true
   },
   "outputs": [],
   "source": [
    "words = np.array(vectorizer.get_feature_names())             # Vocabulary\n",
    "\n",
    "x = np.eye(xtest.shape[1])                                  # Creates an indentity matrix of size (len(xtest))\n",
    "probs = clf.predict_log_proba(x)[:, 0]                      # Using trained classfier to predict log(probabilities)\n",
    "ind = np.argsort(probs)                                     # Sort indices based on their probability values\n",
    "\n",
    "good_words = words[ind[:10]]                                # Top 10 correctly classified words \n",
    "bad_words = words[ind[-10:]]                                # Top 10 wrongly classified words\n",
    "\n",
    "good_prob = probs[ind[:10]]                                 # Top 10 correctly classified probabilities of words \n",
    "bad_prob = probs[ind[-10:]]                                 # Top 10 wrongly classified probabilities of words"
   ]
  },
  {
   "cell_type": "code",
   "execution_count": 62,
   "metadata": {},
   "outputs": [
    {
     "name": "stdout",
     "output_type": "stream",
     "text": [
      "[[-0.8133801  -0.58583107]\n",
      " [-0.81701169 -0.58294797]\n",
      " [-0.90209938 -0.52039966]\n",
      " ..., \n",
      " [-1.08088453 -0.41444825]\n",
      " [-0.81165526 -0.58720701]\n",
      " [-0.86651591 -0.54544081]]\n"
     ]
    }
   ],
   "source": [
    "print(clf.predict_log_proba(x))"
   ]
  },
  {
   "cell_type": "code",
   "execution_count": 63,
   "metadata": {},
   "outputs": [
    {
     "name": "stdout",
     "output_type": "stream",
     "text": [
      "Good words  P(fresh| word)\n",
      "             delight 0.89\n",
      "          remarkable 0.88\n",
      "            touching 0.88\n",
      "         masterpiece 0.88\n",
      "        entertaining 0.87\n",
      "               witty 0.87\n",
      "         beautifully 0.87\n",
      "              moving 0.87\n",
      "             perfect 0.87\n",
      "         intelligent 0.86\n",
      "\n",
      "Bad words  P(fresh | word)\n",
      "               tired 0.23\n",
      "               fails 0.23\n",
      "               awful 0.23\n",
      "                dull 0.19\n",
      "          uninspired 0.18\n",
      "       disappointing 0.17\n",
      "             unfunny 0.17\n",
      "           pointless 0.16\n",
      "       unfortunately 0.14\n",
      "                lame 0.14\n"
     ]
    }
   ],
   "source": [
    "# Good Words and Bad Words\n",
    "print(\"Good words  P(fresh| word)\")\n",
    "for w, p in zip(good_words, good_prob):\n",
    "    print(\"%20s\" % w, \"%0.2f\" % (1 - np.exp(p)))\n",
    "\n",
    "print()\n",
    "    \n",
    "print(\"Bad words  P(fresh | word)\")\n",
    "for w, p in zip(bad_words, bad_prob):\n",
    "    print(\"%20s\" % w, \"%0.2f\" % (1 - np.exp(p)))"
   ]
  },
  {
   "cell_type": "markdown",
   "metadata": {},
   "source": [
    "We can see mis-predictions as well."
   ]
  },
  {
   "cell_type": "code",
   "execution_count": null,
   "metadata": {
    "collapsed": true
   },
   "outputs": [],
   "source": [
    "x, y = make_xy(critics, vectorizer)\n",
    "\n",
    "prob = clf.predict_proba(x)[:, 0]\n",
    "predict = clf.predict(x)"
   ]
  },
  {
   "cell_type": "markdown",
   "metadata": {},
   "source": [
    "**Why does this method work? What does the probability for each row in the identity matrix represent?**\n",
    "\n",
    "By creating an identity matrix of the size of the number of features/words, each row represents exactly one feature/word. We then use this one word to predict the probabilitiy of freshness or rottenness of a review that contains this word. \n",
    "\n",
    "If one single word can generate high probability of a review being fresh or rotten, that implies this feature has a high predictive power."
   ]
  },
  {
   "cell_type": "markdown",
   "metadata": {},
   "source": [
    "The above exercise is an example of feature selection. There are many other feature selection methods. \n",
    "\n",
    "A list of feature selection methods available in sklearn (http://scikit-learn.org/stable/modules/classes.html#module-sklearn.feature_selection). \n",
    "\n",
    "The most common feature selection technique for text mining is the chi-squared $\\left( \\chi^2 \\right)$ method."
   ]
  },
  {
   "cell_type": "code",
   "execution_count": null,
   "metadata": {
    "collapsed": true
   },
   "outputs": [],
   "source": []
  },
  {
   "cell_type": "markdown",
   "metadata": {},
   "source": [
    "### f. Mis-Predictions "
   ]
  },
  {
   "cell_type": "code",
   "execution_count": 113,
   "metadata": {},
   "outputs": [
    {
     "name": "stdout",
     "output_type": "stream",
     "text": [
      "Mis-predicted Rotten quotes\n",
      "---------------------------\n",
      "It survives today only as an unusually pure example of a typical 50s art-film strategy: the attempt to make the most modern and most popular of art forms acceptable to the intelligentsia by forcing it into an arcane, antique mold.\n",
      "\n",
      "The Waterboy is arguably Sandler's most enjoyable motion picture to date, but it's still far from a masterpiece.\n",
      "\n",
      "Benefits from a lively lead performance by the miscast Denzel Washington but doesn't come within light years of the book, one of the greatest American autobiographies.\n",
      "\n",
      "Irons gives an excruciating performance - what Streep's genuinely warm, wonderful Clara sees in him you'd need ESP to fathom.\n",
      "\n",
      "The plot of The Glimmer Man involves not only the Family Man but Our Evil Secret Government, the Russian Mafia and Rich Powerful Politicians -- the three stooges of action cinema in the '90s.\n",
      "\n",
      "Mis-predicted Fresh quotes\n",
      "--------------------------\n",
      "The gangland plot is flimsy (bad guy Peter Greene wears too much eyeliner), and the jokes are erratic, but it's a far better showcase for Carrey's comic-from-Uranus talent than Ace Ventura.\n",
      "\n",
      "A good half-hour's worth of nonsense in the middle keeps Bad Boys from being little better than a break- even proposition.\n",
      "\n",
      "There's too much talent and too strong a story to mess it up. There was potential for more here, but this incarnation is nothing to be ashamed of, and some of the actors answer the bell.\n",
      "\n",
      "Though it's a good half hour too long, this overblown 1993 spin-off of the 60s TV show otherwise adds up to a pretty good suspense thriller.\n",
      "\n",
      "Some of the gags don't work, but fewer than in any previous Brooks film that I've seen, and when the jokes are meant to be bad, they are riotously poor. What more can one ask of Mel Brooks?\n",
      "\n"
     ]
    }
   ],
   "source": [
    "# Mispredictions Quotes \n",
    "x, y = make_xy(critics, vectorizer)\n",
    "\n",
    "prob = clf.predict_proba(x)[:, 0]                 # Generates the probabilities of predicting a rotten review\n",
    "predict = clf.predict(x) \n",
    "\n",
    "# indices of reviews that are predicted most fresh but are actually rotten\n",
    "bad_rotten = np.argsort(prob[y == 0])[:5] \n",
    "# indices of reviews that are predicted most rotten but are actually fresh\n",
    "bad_fresh = np.argsort(prob[y == 1])[-5:]\n",
    "\n",
    "print(\"Mis-predicted Rotten quotes\")\n",
    "print('---------------------------')\n",
    "for row in bad_rotten:\n",
    "    print(critics[y == 0].quote.iloc[row])\n",
    "    print(\"\")\n",
    "\n",
    "print(\"Mis-predicted Fresh quotes\")\n",
    "print('--------------------------')\n",
    "for row in bad_fresh:\n",
    "    print(critics[y == 1].quote.iloc[row])\n",
    "    print(\"\")"
   ]
  },
  {
   "cell_type": "markdown",
   "metadata": {},
   "source": [
    "### g. Predicting the Freshness for a New Review"
   ]
  },
  {
   "cell_type": "markdown",
   "metadata": {},
   "source": [
    "**Using your best trained classifier, predict the freshness of the following sentence: *'This movie is not remarkable, touching, or superb in any way'*\n",
    "Is the result what you'd expect? Why (not)?**"
   ]
  },
  {
   "cell_type": "code",
   "execution_count": 114,
   "metadata": {},
   "outputs": [
    {
     "data": {
      "text/plain": [
       "array([[ 0.01276499,  0.98723501]])"
      ]
     },
     "execution_count": 114,
     "metadata": {},
     "output_type": "execute_result"
    }
   ],
   "source": [
    "text = vectorizer.transform(['This movie is not remarkable, touching, or superb in any way'])\n",
    "clf.predict_proba(text)"
   ]
  },
  {
   "cell_type": "markdown",
   "metadata": {},
   "source": [
    "**Note:** The new classifier (with best parameters) predicts that the given review is fresh (0.012 < 0.5) with a probability of 98% (0.987), but it is clearly a negative review that is misclassified (\"not remarkable\"). \n",
    "\n",
    "The bag-of-words approah does not take into account the word 'not' which negates the positive description that follows. One way to solve this problem is to use **bigrams**, which will read in the phrase 'not remarkable' and generate a better prediction. Another way is to use random forest, which will allow interactions between words."
   ]
  },
  {
   "cell_type": "code",
   "execution_count": null,
   "metadata": {
    "collapsed": true
   },
   "outputs": [],
   "source": []
  },
  {
   "cell_type": "markdown",
   "metadata": {},
   "source": [
    "## 4. Improvement"
   ]
  },
  {
   "cell_type": "markdown",
   "metadata": {},
   "source": [
    "### a. TF-IDF Weighting for Term Importance"
   ]
  },
  {
   "cell_type": "markdown",
   "metadata": {},
   "source": [
    "TF-IDF stands for *Term-Frequency x Inverse Document Frequency.*\n",
    "\n",
    "In the standard CountVectorizer model above, we used just the term frequency in a document of words in our vocabulary. <br>\n",
    "In TF-IDF, we weight this term frequency by the inverse of its popularity in all documents. \n",
    "\n",
    "For example, if the word \"movie\" showed up in all the documents, it would not have much predictive value. It could actually be considered a *stopword*. By weighing its counts by 1 divided by its overall frequency, we <u>downweight</u> it. <br>\n",
    "We can then use this TF-IDF weighted features as inputs to any classifier. TF-IDF is essentially a measure of term importance, and of how discriminative a word is in a corpus. \n",
    "\n",
    "There are a variety of nuances involved in computing TF-IDF, mainly involving where to add the smoothing term to avoid division by 0, or log of 0 errors. The formula for TF-IDF in scikit-learn differs from that of most textbooks:\n",
    "\n",
    "$$\\mbox{TF-IDF}(t, d) = \\mbox{TF}(t, d)\\times \\mbox{IDF}(t) = n_{td} \\log{\\left( \\frac{\\vert D \\vert}{\\vert d : t \\in d \\vert} + 1 \\right)}$$\n",
    "\n",
    "where $n_{td}$ is the number of times term $t$ occurs in document $d$, <br>\n",
    "$\\vert D \\vert$ is the number of documents, and <br>\n",
    "$\\vert d : t \\in d \\vert$ is the number of documents that contain $t$. <br>\n",
    "\n",
    "See links: \n",
    "\n",
    "1. http://scikit-learn.org/dev/modules/feature_extraction.html#text-feature-extraction <br>\n",
    "2.  http://scikit-learn.org/dev/modules/classes.html#text-feature-extraction-ref"
   ]
  },
  {
   "cell_type": "code",
   "execution_count": null,
   "metadata": {
    "collapsed": true
   },
   "outputs": [],
   "source": []
  },
  {
   "cell_type": "markdown",
   "metadata": {},
   "source": [
    "### b. Improving the Model"
   ]
  },
  {
   "cell_type": "markdown",
   "metadata": {},
   "source": [
    "1. Build a Naive Bayes model where the features are n-grams instead of words. N-grams are phrases containing n words next to each other: a bigram contains 2 words, a trigram contains 3 words, and 6-gram contains 6 words. This is useful because \"not good\" and \"so good\" mean very different things. On the other hand, as n increases, the model does not scale well since the feature set becomes more sparse.\n",
    "\n",
    "2. Try a model besides Naive Bayes, one that would allow for interactions between words -- for example, a Random Forest classifier.\n",
    "\n",
    "3. Try adding supplemental features -- information about genre, director, cast, etc.\n",
    "\n",
    "4. Use word2vec or [Latent Dirichlet Allocation](https://en.wikipedia.org/wiki/Latent_Dirichlet_allocation) to group words into topics and use those topics for prediction.\n",
    "\n",
    "5. Use TF-IDF weighting instead of word counts."
   ]
  },
  {
   "cell_type": "markdown",
   "metadata": {},
   "source": [
    "Exercise: Try a few of these ideas to improve the model (or any other ideas of your own). Implement here and report on the result."
   ]
  },
  {
   "cell_type": "markdown",
   "metadata": {},
   "source": [
    "#### 1. Naive Bayes Model Where Features are N-grams"
   ]
  },
  {
   "cell_type": "code",
   "execution_count": 116,
   "metadata": {
    "collapsed": true
   },
   "outputs": [],
   "source": [
    "# Specify the grid of parameters to search over\n",
    "alphas = [0.1, 1, 5, 10]\n",
    "min_dfs = [0, 0.00001, 0.0001, 0.001, 0.01]\n",
    "\n",
    "# Find the best value for alpha and min_df, and the best NB classifier with bigrams\n",
    "best_alpha = None\n",
    "best_min_df = None\n",
    "maxscore=-np.inf\n",
    "for alpha in alphas: \n",
    "    for min_df in min_dfs:\n",
    "        vectorizer = CountVectorizer(ngram_range=(1,2), min_df=min_df, max_df=0.1)       \n",
    "        Xthis, ythis = make_xy(critics, vectorizer)\n",
    "        Xtrainthis = Xthis[mask]\n",
    "        ytrainthis = ythis[mask]\n",
    "        # Cross validate the NB models and compute a log likelihoood score for each model\n",
    "        clf = MultinomialNB(alpha=alpha)\n",
    "        score = cv_score(clf, Xtrainthis, ytrainthis, scorefunc=log_likelihood)\n",
    "        if score > maxscore:\n",
    "            maxscore = score\n",
    "            best_alpha = alpha\n",
    "            best_min_df = min_df\n",
    "    #print(alpha, best_min_df, maxscore)"
   ]
  },
  {
   "cell_type": "code",
   "execution_count": 117,
   "metadata": {},
   "outputs": [
    {
     "name": "stdout",
     "output_type": "stream",
     "text": [
      "Best alpha: 10\n",
      "Best min_df: 0.001\n"
     ]
    }
   ],
   "source": [
    "print('Best alpha: {}\\nBest min_df: {}'.format(best_alpha,best_min_df))"
   ]
  },
  {
   "cell_type": "code",
   "execution_count": 118,
   "metadata": {},
   "outputs": [
    {
     "name": "stdout",
     "output_type": "stream",
     "text": [
      "Accuracy on training data: 0.794161\n",
      "Accuracy on test data:     0.732063\n"
     ]
    }
   ],
   "source": [
    "## Use both unigrams and bigrams instead of only unigrams.\n",
    "ngram_vectorizer = CountVectorizer(ngram_range=(1,2), min_df=best_min_df, max_df=0.1)\n",
    "X, y = make_xy(critics, ngram_vectorizer)\n",
    "xtrain=X[mask]\n",
    "ytrain=y[mask]\n",
    "xtest=X[~mask]\n",
    "ytest=y[~mask]\n",
    "\n",
    "clf = MultinomialNB(alpha=best_alpha).fit(xtrain, ytrain)\n",
    "\n",
    "# Print the accuracy on the test and training dataset\n",
    "training_accuracy = clf.score(xtrain, ytrain)\n",
    "test_accuracy = clf.score(xtest, ytest)\n",
    "\n",
    "print(\"Accuracy on training data: {:2f}\".format(training_accuracy))\n",
    "print(\"Accuracy on test data:     {:2f}\".format(test_accuracy))"
   ]
  },
  {
   "cell_type": "code",
   "execution_count": 119,
   "metadata": {},
   "outputs": [
    {
     "name": "stdout",
     "output_type": "stream",
     "text": [
      "Good words\t     P(fresh | word)\n",
      "        entertaining 0.87\n",
      "         performance 0.85\n",
      "         masterpiece 0.84\n",
      "             delight 0.84\n",
      "         intelligent 0.84\n",
      "             perfect 0.84\n",
      "              moving 0.84\n",
      "               witty 0.84\n",
      "            touching 0.83\n",
      "         beautifully 0.83\n",
      "Bad words\t     P(fresh | word)\n",
      "               awful 0.30\n",
      "             problem 0.30\n",
      "               fails 0.29\n",
      "          uninspired 0.29\n",
      "       disappointing 0.28\n",
      "             unfunny 0.27\n",
      "           pointless 0.27\n",
      "                dull 0.26\n",
      "                lame 0.24\n",
      "       unfortunately 0.23\n"
     ]
    }
   ],
   "source": [
    "words = np.array(ngram_vectorizer.get_feature_names())\n",
    "\n",
    "x = np.eye(xtest.shape[1]) # create an identity matrix with the number of features\n",
    "probs = clf.predict_log_proba(x)[:, 0] # the model's probabilities of prediciting rotten reviews\n",
    "ind = np.argsort(probs) # return the indices based on sorting the predicted probabilities\n",
    "\n",
    "good_words = words[ind[:10]]\n",
    "bad_words = words[ind[-10:]]\n",
    "\n",
    "good_prob = probs[ind[:10]]\n",
    "bad_prob = probs[ind[-10:]]\n",
    "\n",
    "print(\"Good words\\t     P(fresh | word)\")\n",
    "for w, p in zip(good_words, good_prob):\n",
    "    print(\"{:>20}\".format(w), \"{:.2f}\".format(1 - np.exp(p)))\n",
    "    \n",
    "print(\"Bad words\\t     P(fresh | word)\")\n",
    "for w, p in zip(bad_words, bad_prob):\n",
    "    print(\"{:>20}\".format(w), \"{:.2f}\".format(1 - np.exp(p)))"
   ]
  },
  {
   "cell_type": "code",
   "execution_count": 120,
   "metadata": {},
   "outputs": [
    {
     "data": {
      "text/plain": [
       "array([[ 0.0553983,  0.9446017]])"
      ]
     },
     "execution_count": 120,
     "metadata": {},
     "output_type": "execute_result"
    }
   ],
   "source": [
    "# Check how well the model predicts the freshness of this sentence that was misclassified\n",
    "text = ngram_vectorizer.transform(['This movie is not remarkable, touching, or superb in any way'])\n",
    "clf.predict_proba(text)"
   ]
  },
  {
   "cell_type": "markdown",
   "metadata": {},
   "source": [
    "**Note:** Now the Naive Bayes classifier that uses both single words and bigrams can sometimes increase its predictive probability that this one-sentence review is rotten. But this is not always true. If we use trigrams or more, the feature set will become too sparse to improve performance."
   ]
  },
  {
   "cell_type": "code",
   "execution_count": null,
   "metadata": {
    "collapsed": true
   },
   "outputs": [],
   "source": []
  },
  {
   "cell_type": "markdown",
   "metadata": {},
   "source": [
    "#### 2. Random Forest Model"
   ]
  },
  {
   "cell_type": "code",
   "execution_count": null,
   "metadata": {
    "collapsed": true
   },
   "outputs": [],
   "source": [
    "# Necessary Imports\n",
    "from sklearn.ensemble import RandomForestClassifier\n",
    "from sklearn.model_selection import KFold"
   ]
  },
  {
   "cell_type": "code",
   "execution_count": null,
   "metadata": {
    "collapsed": true
   },
   "outputs": [],
   "source": [
    "# Random Forest with different n and min_df\n",
    "ns = [10, 40, 60, 90]\n",
    "min_dfs = [0.00001, 0.0001, 0.001, 0.01]\n",
    "best_n = None\n",
    "best_min_df = None\n",
    "maxscore=-np.inf\n",
    "\n",
    "for n in ns: \n",
    "    for min_df in min_dfs:\n",
    "        vectorizer = CountVectorizer(min_df=min_df)       \n",
    "        X, y = make_xy(critics, vectorizer)\n",
    "        Xtrain = X[mask]\n",
    "        ytrain = y[mask]\n",
    "        \n",
    "        clf = RandomForestClassifier(n_estimators=n, random_state=5)\n",
    "        result = 0\n",
    "        for train, test in KFold(5).split(Xtrain):\n",
    "            clf.fit(Xtrain[train],ytrain[train])\n",
    "            result += clf.score(Xtrain[test],ytrain[test])\n",
    "            score = result / 5\n",
    "        if score > maxscore:\n",
    "            maxscore = score\n",
    "            best_min_df = min_df\n",
    "            best_n = n\n",
    "    #print(n, best_min_df, maxscore)\n",
    "print('Best number of trees: {}\\nBest min_df: {}'.format(best_n,best_min_df))"
   ]
  },
  {
   "cell_type": "code",
   "execution_count": null,
   "metadata": {
    "collapsed": true
   },
   "outputs": [],
   "source": []
  },
  {
   "cell_type": "code",
   "execution_count": null,
   "metadata": {
    "collapsed": true
   },
   "outputs": [],
   "source": [
    "# Count vectorizer with best_df\n",
    "vectorizer = CountVectorizer(min_df = best_min_df)       \n",
    "X, y = make_xy(critics, vectorizer)\n",
    "Xtrain = X[mask]\n",
    "ytrain = y[mask]\n",
    "Xtest = X[~mask]\n",
    "ytest = y[~mask]\n",
    "\n",
    "clf = RandomForestClassifier(n_estimators=best_n, random_state=5).fit(Xtrain, ytrain)\n",
    "training_accuracy = clf.score(Xtrain, ytrain)\n",
    "test_accuracy = clf.score(Xtest, ytest)\n",
    "\n",
    "print(\"Accuracy on training data: {:2f}\".format(training_accuracy))\n",
    "print(\"Accuracy on test data:     {:2f}\".format(test_accuracy))"
   ]
  },
  {
   "cell_type": "code",
   "execution_count": null,
   "metadata": {
    "collapsed": true
   },
   "outputs": [],
   "source": [
    "# Predicting proba\n",
    "text = vectorizer.transform(['This movie is not remarkable, touching, or superb in any way'])\n",
    "clf.predict_proba(text)"
   ]
  },
  {
   "cell_type": "markdown",
   "metadata": {},
   "source": [
    "**Note:** The best Random Forest classifier builds 90 decision trees and is trained with features/words that appear in at least 0.1% of all reivews. The training accuracy is close to 100%, but the testing accuracy is only about 69%. Even the best Random Forest classifier still misclassifies a review describing a 'not remarkable' movie as fresh."
   ]
  },
  {
   "cell_type": "code",
   "execution_count": null,
   "metadata": {
    "collapsed": true
   },
   "outputs": [],
   "source": []
  },
  {
   "cell_type": "markdown",
   "metadata": {},
   "source": [
    "#### 3. Latent Dirichlet Allocation (LDA)"
   ]
  },
  {
   "cell_type": "markdown",
   "metadata": {},
   "source": [
    "Latent Dirichlet Allocation is a generative model for topic discovery. The model assumes that each document belongs to a small number of topics and that each word is attributable to one of the document's topics."
   ]
  },
  {
   "cell_type": "code",
   "execution_count": null,
   "metadata": {
    "collapsed": true
   },
   "outputs": [],
   "source": [
    "import warnings\n",
    "import gensim\n",
    "warnings.filterwarnings(action='ignore', category=UserWarning, module='gensim')"
   ]
  },
  {
   "cell_type": "code",
   "execution_count": null,
   "metadata": {
    "collapsed": true
   },
   "outputs": [],
   "source": [
    "vectorizer = CountVectorizer(min_df = 1, max_df = 0.1, stop_words = 'english')\n",
    "X = vectorizer.fit_transform(critics.quote)"
   ]
  },
  {
   "cell_type": "code",
   "execution_count": null,
   "metadata": {
    "collapsed": true
   },
   "outputs": [],
   "source": [
    "corpus = vectorizer.get_feature_names()\n",
    "id2words = dict((v, k) for k,v in vectorizer.vocabulary_.items())\n",
    "corpus_gensim = gensim.matutils.Sparse2Corpus(X, documents_columns=False)"
   ]
  },
  {
   "cell_type": "code",
   "execution_count": null,
   "metadata": {
    "collapsed": true
   },
   "outputs": [],
   "source": [
    "lda = gensim.models.ldamodel.LdaModel(corpus_gensim, id2word=id2words, num_topics=3, update_every=1, chunksize=1000, passes=1)"
   ]
  },
  {
   "cell_type": "code",
   "execution_count": null,
   "metadata": {
    "collapsed": true
   },
   "outputs": [],
   "source": [
    "lda.print_topics()"
   ]
  },
  {
   "cell_type": "markdown",
   "metadata": {},
   "source": [
    "**Note:** In vectorizing the documents I removed the English stop words as well as many commonly words across all documents (max_df=0.1) in order to find specific words that can help us discover topics. With these movie reviews, it seems to be quite difficult to determine the topics. The topics might be related to the genre of the movies or the movies being funny or novel."
   ]
  },
  {
   "cell_type": "code",
   "execution_count": null,
   "metadata": {
    "collapsed": true
   },
   "outputs": [],
   "source": []
  },
  {
   "cell_type": "markdown",
   "metadata": {},
   "source": [
    "#### 4. The Skip-Gram and Continuous Bag-of-Words Models\n",
    "\n",
    "Word2vec is based on the idea that similar words have similar context. The model includes two algorithms: continuous bag-of-words (CBOW) and skip-gram. Skip-gram aims to predict the probability of context words from a center word, and CBOW predicts a center word from the surrounding context words. The two training methods are negative sampling and hierarchical softmax."
   ]
  },
  {
   "cell_type": "code",
   "execution_count": null,
   "metadata": {
    "collapsed": true
   },
   "outputs": [],
   "source": []
  },
  {
   "cell_type": "markdown",
   "metadata": {},
   "source": [
    "#### 5. Term Frequency and Inverse Document Frequency (TF-IDF)\n",
    "\n",
    "Counting the term frequency in a document is a rough measure of term importance. But if a frequent term appears in almost every document, it is then not very useful in prediction. So we can multiple this term frequency with the inverse of its popularity in all documents. This will downweight words like \"movie\" that shows up in all reviews and increase the weight of words that appear only in a few documents."
   ]
  },
  {
   "cell_type": "code",
   "execution_count": null,
   "metadata": {
    "collapsed": true
   },
   "outputs": [],
   "source": [
    "# Use term importance measured by TF-IDF weighting instead of word counts\n",
    "from sklearn.feature_extraction.text import TfidfVectorizer"
   ]
  },
  {
   "cell_type": "code",
   "execution_count": null,
   "metadata": {
    "collapsed": true
   },
   "outputs": [],
   "source": [
    "# Specify the grid of parameters to search over\n",
    "alphas = [0.1, 1, 5, 10]\n",
    "min_dfs = [0, 0.00001, 0.0001, 0.001]\n",
    "max_dfs = [0.05, 0.1, 0.3, 0.5, 0.7]\n",
    "\n",
    "# Find the best value for alpha and min_df, and the best NB classifier with bigrams\n",
    "best_alpha = None\n",
    "best_min_df = None\n",
    "best_max_df = None\n",
    "maxscore=-np.inf\n",
    "for alpha in alphas: \n",
    "    for min_df in min_dfs:\n",
    "        for max_df in max_dfs:\n",
    "            tfidfvectorizer = TfidfVectorizer(min_df = min_df, max_df = max_df, stop_words = 'english')      \n",
    "            Xthis, ythis = make_xy(critics, tfidfvectorizer)\n",
    "            Xtrainthis = Xthis[mask]\n",
    "            ytrainthis = ythis[mask]\n",
    "            clf = MultinomialNB(alpha=alpha)\n",
    "            score = cv_score(clf, Xtrainthis, ytrainthis, scorefunc=log_likelihood)\n",
    "            if score > maxscore:\n",
    "                maxscore = score\n",
    "                best_alpha = alpha\n",
    "                best_min_df = min_df\n",
    "                best_max_df = max_df"
   ]
  },
  {
   "cell_type": "code",
   "execution_count": null,
   "metadata": {
    "collapsed": true
   },
   "outputs": [],
   "source": [
    "print('Best alpha: {}\\nBest min_df: {}\\nBest max_df: {}'.format(best_alpha,best_min_df,best_max_df))"
   ]
  },
  {
   "cell_type": "code",
   "execution_count": null,
   "metadata": {
    "collapsed": true
   },
   "outputs": [],
   "source": [
    "tfidfvectorizer = TfidfVectorizer(best_min_df, best_max_df, stop_words='english')\n",
    "X, y = make_xy(critics, tfidfvectorizer)\n",
    "xtrain=X[mask]\n",
    "ytrain=y[mask]\n",
    "xtest=X[~mask]\n",
    "ytest=y[~mask]\n",
    "\n",
    "clf = MultinomialNB(alpha=best_alpha).fit(xtrain, ytrain)\n",
    "\n",
    "# Print the accuracy on the test and training dataset\n",
    "training_accuracy = clf.score(xtrain, ytrain)\n",
    "test_accuracy = clf.score(xtest, ytest)\n",
    "\n",
    "print(\"Accuracy on training data: {:2f}\".format(training_accuracy))\n",
    "print(\"Accuracy on test data:     {:2f}\".format(test_accuracy))"
   ]
  },
  {
   "cell_type": "code",
   "execution_count": null,
   "metadata": {
    "collapsed": true
   },
   "outputs": [],
   "source": [
    "text = tfidfvectorizer.transform(['This movie is not remarkable, touching, or superb in any way'])\n",
    "clf.predict_proba(text)"
   ]
  },
  {
   "cell_type": "code",
   "execution_count": null,
   "metadata": {
    "collapsed": true
   },
   "outputs": [],
   "source": [
    "words = np.array(tfidfvectorizer.get_feature_names())\n",
    "\n",
    "x = np.eye(xtest.shape[1]) # create an identity matrix with the number of features\n",
    "probs = clf.predict_log_proba(x)[:, 0] # the model's probabilities of prediciting rotten reviews\n",
    "ind = np.argsort(probs) # return the indices based on sorting the predicted probabilities\n",
    "\n",
    "good_words = words[ind[:10]]\n",
    "bad_words = words[ind[-10:]]\n",
    "\n",
    "good_prob = probs[ind[:10]]\n",
    "bad_prob = probs[ind[-10:]]\n",
    "\n",
    "print(\"Good words\\t     P(fresh | word)\")\n",
    "for w, p in zip(good_words, good_prob):\n",
    "    print(\"{:>20}\".format(w), \"{:.2f}\".format(1 - np.exp(p)))\n",
    "    \n",
    "print(\"Bad words\\t     P(fresh | word)\")\n",
    "for w, p in zip(bad_words, bad_prob):\n",
    "    print(\"{:>20}\".format(w), \"{:.2f}\".format(1 - np.exp(p)))"
   ]
  },
  {
   "cell_type": "markdown",
   "metadata": {},
   "source": [
    "**Note:** Using TF-IDF to vectorize the documents generate similar results as before."
   ]
  },
  {
   "cell_type": "code",
   "execution_count": null,
   "metadata": {
    "collapsed": true
   },
   "outputs": [],
   "source": []
  }
 ],
 "metadata": {
  "kernelspec": {
   "display_name": "Python 3",
   "language": "python",
   "name": "python3"
  },
  "language_info": {
   "codemirror_mode": {
    "name": "ipython",
    "version": 3
   },
   "file_extension": ".py",
   "mimetype": "text/x-python",
   "name": "python",
   "nbconvert_exporter": "python",
   "pygments_lexer": "ipython3",
   "version": "3.6.1"
  }
 },
 "nbformat": 4,
 "nbformat_minor": 2
}
