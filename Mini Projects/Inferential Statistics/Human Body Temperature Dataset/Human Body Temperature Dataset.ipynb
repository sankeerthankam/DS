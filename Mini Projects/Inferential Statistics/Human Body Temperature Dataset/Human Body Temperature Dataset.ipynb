{
 "cells": [
  {
   "cell_type": "markdown",
   "metadata": {},
   "source": [
    "# <center> 1. Inferential Statistics on Human Body Temperature Dataset\n",
    "***"
   ]
  },
  {
   "cell_type": "markdown",
   "metadata": {},
   "source": [
    "## What is the True Normal Human Body Temperature? "
   ]
  },
  {
   "cell_type": "markdown",
   "metadata": {},
   "source": [
    "### Background\n",
    "\n",
    "For more than 120 years, the mean normal body temperature was held to be 37$^{\\circ}$C or 98.6$^{\\circ}$F since it was first conceptualized by Carl Wunderlich in 1868. But, is this value statistically correct?"
   ]
  },
  {
   "cell_type": "markdown",
   "metadata": {},
   "source": [
    "### Exercises:\n",
    "\n",
    "<p>In this exercise, I analyze a dataset of human body temperatures and employ the concepts of hypothesis testing, confidence intervals, and statistical significance to answer the following questions: </p> \n",
    "\n",
    "<ol>\n",
    "<li>  Is the distribution of body temperatures normal? \n",
    "    <ul>\n",
    "    <li> Although this is not a requirement for the Central Limit Theorem to hold (read the introduction on Wikipedia's page about the CLT carefully: https://en.wikipedia.org/wiki/Central_limit_theorem), it gives us some peace of mind that the population may also be normally distributed if we assume that this sample is representative of the population.\n",
    "    <li> Think about the way you're going to check for the normality of the distribution. Graphical methods are usually used first, but there are also other ways: https://en.wikipedia.org/wiki/Normality_test\n",
    "    </ul>\n",
    "<li>  Is the sample size large? Are the observations independent?\n",
    "    <ul>\n",
    "    <li> Remember that this is a condition for the Central Limit Theorem, and hence the statistical tests we are using, to apply.\n",
    "    </ul>\n",
    "<li>  Is the true population mean really 98.6 degrees F?\n",
    "    <ul>\n",
    "    <li> First, try a bootstrap hypothesis test.\n",
    "    <li> Now, let's try frequentist statistical testing. Would you use a one-sample or two-sample test? Why?\n",
    "    <li> In this situation, is it appropriate to use the $t$ or $z$ statistic? \n",
    "    <li> Now try using the other test. How is the result be different? Why?\n",
    "    </ul>\n",
    "<li>  Draw a small sample of size 10 from the data and repeat both frequentist tests. \n",
    "    <ul>\n",
    "    <li> Which one is the correct one to use? \n",
    "    <li> What do you notice? What does this tell you about the difference in application of the $t$ and $z$ statistic?\n",
    "    </ul>\n",
    "<li>  At what temperature should we consider someone's temperature to be \"abnormal\"?\n",
    "    <ul>\n",
    "    <li> As in the previous example, try calculating everything using the boostrap approach, as well as the frequentist approach.\n",
    "    <li> Start by computing the margin of error and confidence interval. When calculating the confidence interval, keep in mind that you should use the appropriate formula for one draw, and not N draws.\n",
    "    </ul>\n",
    "<li>  Is there a significant difference between males and females in normal temperature?\n",
    "    <ul>\n",
    "    <li> What testing approach did you use and why?\n",
    "    <li> Write a story with your conclusion in the context of the original problem.\n",
    "    </ul>\n",
    "</ol>"
   ]
  },
  {
   "cell_type": "markdown",
   "metadata": {},
   "source": [
    "#### Resources\n",
    "\n",
    "+ Information and data sources: http://www.amstat.org/publications/jse/datasets/normtemp.txt, http://www.amstat.org/publications/jse/jse_data_archive.htm\n",
    "+ Markdown syntax: http://nestacms.com/docs/creating-content/markdown-cheat-sheet\n",
    "\n",
    "****"
   ]
  },
  {
   "cell_type": "markdown",
   "metadata": {},
   "source": [
    "## Solutions:"
   ]
  },
  {
   "cell_type": "code",
   "execution_count": 1,
   "metadata": {
    "collapsed": true
   },
   "outputs": [],
   "source": [
    "# Importing necessary modules\n",
    "import pandas as pd\n",
    "import numpy as np\n",
    "import matplotlib.pyplot as plt\n",
    "import seaborn as sns\n",
    "from scipy import stats"
   ]
  },
  {
   "cell_type": "code",
   "execution_count": 22,
   "metadata": {
    "collapsed": true
   },
   "outputs": [],
   "source": [
    "% matplotlib inline"
   ]
  },
  {
   "cell_type": "code",
   "execution_count": 17,
   "metadata": {
    "collapsed": true
   },
   "outputs": [],
   "source": [
    "# Setting seaborn defaults\n",
    "sns.set()"
   ]
  },
  {
   "cell_type": "code",
   "execution_count": 2,
   "metadata": {
    "collapsed": true
   },
   "outputs": [],
   "source": [
    "# Reading the data\n",
    "df = pd.read_csv('data/human_body_temperature.csv')"
   ]
  },
  {
   "cell_type": "code",
   "execution_count": 3,
   "metadata": {},
   "outputs": [
    {
     "data": {
      "text/plain": [
       "(130, 3)"
      ]
     },
     "execution_count": 3,
     "metadata": {},
     "output_type": "execute_result"
    }
   ],
   "source": [
    "# Shape of the dataframe\n",
    "df.shape"
   ]
  },
  {
   "cell_type": "code",
   "execution_count": 4,
   "metadata": {},
   "outputs": [
    {
     "data": {
      "text/html": [
       "<div>\n",
       "<style>\n",
       "    .dataframe thead tr:only-child th {\n",
       "        text-align: right;\n",
       "    }\n",
       "\n",
       "    .dataframe thead th {\n",
       "        text-align: left;\n",
       "    }\n",
       "\n",
       "    .dataframe tbody tr th {\n",
       "        vertical-align: top;\n",
       "    }\n",
       "</style>\n",
       "<table border=\"1\" class=\"dataframe\">\n",
       "  <thead>\n",
       "    <tr style=\"text-align: right;\">\n",
       "      <th></th>\n",
       "      <th>temperature</th>\n",
       "      <th>gender</th>\n",
       "      <th>heart_rate</th>\n",
       "    </tr>\n",
       "  </thead>\n",
       "  <tbody>\n",
       "    <tr>\n",
       "      <th>0</th>\n",
       "      <td>99.3</td>\n",
       "      <td>F</td>\n",
       "      <td>68.0</td>\n",
       "    </tr>\n",
       "    <tr>\n",
       "      <th>1</th>\n",
       "      <td>98.4</td>\n",
       "      <td>F</td>\n",
       "      <td>81.0</td>\n",
       "    </tr>\n",
       "    <tr>\n",
       "      <th>2</th>\n",
       "      <td>97.8</td>\n",
       "      <td>M</td>\n",
       "      <td>73.0</td>\n",
       "    </tr>\n",
       "    <tr>\n",
       "      <th>3</th>\n",
       "      <td>99.2</td>\n",
       "      <td>F</td>\n",
       "      <td>66.0</td>\n",
       "    </tr>\n",
       "    <tr>\n",
       "      <th>4</th>\n",
       "      <td>98.0</td>\n",
       "      <td>F</td>\n",
       "      <td>73.0</td>\n",
       "    </tr>\n",
       "  </tbody>\n",
       "</table>\n",
       "</div>"
      ],
      "text/plain": [
       "   temperature gender  heart_rate\n",
       "0         99.3      F        68.0\n",
       "1         98.4      F        81.0\n",
       "2         97.8      M        73.0\n",
       "3         99.2      F        66.0\n",
       "4         98.0      F        73.0"
      ]
     },
     "execution_count": 4,
     "metadata": {},
     "output_type": "execute_result"
    }
   ],
   "source": [
    "# Inspecting the dataframe \n",
    "df.head()"
   ]
  },
  {
   "cell_type": "code",
   "execution_count": 5,
   "metadata": {},
   "outputs": [
    {
     "name": "stdout",
     "output_type": "stream",
     "text": [
      "<class 'pandas.core.frame.DataFrame'>\n",
      "RangeIndex: 130 entries, 0 to 129\n",
      "Data columns (total 3 columns):\n",
      "temperature    130 non-null float64\n",
      "gender         130 non-null object\n",
      "heart_rate     130 non-null float64\n",
      "dtypes: float64(2), object(1)\n",
      "memory usage: 3.1+ KB\n"
     ]
    }
   ],
   "source": [
    "# Checking for null values, if any\n",
    "df.info()"
   ]
  },
  {
   "cell_type": "code",
   "execution_count": null,
   "metadata": {
    "collapsed": true
   },
   "outputs": [],
   "source": []
  },
  {
   "cell_type": "markdown",
   "metadata": {},
   "source": [
    "## 1. Is the distribution of body temperatures normal?"
   ]
  },
  {
   "cell_type": "code",
   "execution_count": 40,
   "metadata": {
    "scrolled": true
   },
   "outputs": [
    {
     "data": {
      "text/plain": [
       "<matplotlib.text.Text at 0xc90bb70>"
      ]
     },
     "execution_count": 40,
     "metadata": {},
     "output_type": "execute_result"
    },
    {
     "data": {
      "image/png": "[encoded data removed]",
      "text/plain": [
       "<matplotlib.figure.Figure at 0xc897470>"
      ]
     },
     "metadata": {},
     "output_type": "display_data"
    }
   ],
   "source": [
    "plt.figure(figsize=(8,5))\n",
    "sns.distplot(df['temperature'], bins = int(np.sqrt(len(df))))\n",
    "plt.xlabel('Temperature ($^\\circ$F)')\n",
    "plt.ylabel('Frequency')"
   ]
  },
  {
   "cell_type": "code",
   "execution_count": 42,
   "metadata": {
    "collapsed": true
   },
   "outputs": [],
   "source": [
    "# Emperical Cumulative Distribution Function \n",
    "def ecdf(data):\n",
    "    n = len(data)\n",
    "    x = np.sort(data)\n",
    "    y = np.arange(1, n+1)/n\n",
    "    return x, y"
   ]
  },
  {
   "cell_type": "code",
   "execution_count": 43,
   "metadata": {
    "collapsed": true
   },
   "outputs": [],
   "source": [
    "# Calculating mean and standard deviation\n",
    "temperature = df.temperature\n",
    "mean, std = temperature.mean(), temperature.std()\n",
    "n = len(temperature)"
   ]
  },
  {
   "cell_type": "code",
   "execution_count": 44,
   "metadata": {
    "collapsed": true
   },
   "outputs": [],
   "source": [
    "# Seeding the random number generator:\n",
    "np.random.seed(10)\n",
    "\n",
    "# Drawing random samples from random distribution\n",
    "random_samples = np.random.normal(mean, std, size = 10000)"
   ]
  },
  {
   "cell_type": "code",
   "execution_count": 45,
   "metadata": {
    "scrolled": true
   },
   "outputs": [
    {
     "data": {
      "image/png": "[encoded data removed]",
      "text/plain": [
       "<matplotlib.figure.Figure at 0xcb5f208>"
      ]
     },
     "metadata": {},
     "output_type": "display_data"
    }
   ],
   "source": [
    "# ECDF on temperature data and on random samples\n",
    "temperature_x, temperature_y = ecdf(temperature)\n",
    "random_samples_x, random_samples_y = ecdf(random_samples)\n",
    "\n",
    "# Plotting the ECDFs for temperature and random sample \n",
    "sns.set()\n",
    "_ = plt.plot(random_samples_x, random_samples_y)\n",
    "_ = plt.plot(temperature_x, temperature_y, marker = '.', linestyle = 'none')\n",
    "_ = plt.xlabel('Temperature ($^\\circ$F)')\n",
    "_ = plt.ylabel('ECDF')\n",
    "_ = plt.legend(('Distribution', 'Empirical Data'))\n",
    "plt.show()"
   ]
  },
  {
   "cell_type": "markdown",
   "metadata": {},
   "source": [
    "From the above distribution plot (histograms) <strong> with bins </strong> and ecdfs <strong> without bins</strong>; we can conclude that `temperature` is normally distributed"
   ]
  },
  {
   "cell_type": "code",
   "execution_count": null,
   "metadata": {
    "collapsed": true
   },
   "outputs": [],
   "source": []
  },
  {
   "cell_type": "markdown",
   "metadata": {},
   "source": [
    "## 2. Is the sample size large? Are the observations independent?"
   ]
  },
  {
   "cell_type": "markdown",
   "metadata": {},
   "source": [
    "### (i) Is the sample large enough?"
   ]
  },
  {
   "cell_type": "code",
   "execution_count": 39,
   "metadata": {},
   "outputs": [
    {
     "data": {
      "text/plain": [
       "130"
      ]
     },
     "execution_count": 39,
     "metadata": {},
     "output_type": "execute_result"
    }
   ],
   "source": [
    "len(df)"
   ]
  },
  {
   "cell_type": "markdown",
   "metadata": {},
   "source": [
    "Since the number of observations is 130 (t > 30), the sample size is large enough to apply Central Limit Theorem."
   ]
  },
  {
   "cell_type": "markdown",
   "metadata": {},
   "source": [
    "### (ii) Are the observations independent?"
   ]
  },
  {
   "cell_type": "markdown",
   "metadata": {},
   "source": [
    "The best possible way to find dependency in the observations is to check during the `Data Acquisition/Collection` process. However, we can still address this property using \"time-series\"  plots where we plot the observations of a variable with respect to time"
   ]
  },
  {
   "cell_type": "code",
   "execution_count": 55,
   "metadata": {},
   "outputs": [
    {
     "data": {
      "text/plain": [
       "array([   1.,    2.,    3.,    4.,    5.,    6.,    7.,    8.,    9.,\n",
       "         10.,   11.,   12.,   13.,   14.,   15.,   16.,   17.,   18.,\n",
       "         19.,   20.,   21.,   22.,   23.,   24.,   25.,   26.,   27.,\n",
       "         28.,   29.,   30.,   31.,   32.,   33.,   34.,   35.,   36.,\n",
       "         37.,   38.,   39.,   40.,   41.,   42.,   43.,   44.,   45.,\n",
       "         46.,   47.,   48.,   49.,   50.,   51.,   52.,   53.,   54.,\n",
       "         55.,   56.,   57.,   58.,   59.,   60.,   61.,   62.,   63.,\n",
       "         64.,   65.,   66.,   67.,   68.,   69.,   70.,   71.,   72.,\n",
       "         73.,   74.,   75.,   76.,   77.,   78.,   79.,   80.,   81.,\n",
       "         82.,   83.,   84.,   85.,   86.,   87.,   88.,   89.,   90.,\n",
       "         91.,   92.,   93.,   94.,   95.,   96.,   97.,   98.,   99.,\n",
       "        100.,  101.,  102.,  103.,  104.,  105.,  106.,  107.,  108.,\n",
       "        109.,  110.,  111.,  112.,  113.,  114.,  115.,  116.,  117.,\n",
       "        118.,  119.,  120.,  121.,  122.,  123.,  124.,  125.,  126.,\n",
       "        127.,  128.,  129.,  130.])"
      ]
     },
     "execution_count": 55,
     "metadata": {},
     "output_type": "execute_result"
    }
   ],
   "source": [
    "np.linspace(1,len(df), len(df))"
   ]
  },
  {
   "cell_type": "code",
   "execution_count": 58,
   "metadata": {
    "scrolled": true
   },
   "outputs": [],
   "source": [
    "df1 = df.set_index(np.linspace(1, len(df), len(df)))"
   ]
  },
  {
   "cell_type": "code",
   "execution_count": 62,
   "metadata": {},
   "outputs": [
    {
     "data": {
      "image/png": "[encoded data removed]",
      "text/plain": [
       "<matplotlib.figure.Figure at 0xdec8ac8>"
      ]
     },
     "metadata": {},
     "output_type": "display_data"
    }
   ],
   "source": [
    "plt.figure(figsize=(8,5))\n",
    "plt.plot(df1.index, df1['temperature'], marker='.', linestyle = 'none')\n",
    "plt.xlabel('Order of Observations')\n",
    "plt.ylabel('Human Body Temperature ($^\\circ$F)' )\n",
    "plt.show()"
   ]
  },
  {
   "cell_type": "markdown",
   "metadata": {},
   "source": [
    "We do not notice any dependency in the above scatter plot. This denotes that the observations are independent of each other."
   ]
  },
  {
   "cell_type": "markdown",
   "metadata": {},
   "source": [
    "** Assumption:** The above data is assumed to be gathered in a chronological order (i.e. first observation is collected before second observation; second is collected before tird and so on.)"
   ]
  },
  {
   "cell_type": "code",
   "execution_count": null,
   "metadata": {
    "collapsed": true
   },
   "outputs": [],
   "source": []
  },
  {
   "cell_type": "markdown",
   "metadata": {},
   "source": [
    "## 3. Is the true population mean really 98.6$^\\circ$F?\n",
    "\n",
    "    (a) First, try a bootstrap hypothesis test.\n",
    "    (b) Now, let's try frequentist statistical testing. \n",
    "    (c) Would you use a one-sample or two-sample test? Why?\n",
    "    (d) In this situation, is it appropriate to use the tt or zz statistic?\n",
    "    (e) Now try using the other test. How is the result be different? Why? "
   ]
  },
  {
   "cell_type": "markdown",
   "metadata": {},
   "source": [
    "### (i) First, try a bootstrap hypothesis test."
   ]
  },
  {
   "cell_type": "code",
   "execution_count": 72,
   "metadata": {
    "collapsed": true
   },
   "outputs": [],
   "source": [
    "# Function to draw bootstrap samples\n",
    "def draw_bs_reps(data, func, size = 1):\n",
    "    bs_replicates = np.empty(size)\n",
    "    for i in range(size):\n",
    "        bs_replicates[i] = bootstrap_replicate_1d(data,func)        \n",
    "    return bs_replicates\n",
    "\n",
    "# Function to draw bootstap replicates\n",
    "def bootstrap_replicate_1d(data, func):\n",
    "    return func(np.random.choice(data, size = len(data)))"
   ]
  },
  {
   "cell_type": "code",
   "execution_count": 73,
   "metadata": {},
   "outputs": [
    {
     "data": {
      "text/plain": [
       "0.0"
      ]
     },
     "execution_count": 73,
     "metadata": {},
     "output_type": "execute_result"
    }
   ],
   "source": [
    "# Calculating shifted mean from theoretical mean (98.6)\n",
    "theoretical_mean = 98.6\n",
    "shifted_mean = temperature - mean + theoretical_mean\n",
    "\n",
    "# Drawing Bootsrap replicates\n",
    "bs_replicates_temp = draw_bs_reps(shifted_mean, np.mean, size = 10000)\n",
    "p = np.sum(bs_replicates_temp <= mean)/len(bs_replicates_temp)\n",
    "p"
   ]
  },
  {
   "cell_type": "markdown",
   "metadata": {},
   "source": [
    "Since p_value is less than 0.05 it indicates that the true population mean is siginficantly different than 98.6 F."
   ]
  },
  {
   "cell_type": "code",
   "execution_count": null,
   "metadata": {
    "collapsed": true
   },
   "outputs": [],
   "source": []
  },
  {
   "cell_type": "markdown",
   "metadata": {},
   "source": [
    "### (ii)  Now, let's try frequentist statistical testing.\n",
    "### (iii) Would you use a one-sample or two-sample test? Why?\n",
    "### (iv) In this situation, is it appropriate to use the tt or zz statistic?"
   ]
  },
  {
   "cell_type": "markdown",
   "metadata": {
    "collapsed": true
   },
   "source": [
    "A one sample t-test is used to compare the mean of a sample to a known value. <br>\n",
    "A two sample t-test is used to compare the means of two different samples. \n",
    "\n",
    "Since we are comparing the mean of a sample to a single value, we use a `one-sample` test. <br>\n",
    "Also, as we do not know the <strong> standard deviation </strong> of the population, we have to use a `t-statistic`. \n",
    "\n",
    "<strong> However, performing t-test on larger samples might yeild similar results to that of z-test."
   ]
  },
  {
   "cell_type": "markdown",
   "metadata": {},
   "source": [
    "Null Hypothesis: μ = 98.6"
   ]
  },
  {
   "cell_type": "code",
   "execution_count": 64,
   "metadata": {},
   "outputs": [],
   "source": [
    "#  Calculating t-value and p\n",
    "t_stat = stats.ttest_1samp(df['temperature'], 98.6)[0]\n",
    "p = stats.ttest_1samp(df['temperature'], 98.6)[1]"
   ]
  },
  {
   "cell_type": "code",
   "execution_count": 69,
   "metadata": {},
   "outputs": [
    {
     "name": "stdout",
     "output_type": "stream",
     "text": [
      "t-statistic ----  -5.45482329236\n",
      "p-value     ----   2.41063204156e-07\n"
     ]
    }
   ],
   "source": [
    "print(\"t-statistic ---- \", t_stat)\n",
    "print(\"p-value     ----  \", p)"
   ]
  },
  {
   "cell_type": "code",
   "execution_count": 68,
   "metadata": {},
   "outputs": [
    {
     "name": "stdout",
     "output_type": "stream",
     "text": [
      "-2.6144786797 2.6144786797\n"
     ]
    }
   ],
   "source": [
    "# Confidence Interval\n",
    "print((stats.t.ppf(q = 0.005, df = n-1)), (stats.t.ppf(q = 0.995, df = n-1)))"
   ]
  },
  {
   "cell_type": "markdown",
   "metadata": {},
   "source": [
    "The value of t-statistic is way beyond range of t-distribution [-2.6144786797, 2.6144786797]. <br>\n",
    "Also, since p-value is less than 0.01, we reject the null hypothesis.\n",
    "\n",
    "**Note**: t-critical = ± 2.6144786797 (same as the range of t-distribution)"
   ]
  },
  {
   "cell_type": "code",
   "execution_count": null,
   "metadata": {
    "collapsed": true
   },
   "outputs": [],
   "source": []
  },
  {
   "cell_type": "markdown",
   "metadata": {},
   "source": [
    "### (v) Now try using the other test. How is the result be different? Why? "
   ]
  },
  {
   "cell_type": "markdown",
   "metadata": {
    "collapsed": true
   },
   "source": [
    "Note that we do not know the <strong> standard deviation </strong> of the population. However, we can approximately calculate it using `standard error of mean`."
   ]
  },
  {
   "cell_type": "code",
   "execution_count": 74,
   "metadata": {},
   "outputs": [],
   "source": [
    "# Standard error of mean\n",
    "sem = std/ np.sqrt(n)\n",
    "\n",
    "# Z-statistic and p-vaue\n",
    "z_stat = (mean - theoretical_mean) / sem\n",
    "p = stats.norm.cdf(z_stat) * 2"
   ]
  },
  {
   "cell_type": "code",
   "execution_count": 88,
   "metadata": {},
   "outputs": [
    {
     "name": "stdout",
     "output_type": "stream",
     "text": [
      "z-statistic ----  -5.45482329236\n",
      "p-value     ----   0.000000049 \n"
     ]
    }
   ],
   "source": [
    "print(\"z-statistic ---- \", z_stat)\n",
    "print(\"p-value     ----   %0.9F \"% p)"
   ]
  },
  {
   "cell_type": "code",
   "execution_count": 85,
   "metadata": {},
   "outputs": [
    {
     "name": "stdout",
     "output_type": "stream",
     "text": [
      "t-statistic ----  -5.45482329236\n",
      "z-statistic ----  -5.45482329236\n"
     ]
    }
   ],
   "source": [
    "# Compare t-statistic and z-statistic\n",
    "print(\"t-statistic ---- \", z_stat)\n",
    "print(\"z-statistic ---- \", t_stat)"
   ]
  },
  {
   "cell_type": "markdown",
   "metadata": {},
   "source": [
    "Both z-statistic and t-statistic are almost the same, and p-value is less than 0.01"
   ]
  },
  {
   "cell_type": "markdown",
   "metadata": {},
   "source": [
    "From the above tests, (bootstapping test, t-test and z-test); p-value is less than 0.01. Hence, we reject that `true population mean is 98.5 F`."
   ]
  },
  {
   "cell_type": "code",
   "execution_count": null,
   "metadata": {
    "collapsed": true
   },
   "outputs": [],
   "source": []
  },
  {
   "cell_type": "markdown",
   "metadata": {},
   "source": [
    "**Edit**: Another simpler way of carrying of z-test is using statsmodels."
   ]
  },
  {
   "cell_type": "code",
   "execution_count": 79,
   "metadata": {
    "collapsed": true
   },
   "outputs": [],
   "source": [
    "from statsmodels.stats.weightstats import ztest\n",
    "z = ztest(df.temperature, value = 98.6)"
   ]
  },
  {
   "cell_type": "code",
   "execution_count": 80,
   "metadata": {},
   "outputs": [
    {
     "name": "stdout",
     "output_type": "stream",
     "text": [
      "(-5.4548232923645195, 4.9021570141012155e-08)\n"
     ]
    }
   ],
   "source": [
    "print(z)"
   ]
  },
  {
   "cell_type": "code",
   "execution_count": 90,
   "metadata": {},
   "outputs": [
    {
     "name": "stdout",
     "output_type": "stream",
     "text": [
      "Z-score is equal to : 5.455  p-value equal to: 0.000000049\n"
     ]
    }
   ],
   "source": [
    "print(\"Z-score is equal to : %0.3F  p-value equal to: %0.9F\" % (abs(z[0]),z[1]))"
   ]
  },
  {
   "cell_type": "code",
   "execution_count": null,
   "metadata": {
    "collapsed": true
   },
   "outputs": [],
   "source": []
  },
  {
   "cell_type": "markdown",
   "metadata": {},
   "source": [
    "## 4. Draw a small sample of size 10 from the data and repeat both frequentist tests.\n",
    "\n",
    "    Which one is the correct one to use?\n",
    "    What do you notice? What does this tell you about the difference in application of the tt and zz statistic? "
   ]
  },
  {
   "cell_type": "markdown",
   "metadata": {
    "collapsed": true
   },
   "source": [
    "We perform t-test because the population standard deviation is unknown  adn sample size is less than 30"
   ]
  },
  {
   "cell_type": "code",
   "execution_count": 91,
   "metadata": {},
   "outputs": [
    {
     "data": {
      "text/plain": [
       "array([ 98.6,  96.3,  98.8,  98.7,  99.1,  97.2,  99.1,  98.4,  98.8,  99.3])"
      ]
     },
     "execution_count": 91,
     "metadata": {},
     "output_type": "execute_result"
    }
   ],
   "source": [
    "# Seed the random number generator\n",
    "np.random.seed(10)\n",
    "\n",
    "# Drawing a random sample of 10\n",
    "sample = np.random.choice(temperature, size = 10)\n",
    "sample"
   ]
  },
  {
   "cell_type": "code",
   "execution_count": 93,
   "metadata": {},
   "outputs": [
    {
     "name": "stdout",
     "output_type": "stream",
     "text": [
      "t-statistic: -0.56733244723\n",
      "p-value    :  0.584359801476\n"
     ]
    }
   ],
   "source": [
    "# T-statistic and p-value:\n",
    "# t_stat = stats.ttest_1samp(sample, theoretical_mean)[0]\n",
    "# p = stats.ttest_1samp(sample, theoretical_mean)[1]\n",
    "\n",
    "t = stats.ttest_1samp(sample, 98.6)[0]\n",
    "p = stats.ttest_1samp(sample, 98.6)[1]\n",
    "\n",
    "print('t-statistic:', t)\n",
    "print('p-value    : ', p)"
   ]
  },
  {
   "cell_type": "code",
   "execution_count": 94,
   "metadata": {},
   "outputs": [
    {
     "name": "stdout",
     "output_type": "stream",
     "text": [
      "z-statistic: -5.45482329236\n",
      "p-value:      0.549825982398\n"
     ]
    }
   ],
   "source": [
    "# Z-statistic and p-value\n",
    "z = (np.mean(sample) - theoretical_mean) / (np.std(sample)/np.sqrt(len(sample)))\n",
    "p = stats.norm.cdf(z) * 2\n",
    "\n",
    "print('z-statistic:', z_stat)\n",
    "print('p-value:     ', p)"
   ]
  },
  {
   "cell_type": "code",
   "execution_count": 95,
   "metadata": {},
   "outputs": [
    {
     "name": "stdout",
     "output_type": "stream",
     "text": [
      "-2.26215716274 2.26215716274\n"
     ]
    }
   ],
   "source": [
    "# confidence level (95%) and degrees of freedom:\n",
    "print((stats.t.ppf( q = 0.025, df = 10-1)), (stats.t.ppf(q = 0.975, df = 10-1)))"
   ]
  },
  {
   "cell_type": "markdown",
   "metadata": {
    "collapsed": true
   },
   "source": [
    "From the above tests, it is evident that we can reject the null hypothesis."
   ]
  },
  {
   "cell_type": "code",
   "execution_count": null,
   "metadata": {
    "collapsed": true
   },
   "outputs": [],
   "source": []
  },
  {
   "cell_type": "markdown",
   "metadata": {},
   "source": [
    "**Edit:** Another simpler way for computing confidence level:"
   ]
  },
  {
   "cell_type": "code",
   "execution_count": 96,
   "metadata": {},
   "outputs": [
    {
     "name": "stdout",
     "output_type": "stream",
     "text": [
      "-4.78091258593 4.78091258593\n"
     ]
    }
   ],
   "source": [
    "print((stats.t.ppf(q = 0.0005, df = 10-1)), (stats.t.ppf(q = 0.9995, df = 10-1)))"
   ]
  },
  {
   "cell_type": "code",
   "execution_count": null,
   "metadata": {
    "collapsed": true
   },
   "outputs": [],
   "source": []
  },
  {
   "cell_type": "markdown",
   "metadata": {},
   "source": [
    "## 5. At what temperature should we consider someone's temperature to be \"abnormal\"?\n",
    "\n",
    "    As in the previous example,try calculating everything using the boostrap approach, as well as the frequentist approach\n",
    "    Start by computing the margin of error and confidence interval. When calculating the confidence interval, keep in mind that you should use the appropriate formula for one draw, and not N draws. \n",
    "\n",
    "\n"
   ]
  },
  {
   "cell_type": "code",
   "execution_count": 126,
   "metadata": {},
   "outputs": [
    {
     "data": {
      "text/plain": [
       "3.2905267314919255"
      ]
     },
     "execution_count": 126,
     "metadata": {},
     "output_type": "execute_result"
    }
   ],
   "source": [
    "# Calculating z-critical value\n",
    "z_critical = stats.norm.ppf(0.9995)\n",
    "z_critical"
   ]
  },
  {
   "cell_type": "code",
   "execution_count": 127,
   "metadata": {},
   "outputs": [
    {
     "name": "stdout",
     "output_type": "stream",
     "text": [
      "0.0643044168379\n"
     ]
    },
    {
     "data": {
      "text/plain": [
       "0.21159540255807985"
      ]
     },
     "execution_count": 127,
     "metadata": {},
     "output_type": "execute_result"
    }
   ],
   "source": [
    "# Margin of Error \n",
    "# moe_z = z_critical*(std/np.sqrt(len(df)))\n",
    "print(sem)\n",
    "moe = z_critical * sem\n",
    "moe"
   ]
  },
  {
   "cell_type": "code",
   "execution_count": 121,
   "metadata": {},
   "outputs": [
    {
     "data": {
      "text/plain": [
       "0.06430441683789101"
      ]
     },
     "execution_count": 121,
     "metadata": {},
     "output_type": "execute_result"
    }
   ],
   "source": [
    "sem"
   ]
  },
  {
   "cell_type": "code",
   "execution_count": 128,
   "metadata": {
    "collapsed": true
   },
   "outputs": [],
   "source": [
    "# Confidence Interval\n",
    "# ci = mean + np.array([-1, 1]) * moe_z\n",
    "ci_1 = mean + moe\n",
    "ci_2 = mean - moe"
   ]
  },
  {
   "cell_type": "code",
   "execution_count": 129,
   "metadata": {},
   "outputs": [
    {
     "name": "stdout",
     "output_type": "stream",
     "text": [
      "98.0376353667 98.4608261718\n"
     ]
    }
   ],
   "source": [
    "print(ci_2, ci_1)"
   ]
  },
  {
   "cell_type": "markdown",
   "metadata": {},
   "source": [
    "If the temperature is not between 98.12 and 98.37, it is considered as \"abnormal\""
   ]
  },
  {
   "cell_type": "code",
   "execution_count": null,
   "metadata": {
    "collapsed": true
   },
   "outputs": [],
   "source": []
  },
  {
   "cell_type": "markdown",
   "metadata": {},
   "source": [
    "## 6. Is there a significant difference between males and females in normal temperature?\n",
    "\n",
    "<strong> Null Hypothesis:</strong> Mean of male and female temperatures are equal.\n",
    "\n",
    "<strong> Alternate Hypothesis:</strong> Mean of male and female temperatures are not equal.\n",
    "    "
   ]
  },
  {
   "cell_type": "code",
   "execution_count": 110,
   "metadata": {
    "collapsed": true
   },
   "outputs": [],
   "source": [
    "# Male and Female temperatures\n",
    "temp_males =np.array(df.loc[df['gender']=='M']['temperature'])\n",
    "temp_females =np.array(df.loc[df['gender']=='F']['temperature'])\n",
    "\n",
    "# Mean Difference\n",
    "#mean_diff = temp_mean \n",
    "\n",
    "# Male and Female temperatures with shifted means\n",
    "temp_males_mean_shifted = temp_males - np.mean(temp_males) + temp_mean\n",
    "temp_females_mean_shifted = temp_females - np.mean(temp_females) + temp_mean\n",
    "\n",
    "# Draw boostrapping samples for male and female temperatures (simulate data)\n",
    "bs_replicates_males = draw_bs_reps(temp_males_mean_shifted, np.mean, size=1000)\n",
    "bs_replicates_females = draw_bs_reps(temp_females_mean_shifted, np.mean, size=1000)\n",
    "\n",
    "# Calculating test statistic (test statistic for male and female temperatures)\n",
    "empirical_diff_means = np.mean(temp_females) - np.mean(temp_males)\n",
    "bs_replicates_gender = bs_replicates_males - bs_replicates_females \n",
    "\n",
    "# Computing the p-value \n",
    "p_value = np.sum(bs_replicates_gender >= empirical_diff_means)/1000"
   ]
  },
  {
   "cell_type": "code",
   "execution_count": 111,
   "metadata": {
    "scrolled": true
   },
   "outputs": [
    {
     "data": {
      "text/plain": [
       "0.012999999999999999"
      ]
     },
     "execution_count": 111,
     "metadata": {},
     "output_type": "execute_result"
    }
   ],
   "source": [
    "p_value"
   ]
  },
  {
   "cell_type": "code",
   "execution_count": 113,
   "metadata": {},
   "outputs": [
    {
     "data": {
      "text/plain": [
       "(1000,)"
      ]
     },
     "execution_count": 113,
     "metadata": {},
     "output_type": "execute_result"
    }
   ],
   "source": [
    "bs_replicates_males.shape"
   ]
  },
  {
   "cell_type": "code",
   "execution_count": 107,
   "metadata": {},
   "outputs": [
    {
     "data": {
      "text/plain": [
       "0.014"
      ]
     },
     "execution_count": 107,
     "metadata": {},
     "output_type": "execute_result"
    }
   ],
   "source": [
    "p_value"
   ]
  },
  {
   "cell_type": "markdown",
   "metadata": {},
   "source": [
    "Value of p is less than 0.05 which statistically denotes that the temperature between male and female are significantly different."
   ]
  },
  {
   "cell_type": "code",
   "execution_count": null,
   "metadata": {
    "collapsed": true
   },
   "outputs": [],
   "source": []
  }
 ],
 "metadata": {
  "kernelspec": {
   "display_name": "Python 3",
   "language": "python",
   "name": "python3"
  },
  "language_info": {
   "codemirror_mode": {
    "name": "ipython",
    "version": 3
   },
   "file_extension": ".py",
   "mimetype": "text/x-python",
   "name": "python",
   "nbconvert_exporter": "python",
   "pygments_lexer": "ipython3",
   "version": "3.6.1"
  }
 },
 "nbformat": 4,
 "nbformat_minor": 1
}
