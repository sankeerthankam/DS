{
 "cells": [
  {
   "cell_type": "markdown",
   "metadata": {},
   "source": [
    "## Getting the dataframe ready for Machine Learning"
   ]
  },
  {
   "cell_type": "markdown",
   "metadata": {},
   "source": [
    "## 1. Data Preprocessing and EDA"
   ]
  },
  {
   "cell_type": "code",
   "execution_count": 1,
   "metadata": {
    "collapsed": true
   },
   "outputs": [],
   "source": [
    "# Jupyter Notebook with Matplotlib Inline\n",
    "%matplotlib notebook\n",
    "\n",
    "# Import required modules\n",
    "import pandas as pd\n",
    "import numpy as np\n",
    "import seaborn as sns\n",
    "import matplotlib as plt\n",
    "from sklearn.model_selection import train_test_split\n",
    "from sklearn import preprocessing\n",
    "import math"
   ]
  },
  {
   "cell_type": "code",
   "execution_count": 2,
   "metadata": {},
   "outputs": [
    {
     "name": "stdout",
     "output_type": "stream",
     "text": [
      "height has been deprecated.\n",
      "\n"
     ]
    }
   ],
   "source": [
    "pd.set_option('display.height', 1000)\n",
    "pd.set_option('display.max_rows', 500)\n",
    "pd.set_option('display.max_columns', 500)\n",
    "pd.set_option('display.width', 1000)"
   ]
  },
  {
   "cell_type": "code",
   "execution_count": 3,
   "metadata": {
    "collapsed": true
   },
   "outputs": [],
   "source": [
    "# Read the cleaned datasets\n",
    "train = pd.read_csv(\"train.csv\", delimiter=',') \n",
    "test = pd.read_csv(\"test.csv\", delimiter=',')"
   ]
  },
  {
   "cell_type": "code",
   "execution_count": 4,
   "metadata": {
    "collapsed": true
   },
   "outputs": [],
   "source": [
    "# Combining two dataframes into 1\n",
    "z = pd.concat([train, test])\n",
    "\n",
    "# Creating a copy of the 'train' dataframe to work on \n",
    "df = z.copy(deep = True)"
   ]
  },
  {
   "cell_type": "code",
   "execution_count": 5,
   "metadata": {
    "collapsed": true
   },
   "outputs": [],
   "source": [
    "# Creating df_transformations exclusively for transformations \n",
    "df_transformations = df.copy(deep = True)"
   ]
  },
  {
   "cell_type": "code",
   "execution_count": null,
   "metadata": {
    "collapsed": true
   },
   "outputs": [],
   "source": []
  },
  {
   "cell_type": "markdown",
   "metadata": {},
   "source": [
    "## 2. Data Preperation"
   ]
  },
  {
   "cell_type": "markdown",
   "metadata": {},
   "source": [
    "After the EDA, here are the transformations that will be applied to the data:\n",
    "\n",
    "2.1 Data Transformation\n",
    "\n",
    "    1. 'job', 'education' and 'month' -- Consolidating these variables on Percentage of positive and negative responses.\n",
    "    2. 'age' -- Binning the high outliers (> 75) and low outliers (< 23) into a single bin respectively; and bins of 4/5 for values with in 24 and 75.\n",
    "    3. 'day' -- Replace day with 'weekday_1', 'weekday_2' and 'weekend' categories.\n",
    "    4. 'duration' -- Create two dataframes (one with 'duration' column another without). This is covered at the end of this section.\n",
    "    5. 'marital' variable -- Come back to this step while using Machine Leanring for variable or feature importance\n",
    "\n",
    "\n",
    "2.2 Treating Outliers\n",
    "    \n",
    "    1. Applying Upper and Lower bounds to 'duration' and 'employees' variable  <br>\n",
    "    2. Applying 90 percentiles and 5 percentiles for the lower and upper outliers  <br>\n",
    "    3. Apply Logarithmic transformations to invalid outliers (Not to the outliers but to all the entries in the numeric columns). <br>\n",
    "\n",
    "<u>Note:</u> `marital` variable - Come back to this step while using Machine Leanring for variable or feature importance"
   ]
  },
  {
   "cell_type": "markdown",
   "metadata": {},
   "source": [
    "## 2.1 Data Transformation"
   ]
  },
  {
   "cell_type": "markdown",
   "metadata": {},
   "source": [
    "### Transformation 1 : 'job', 'education' and 'month' \n",
    "\n",
    "Consolidating 'job', 'education' and 'month' variables (Percentage of positive and negative responses)"
   ]
  },
  {
   "cell_type": "markdown",
   "metadata": {},
   "source": [
    "<img src=\"Category Consolidation.png\">"
   ]
  },
  {
   "cell_type": "code",
   "execution_count": 6,
   "metadata": {
    "collapsed": true
   },
   "outputs": [],
   "source": [
    "# Consolidate 'job', 'education' and 'month' variables based on percentage of positive and negative responses.\n",
    "df_transformations['job'].replace(['blue-collar', 'services', 'entrepreneur', 'housemaid', 'self-employed', 'technician', \n",
    "                  'management', 'unknown', 'admin.', 'unemployed', 'retired', 'student'],\n",
    "                   ['j1l4', 'j1l4', 'j1l4', 'j1l3', 'j1l3', 'j1l3', 'j1l3', 'j1l2', 'j1l2', 'j1l2', 'j1l1', 'j1l1'], \n",
    "                   inplace=True)\n",
    "\n",
    "df_transformations['education'].replace(['basic.9y','basic.6y','basic.4y','high.school','professional.course','university.degree','unknown','illiterate'],\n",
    "                      ['e1l4','e1l4','e1l3','e1l3','e1l3','e1l2','e1l2','e1l1'], \n",
    "                      inplace=True)\n",
    "\n",
    "df_transformations['month'].replace(['may','jul','nov','aug','jun','apr','oct','sep','dec','mar'],\n",
    "                      ['m1l3','m1l3','m1l3','m1l3','m1l3','m1l2','m1l1','m1l1','m1l1','m1l1'], \n",
    "                      inplace=True)"
   ]
  },
  {
   "cell_type": "markdown",
   "metadata": {},
   "source": [
    "### Transformation 2 :  'age' Variable"
   ]
  },
  {
   "cell_type": "markdown",
   "metadata": {},
   "source": [
    "### <center> Version - A </center>\n",
    "\n",
    "<div class=\"alert alert-warning\">\n",
    "Binning the high outliers (> 75) and low outliers (< 23) into a single bin respectively; and bins of 4/5 for values with in 24 and 75\n",
    "</div>"
   ]
  },
  {
   "cell_type": "code",
   "execution_count": 7,
   "metadata": {
    "collapsed": true
   },
   "outputs": [],
   "source": [
    "# Single bin[0-20]....bins of 4 [24-60]....bins of 5 [60-75]....single bin [75-100] \n",
    "def final_test(a): \n",
    "    if(a>0 and a<=24):\n",
    "        return \"Cat 1\"\n",
    "    elif (a>24 and a<=31):\n",
    "        return \"Cat 2\"\n",
    "    elif (a>31 and a<=35):\n",
    "        return \"Cat 3\"\n",
    "    elif (a>35 and a<=41):\n",
    "        return \"Cat 4\"\n",
    "    elif (a>41 and a<=49):\n",
    "        return \"Cat 5\"\n",
    "    elif (a>49 and a<=60):\n",
    "        return \"Cat 6\"\n",
    "    elif (a>60 and a<=100):\n",
    "        return \"Cat 7\""
   ]
  },
  {
   "cell_type": "code",
   "execution_count": 8,
   "metadata": {
    "collapsed": true
   },
   "outputs": [],
   "source": [
    "df_transformations['age_cat'] = df.apply(lambda row: final_test(row['age']), axis=1)"
   ]
  },
  {
   "cell_type": "code",
   "execution_count": 9,
   "metadata": {
    "collapsed": true
   },
   "outputs": [],
   "source": [
    "# Drop 'age' column\n",
    "df_transformations.drop('age', 1, inplace = True)"
   ]
  },
  {
   "cell_type": "code",
   "execution_count": null,
   "metadata": {
    "collapsed": true
   },
   "outputs": [],
   "source": []
  },
  {
   "cell_type": "markdown",
   "metadata": {},
   "source": [
    "### <center> Version - B </center>\n",
    "\n",
    "<div class=\"alert alert-info\">\n",
    "Binning the ages into a 'young_adult', 'adult' and 'senior' using `'qcut'`.\n",
    "</div>"
   ]
  },
  {
   "cell_type": "code",
   "execution_count": 17,
   "metadata": {
    "collapsed": true
   },
   "outputs": [],
   "source": [
    "age_groups = ['young_adult', 'adult', 'senior']"
   ]
  },
  {
   "cell_type": "code",
   "execution_count": 19,
   "metadata": {
    "collapsed": true
   },
   "outputs": [],
   "source": [
    "z['age_group'] = pd.qcut(df['age'], 3, labels = age_groups)"
   ]
  },
  {
   "cell_type": "code",
   "execution_count": null,
   "metadata": {
    "collapsed": true
   },
   "outputs": [],
   "source": []
  },
  {
   "cell_type": "markdown",
   "metadata": {},
   "source": [
    "<div class=\"alert alert-danger\">\n",
    "</div>\n",
    "### Transformation 3: Merging 'marital' and 'age'"
   ]
  },
  {
   "cell_type": "code",
   "execution_count": 34,
   "metadata": {},
   "outputs": [
    {
     "data": {
      "text/html": [
       "<div>\n",
       "<style>\n",
       "    .dataframe thead tr:only-child th {\n",
       "        text-align: right;\n",
       "    }\n",
       "\n",
       "    .dataframe thead th {\n",
       "        text-align: left;\n",
       "    }\n",
       "\n",
       "    .dataframe tbody tr th {\n",
       "        vertical-align: top;\n",
       "    }\n",
       "</style>\n",
       "<table border=\"1\" class=\"dataframe\">\n",
       "  <thead>\n",
       "    <tr style=\"text-align: right;\">\n",
       "      <th>age</th>\n",
       "      <th>17</th>\n",
       "      <th>18</th>\n",
       "      <th>19</th>\n",
       "      <th>20</th>\n",
       "      <th>21</th>\n",
       "      <th>22</th>\n",
       "      <th>23</th>\n",
       "      <th>24</th>\n",
       "      <th>25</th>\n",
       "      <th>26</th>\n",
       "      <th>27</th>\n",
       "      <th>28</th>\n",
       "      <th>29</th>\n",
       "      <th>30</th>\n",
       "      <th>31</th>\n",
       "      <th>32</th>\n",
       "      <th>33</th>\n",
       "      <th>34</th>\n",
       "      <th>35</th>\n",
       "      <th>36</th>\n",
       "      <th>37</th>\n",
       "      <th>38</th>\n",
       "      <th>39</th>\n",
       "      <th>40</th>\n",
       "      <th>41</th>\n",
       "      <th>42</th>\n",
       "      <th>43</th>\n",
       "      <th>44</th>\n",
       "      <th>45</th>\n",
       "      <th>46</th>\n",
       "      <th>47</th>\n",
       "      <th>48</th>\n",
       "      <th>49</th>\n",
       "      <th>50</th>\n",
       "      <th>51</th>\n",
       "      <th>52</th>\n",
       "      <th>53</th>\n",
       "      <th>54</th>\n",
       "      <th>55</th>\n",
       "      <th>56</th>\n",
       "      <th>57</th>\n",
       "      <th>58</th>\n",
       "      <th>59</th>\n",
       "      <th>60</th>\n",
       "      <th>61</th>\n",
       "      <th>62</th>\n",
       "      <th>63</th>\n",
       "      <th>64</th>\n",
       "      <th>65</th>\n",
       "      <th>66</th>\n",
       "      <th>67</th>\n",
       "      <th>68</th>\n",
       "      <th>69</th>\n",
       "      <th>70</th>\n",
       "      <th>71</th>\n",
       "      <th>72</th>\n",
       "      <th>73</th>\n",
       "      <th>74</th>\n",
       "      <th>75</th>\n",
       "      <th>76</th>\n",
       "      <th>77</th>\n",
       "      <th>78</th>\n",
       "      <th>79</th>\n",
       "      <th>80</th>\n",
       "      <th>81</th>\n",
       "      <th>82</th>\n",
       "      <th>83</th>\n",
       "      <th>84</th>\n",
       "      <th>85</th>\n",
       "      <th>86</th>\n",
       "      <th>87</th>\n",
       "      <th>88</th>\n",
       "      <th>89</th>\n",
       "      <th>91</th>\n",
       "      <th>92</th>\n",
       "      <th>94</th>\n",
       "      <th>95</th>\n",
       "      <th>98</th>\n",
       "    </tr>\n",
       "    <tr>\n",
       "      <th>marital</th>\n",
       "      <th></th>\n",
       "      <th></th>\n",
       "      <th></th>\n",
       "      <th></th>\n",
       "      <th></th>\n",
       "      <th></th>\n",
       "      <th></th>\n",
       "      <th></th>\n",
       "      <th></th>\n",
       "      <th></th>\n",
       "      <th></th>\n",
       "      <th></th>\n",
       "      <th></th>\n",
       "      <th></th>\n",
       "      <th></th>\n",
       "      <th></th>\n",
       "      <th></th>\n",
       "      <th></th>\n",
       "      <th></th>\n",
       "      <th></th>\n",
       "      <th></th>\n",
       "      <th></th>\n",
       "      <th></th>\n",
       "      <th></th>\n",
       "      <th></th>\n",
       "      <th></th>\n",
       "      <th></th>\n",
       "      <th></th>\n",
       "      <th></th>\n",
       "      <th></th>\n",
       "      <th></th>\n",
       "      <th></th>\n",
       "      <th></th>\n",
       "      <th></th>\n",
       "      <th></th>\n",
       "      <th></th>\n",
       "      <th></th>\n",
       "      <th></th>\n",
       "      <th></th>\n",
       "      <th></th>\n",
       "      <th></th>\n",
       "      <th></th>\n",
       "      <th></th>\n",
       "      <th></th>\n",
       "      <th></th>\n",
       "      <th></th>\n",
       "      <th></th>\n",
       "      <th></th>\n",
       "      <th></th>\n",
       "      <th></th>\n",
       "      <th></th>\n",
       "      <th></th>\n",
       "      <th></th>\n",
       "      <th></th>\n",
       "      <th></th>\n",
       "      <th></th>\n",
       "      <th></th>\n",
       "      <th></th>\n",
       "      <th></th>\n",
       "      <th></th>\n",
       "      <th></th>\n",
       "      <th></th>\n",
       "      <th></th>\n",
       "      <th></th>\n",
       "      <th></th>\n",
       "      <th></th>\n",
       "      <th></th>\n",
       "      <th></th>\n",
       "      <th></th>\n",
       "      <th></th>\n",
       "      <th></th>\n",
       "      <th></th>\n",
       "      <th></th>\n",
       "      <th></th>\n",
       "      <th></th>\n",
       "      <th></th>\n",
       "      <th></th>\n",
       "      <th></th>\n",
       "    </tr>\n",
       "  </thead>\n",
       "  <tbody>\n",
       "    <tr>\n",
       "      <th>divorced</th>\n",
       "      <td>0</td>\n",
       "      <td>0</td>\n",
       "      <td>0</td>\n",
       "      <td>0</td>\n",
       "      <td>0</td>\n",
       "      <td>0</td>\n",
       "      <td>0</td>\n",
       "      <td>3</td>\n",
       "      <td>11</td>\n",
       "      <td>9</td>\n",
       "      <td>13</td>\n",
       "      <td>15</td>\n",
       "      <td>51</td>\n",
       "      <td>73</td>\n",
       "      <td>121</td>\n",
       "      <td>102</td>\n",
       "      <td>106</td>\n",
       "      <td>109</td>\n",
       "      <td>141</td>\n",
       "      <td>115</td>\n",
       "      <td>134</td>\n",
       "      <td>135</td>\n",
       "      <td>119</td>\n",
       "      <td>113</td>\n",
       "      <td>143</td>\n",
       "      <td>135</td>\n",
       "      <td>88</td>\n",
       "      <td>120</td>\n",
       "      <td>155</td>\n",
       "      <td>121</td>\n",
       "      <td>123</td>\n",
       "      <td>112</td>\n",
       "      <td>120</td>\n",
       "      <td>101</td>\n",
       "      <td>105</td>\n",
       "      <td>119</td>\n",
       "      <td>107</td>\n",
       "      <td>98</td>\n",
       "      <td>98</td>\n",
       "      <td>107</td>\n",
       "      <td>96</td>\n",
       "      <td>78</td>\n",
       "      <td>72</td>\n",
       "      <td>35</td>\n",
       "      <td>5</td>\n",
       "      <td>3</td>\n",
       "      <td>4</td>\n",
       "      <td>4</td>\n",
       "      <td>3</td>\n",
       "      <td>7</td>\n",
       "      <td>5</td>\n",
       "      <td>5</td>\n",
       "      <td>3</td>\n",
       "      <td>9</td>\n",
       "      <td>2</td>\n",
       "      <td>7</td>\n",
       "      <td>6</td>\n",
       "      <td>9</td>\n",
       "      <td>6</td>\n",
       "      <td>3</td>\n",
       "      <td>7</td>\n",
       "      <td>8</td>\n",
       "      <td>0</td>\n",
       "      <td>10</td>\n",
       "      <td>8</td>\n",
       "      <td>6</td>\n",
       "      <td>4</td>\n",
       "      <td>3</td>\n",
       "      <td>3</td>\n",
       "      <td>2</td>\n",
       "      <td>1</td>\n",
       "      <td>13</td>\n",
       "      <td>1</td>\n",
       "      <td>0</td>\n",
       "      <td>1</td>\n",
       "      <td>0</td>\n",
       "      <td>1</td>\n",
       "      <td>0</td>\n",
       "    </tr>\n",
       "    <tr>\n",
       "      <th>married</th>\n",
       "      <td>0</td>\n",
       "      <td>0</td>\n",
       "      <td>0</td>\n",
       "      <td>1</td>\n",
       "      <td>7</td>\n",
       "      <td>13</td>\n",
       "      <td>25</td>\n",
       "      <td>67</td>\n",
       "      <td>121</td>\n",
       "      <td>153</td>\n",
       "      <td>209</td>\n",
       "      <td>296</td>\n",
       "      <td>437</td>\n",
       "      <td>604</td>\n",
       "      <td>722</td>\n",
       "      <td>745</td>\n",
       "      <td>852</td>\n",
       "      <td>828</td>\n",
       "      <td>865</td>\n",
       "      <td>878</td>\n",
       "      <td>722</td>\n",
       "      <td>708</td>\n",
       "      <td>784</td>\n",
       "      <td>625</td>\n",
       "      <td>683</td>\n",
       "      <td>648</td>\n",
       "      <td>630</td>\n",
       "      <td>556</td>\n",
       "      <td>626</td>\n",
       "      <td>587</td>\n",
       "      <td>534</td>\n",
       "      <td>611</td>\n",
       "      <td>502</td>\n",
       "      <td>539</td>\n",
       "      <td>478</td>\n",
       "      <td>465</td>\n",
       "      <td>442</td>\n",
       "      <td>409</td>\n",
       "      <td>382</td>\n",
       "      <td>464</td>\n",
       "      <td>379</td>\n",
       "      <td>359</td>\n",
       "      <td>290</td>\n",
       "      <td>171</td>\n",
       "      <td>54</td>\n",
       "      <td>45</td>\n",
       "      <td>39</td>\n",
       "      <td>44</td>\n",
       "      <td>27</td>\n",
       "      <td>42</td>\n",
       "      <td>17</td>\n",
       "      <td>18</td>\n",
       "      <td>22</td>\n",
       "      <td>31</td>\n",
       "      <td>35</td>\n",
       "      <td>18</td>\n",
       "      <td>21</td>\n",
       "      <td>17</td>\n",
       "      <td>14</td>\n",
       "      <td>25</td>\n",
       "      <td>11</td>\n",
       "      <td>14</td>\n",
       "      <td>11</td>\n",
       "      <td>14</td>\n",
       "      <td>7</td>\n",
       "      <td>7</td>\n",
       "      <td>9</td>\n",
       "      <td>2</td>\n",
       "      <td>9</td>\n",
       "      <td>5</td>\n",
       "      <td>0</td>\n",
       "      <td>3</td>\n",
       "      <td>0</td>\n",
       "      <td>1</td>\n",
       "      <td>2</td>\n",
       "      <td>1</td>\n",
       "      <td>0</td>\n",
       "      <td>2</td>\n",
       "    </tr>\n",
       "    <tr>\n",
       "      <th>single</th>\n",
       "      <td>2</td>\n",
       "      <td>22</td>\n",
       "      <td>36</td>\n",
       "      <td>53</td>\n",
       "      <td>83</td>\n",
       "      <td>96</td>\n",
       "      <td>148</td>\n",
       "      <td>289</td>\n",
       "      <td>349</td>\n",
       "      <td>388</td>\n",
       "      <td>466</td>\n",
       "      <td>488</td>\n",
       "      <td>671</td>\n",
       "      <td>681</td>\n",
       "      <td>730</td>\n",
       "      <td>643</td>\n",
       "      <td>525</td>\n",
       "      <td>418</td>\n",
       "      <td>418</td>\n",
       "      <td>384</td>\n",
       "      <td>315</td>\n",
       "      <td>290</td>\n",
       "      <td>231</td>\n",
       "      <td>182</td>\n",
       "      <td>180</td>\n",
       "      <td>135</td>\n",
       "      <td>129</td>\n",
       "      <td>143</td>\n",
       "      <td>98</td>\n",
       "      <td>87</td>\n",
       "      <td>83</td>\n",
       "      <td>74</td>\n",
       "      <td>60</td>\n",
       "      <td>55</td>\n",
       "      <td>34</td>\n",
       "      <td>43</td>\n",
       "      <td>35</td>\n",
       "      <td>29</td>\n",
       "      <td>32</td>\n",
       "      <td>18</td>\n",
       "      <td>45</td>\n",
       "      <td>18</td>\n",
       "      <td>14</td>\n",
       "      <td>9</td>\n",
       "      <td>3</td>\n",
       "      <td>1</td>\n",
       "      <td>0</td>\n",
       "      <td>0</td>\n",
       "      <td>1</td>\n",
       "      <td>4</td>\n",
       "      <td>0</td>\n",
       "      <td>4</td>\n",
       "      <td>0</td>\n",
       "      <td>0</td>\n",
       "      <td>4</td>\n",
       "      <td>2</td>\n",
       "      <td>1</td>\n",
       "      <td>0</td>\n",
       "      <td>0</td>\n",
       "      <td>1</td>\n",
       "      <td>1</td>\n",
       "      <td>0</td>\n",
       "      <td>0</td>\n",
       "      <td>0</td>\n",
       "      <td>0</td>\n",
       "      <td>1</td>\n",
       "      <td>0</td>\n",
       "      <td>0</td>\n",
       "      <td>0</td>\n",
       "      <td>0</td>\n",
       "      <td>0</td>\n",
       "      <td>0</td>\n",
       "      <td>0</td>\n",
       "      <td>0</td>\n",
       "      <td>0</td>\n",
       "      <td>0</td>\n",
       "      <td>0</td>\n",
       "      <td>0</td>\n",
       "    </tr>\n",
       "    <tr>\n",
       "      <th>unknown</th>\n",
       "      <td>0</td>\n",
       "      <td>0</td>\n",
       "      <td>0</td>\n",
       "      <td>0</td>\n",
       "      <td>0</td>\n",
       "      <td>0</td>\n",
       "      <td>0</td>\n",
       "      <td>0</td>\n",
       "      <td>1</td>\n",
       "      <td>0</td>\n",
       "      <td>1</td>\n",
       "      <td>0</td>\n",
       "      <td>3</td>\n",
       "      <td>4</td>\n",
       "      <td>6</td>\n",
       "      <td>5</td>\n",
       "      <td>3</td>\n",
       "      <td>5</td>\n",
       "      <td>3</td>\n",
       "      <td>1</td>\n",
       "      <td>4</td>\n",
       "      <td>2</td>\n",
       "      <td>0</td>\n",
       "      <td>1</td>\n",
       "      <td>1</td>\n",
       "      <td>0</td>\n",
       "      <td>0</td>\n",
       "      <td>0</td>\n",
       "      <td>2</td>\n",
       "      <td>0</td>\n",
       "      <td>0</td>\n",
       "      <td>0</td>\n",
       "      <td>3</td>\n",
       "      <td>3</td>\n",
       "      <td>0</td>\n",
       "      <td>2</td>\n",
       "      <td>1</td>\n",
       "      <td>1</td>\n",
       "      <td>2</td>\n",
       "      <td>1</td>\n",
       "      <td>2</td>\n",
       "      <td>2</td>\n",
       "      <td>1</td>\n",
       "      <td>0</td>\n",
       "      <td>0</td>\n",
       "      <td>0</td>\n",
       "      <td>0</td>\n",
       "      <td>0</td>\n",
       "      <td>0</td>\n",
       "      <td>2</td>\n",
       "      <td>0</td>\n",
       "      <td>0</td>\n",
       "      <td>0</td>\n",
       "      <td>0</td>\n",
       "      <td>0</td>\n",
       "      <td>0</td>\n",
       "      <td>0</td>\n",
       "      <td>0</td>\n",
       "      <td>0</td>\n",
       "      <td>0</td>\n",
       "      <td>0</td>\n",
       "      <td>0</td>\n",
       "      <td>0</td>\n",
       "      <td>0</td>\n",
       "      <td>0</td>\n",
       "      <td>0</td>\n",
       "      <td>0</td>\n",
       "      <td>0</td>\n",
       "      <td>0</td>\n",
       "      <td>0</td>\n",
       "      <td>0</td>\n",
       "      <td>0</td>\n",
       "      <td>0</td>\n",
       "      <td>0</td>\n",
       "      <td>0</td>\n",
       "      <td>0</td>\n",
       "      <td>0</td>\n",
       "      <td>0</td>\n",
       "    </tr>\n",
       "  </tbody>\n",
       "</table>\n",
       "</div>"
      ],
      "text/plain": [
       "age       17  18  19  20  21  22   23   24   25   26   27   28   29   30   31   32   33   34   35   36   37   38   39   40   41   42   43   44   45   46   47   48   49   50   51   52   53   54   55   56   57   58   59   60  61  62  63  64  65  66  67  68  69  70  71  72  73  74  75  76  77  78  79  80  81  82  83  84  85  86  87  88  89  91  92  94  95  98\n",
       "marital                                                                                                                                                                                                                                                                                                                                                               \n",
       "divorced   0   0   0   0   0   0    0    3   11    9   13   15   51   73  121  102  106  109  141  115  134  135  119  113  143  135   88  120  155  121  123  112  120  101  105  119  107   98   98  107   96   78   72   35   5   3   4   4   3   7   5   5   3   9   2   7   6   9   6   3   7   8   0  10   8   6   4   3   3   2   1  13   1   0   1   0   1   0\n",
       "married    0   0   0   1   7  13   25   67  121  153  209  296  437  604  722  745  852  828  865  878  722  708  784  625  683  648  630  556  626  587  534  611  502  539  478  465  442  409  382  464  379  359  290  171  54  45  39  44  27  42  17  18  22  31  35  18  21  17  14  25  11  14  11  14   7   7   9   2   9   5   0   3   0   1   2   1   0   2\n",
       "single     2  22  36  53  83  96  148  289  349  388  466  488  671  681  730  643  525  418  418  384  315  290  231  182  180  135  129  143   98   87   83   74   60   55   34   43   35   29   32   18   45   18   14    9   3   1   0   0   1   4   0   4   0   0   4   2   1   0   0   1   1   0   0   0   0   1   0   0   0   0   0   0   0   0   0   0   0   0\n",
       "unknown    0   0   0   0   0   0    0    0    1    0    1    0    3    4    6    5    3    5    3    1    4    2    0    1    1    0    0    0    2    0    0    0    3    3    0    2    1    1    2    1    2    2    1    0   0   0   0   0   0   2   0   0   0   0   0   0   0   0   0   0   0   0   0   0   0   0   0   0   0   0   0   0   0   0   0   0   0   0"
      ]
     },
     "execution_count": 34,
     "metadata": {},
     "output_type": "execute_result"
    }
   ],
   "source": [
    "pd.crosstab(z.marital, z.age)"
   ]
  },
  {
   "cell_type": "code",
   "execution_count": 62,
   "metadata": {
    "collapsed": true
   },
   "outputs": [],
   "source": [
    "z['age_marital'] = z.apply(lambda x: x['age_group'] + ' & ' + x['marital'], axis = 1)"
   ]
  },
  {
   "cell_type": "code",
   "execution_count": 64,
   "metadata": {
    "scrolled": true
   },
   "outputs": [
    {
     "data": {
      "text/plain": [
       "senior & married          7805\n",
       "adult & married           7099\n",
       "young_adult & single      6088\n",
       "young_adult & married     5080\n",
       "adult & single            2407\n",
       "senior & divorced         1796\n",
       "adult & divorced          1243\n",
       "senior & single            757\n",
       "young_adult & divorced     613\n",
       "young_adult & unknown       28\n",
       "senior & unknown            22\n",
       "adult & unknown             12\n",
       "Name: age_marital, dtype: int64"
      ]
     },
     "execution_count": 64,
     "metadata": {},
     "output_type": "execute_result"
    }
   ],
   "source": [
    "z['age_marital'].value_counts()"
   ]
  },
  {
   "cell_type": "code",
   "execution_count": null,
   "metadata": {
    "collapsed": true
   },
   "outputs": [],
   "source": []
  },
  {
   "cell_type": "markdown",
   "metadata": {},
   "source": [
    "### Transformation 3 - 'day' variable \n",
    "\n",
    "Replace day with 'weekday_1', 'weekday_2' and 'weekend' categories."
   ]
  },
  {
   "cell_type": "code",
   "execution_count": 10,
   "metadata": {
    "collapsed": true
   },
   "outputs": [],
   "source": [
    "# Replace day with 'weekday_1', 'weekday_2' and 'weekend' categories.\n",
    "df_transformations['day'].replace(['sum', 'sat', 'mon', 'tue', 'wed', 'thu', 'fri'],\n",
    "                      ['weekend', 'weekend', 'weekday_1', 'weekday_1', 'weekday_1', 'weekday_2', 'weekday_2'], \n",
    "                      inplace=True)"
   ]
  },
  {
   "cell_type": "markdown",
   "metadata": {
    "collapsed": true
   },
   "source": [
    "### Transformation 4 - 'duration' Variable\n",
    "<u>Important note:</u> this attribute highly affects the output target (e.g., if duration=0 then y='no'). \n",
    "\n",
    "Yet, the duration is not known before a call is performed. \n",
    "Also, after the end of the call y is obviously known. \n",
    "Thus, this input should only be included for benchmark purposes and should be discarded if the intention is to have a realistic predictive model."
   ]
  },
  {
   "cell_type": "markdown",
   "metadata": {},
   "source": [
    " <u>Notes</u>: del df['column_name']\n",
    " \n",
    " Advantage of drop over del is that drop allows you to drop multiple columns at once, \n",
    " perform the operation inplace or not, and also delete records along any axis (especially useful for a 3-D matrix"
   ]
  },
  {
   "cell_type": "markdown",
   "metadata": {
    "collapsed": true
   },
   "source": [
    "<center> <b> More on this at the end of this section </center>"
   ]
  },
  {
   "cell_type": "markdown",
   "metadata": {},
   "source": [
    "### Transformation 5 - 'Marital' variable\n",
    "\n",
    "All classes in this variable are similarly distributed.\n",
    "\n",
    "<u>Note:</u>  Come back to this step while using Machine Leanring for variable or feature importance"
   ]
  },
  {
   "cell_type": "code",
   "execution_count": 11,
   "metadata": {
    "scrolled": true
   },
   "outputs": [
    {
     "data": {
      "text/html": [
       "<div>\n",
       "<style>\n",
       "    .dataframe thead tr:only-child th {\n",
       "        text-align: right;\n",
       "    }\n",
       "\n",
       "    .dataframe thead th {\n",
       "        text-align: left;\n",
       "    }\n",
       "\n",
       "    .dataframe tbody tr th {\n",
       "        vertical-align: top;\n",
       "    }\n",
       "</style>\n",
       "<table border=\"1\" class=\"dataframe\">\n",
       "  <thead>\n",
       "    <tr style=\"text-align: right;\">\n",
       "      <th>y</th>\n",
       "      <th>no</th>\n",
       "      <th>yes</th>\n",
       "    </tr>\n",
       "    <tr>\n",
       "      <th>marital</th>\n",
       "      <th></th>\n",
       "      <th></th>\n",
       "    </tr>\n",
       "  </thead>\n",
       "  <tbody>\n",
       "    <tr>\n",
       "      <th>divorced</th>\n",
       "      <td>0.896791</td>\n",
       "      <td>0.103209</td>\n",
       "    </tr>\n",
       "    <tr>\n",
       "      <th>married</th>\n",
       "      <td>0.898427</td>\n",
       "      <td>0.101573</td>\n",
       "    </tr>\n",
       "    <tr>\n",
       "      <th>single</th>\n",
       "      <td>0.859959</td>\n",
       "      <td>0.140041</td>\n",
       "    </tr>\n",
       "    <tr>\n",
       "      <th>unknown</th>\n",
       "      <td>0.850000</td>\n",
       "      <td>0.150000</td>\n",
       "    </tr>\n",
       "  </tbody>\n",
       "</table>\n",
       "</div>"
      ],
      "text/plain": [
       "y               no       yes\n",
       "marital                     \n",
       "divorced  0.896791  0.103209\n",
       "married   0.898427  0.101573\n",
       "single    0.859959  0.140041\n",
       "unknown   0.850000  0.150000"
      ]
     },
     "execution_count": 11,
     "metadata": {},
     "output_type": "execute_result"
    }
   ],
   "source": [
    "# All categories are almost similarly distributed (83%-90% for NOs)............\n",
    "pd.crosstab(z.marital, z.y, normalize='index')"
   ]
  },
  {
   "cell_type": "code",
   "execution_count": null,
   "metadata": {
    "collapsed": true
   },
   "outputs": [],
   "source": []
  },
  {
   "cell_type": "markdown",
   "metadata": {},
   "source": [
    "## 2.2 Treating Outliers "
   ]
  },
  {
   "cell_type": "markdown",
   "metadata": {},
   "source": [
    "1. Replace valid outliers with logarithmic transformation\n",
    "2. Replace invalid outliers (human-error) with 90th percentile or upper bounds OR exclude the record from the dataframe. \n",
    "\n",
    "IQR - https://www.youtube.com/watch?v=dNHGVLXBTgI"
   ]
  },
  {
   "cell_type": "code",
   "execution_count": 12,
   "metadata": {
    "collapsed": true
   },
   "outputs": [],
   "source": [
    "df_outliers = df.copy(deep = True)\n",
    "df_log = df.copy(deep = True)\n",
    "df_outliers_log = df.copy(deep = True)"
   ]
  },
  {
   "cell_type": "code",
   "execution_count": 13,
   "metadata": {
    "collapsed": true
   },
   "outputs": [],
   "source": [
    "df_transformations_outliers = df_transformations.copy(deep = True)\n",
    "df_transformations_outliers_log = df_transformations.copy(deep = True)"
   ]
  },
  {
   "cell_type": "markdown",
   "metadata": {},
   "source": [
    "#### (a) Applying Upper and Lower bounds to 'duration' and 'employees' variable "
   ]
  },
  {
   "cell_type": "code",
   "execution_count": 14,
   "metadata": {
    "collapsed": true
   },
   "outputs": [],
   "source": [
    "# Upper and Lower bounds for 'duration' and 'employee' column\n",
    "df_outliers['duration'] = df_outliers['duration'].apply(lambda x: int(math.floor(x / 10.0)) * 10 if(x%10<5) else int(math.ceil(x / 10.0)) * 10 )\n",
    "df_outliers['employees'] = df_outliers['employees'].apply(lambda x: int(math.floor(x / 10.0)) * 10 if(x%10<5) else int(math.ceil(x / 10.0)) * 10 ) \n",
    "\n",
    "df_outliers_log['duration'] = df_outliers_log['duration'].apply(lambda x: int(math.floor(x / 10.0)) * 10 if(x%10<5) else int(math.ceil(x / 10.0)) * 10 )\n",
    "df_outliers_log['employees'] = df_outliers_log['employees'].apply(lambda x: int(math.floor(x / 10.0)) * 10 if(x%10<5) else int(math.ceil(x / 10.0)) * 10 ) "
   ]
  },
  {
   "cell_type": "code",
   "execution_count": 15,
   "metadata": {
    "collapsed": true
   },
   "outputs": [],
   "source": [
    "df_transformations_outliers_log['duration'] = df_transformations_outliers_log['duration'].apply(lambda x: int(math.floor(x / 10.0)) * 10 if(x%10<5) else int(math.ceil(x / 10.0)) * 10 )\n",
    "df_transformations_outliers_log['employees'] = df_transformations_outliers_log['employees'].apply(lambda x: int(math.floor(x / 10.0)) * 10 if(x%10<5) else int(math.ceil(x / 10.0)) * 10 ) "
   ]
  },
  {
   "cell_type": "markdown",
   "metadata": {},
   "source": []
  },
  {
   "cell_type": "markdown",
   "metadata": {},
   "source": [
    "#### (b) Applying 90 percentiles and 10 percentiles for the lower and upper outliers "
   ]
  },
  {
   "cell_type": "code",
   "execution_count": 16,
   "metadata": {
    "collapsed": true
   },
   "outputs": [],
   "source": [
    "uq = 0.95\n",
    "lq = 0.05"
   ]
  },
  {
   "cell_type": "code",
   "execution_count": 17,
   "metadata": {
    "collapsed": true
   },
   "outputs": [],
   "source": [
    "colz = ['duration', 'dcontacts', 'pdays', 'evr', 'cpi', 'cci', 'euribor', 'employees']"
   ]
  },
  {
   "cell_type": "code",
   "execution_count": 18,
   "metadata": {
    "collapsed": true
   },
   "outputs": [],
   "source": [
    "for col in colz:\n",
    "    df_outliers[col] = df_outliers[col].clip_upper(int(df_outliers[col].quantile(uq)))\n",
    "    df_outliers[col] = df_outliers[col].clip_lower(int(df_outliers[col].quantile(lq)))"
   ]
  },
  {
   "cell_type": "code",
   "execution_count": 19,
   "metadata": {
    "collapsed": true
   },
   "outputs": [],
   "source": [
    "for col in colz:\n",
    "    df_outliers_log[col] = df_outliers_log[col].clip_upper(int(df_outliers_log[col].quantile(uq)))\n",
    "    df_outliers_log[col] = df_outliers_log[col].clip_lower(int(df_outliers_log[col].quantile(lq)))"
   ]
  },
  {
   "cell_type": "code",
   "execution_count": 20,
   "metadata": {
    "collapsed": true
   },
   "outputs": [],
   "source": [
    "for col in colz:\n",
    "    df_transformations_outliers[col] = df_transformations_outliers[col].clip_upper(int(df_transformations_outliers[col].quantile(uq)))\n",
    "    df_transformations_outliers[col] = df_transformations_outliers[col].clip_lower(int(df_transformations_outliers[col].quantile(lq)))"
   ]
  },
  {
   "cell_type": "code",
   "execution_count": 21,
   "metadata": {
    "collapsed": true
   },
   "outputs": [],
   "source": [
    "for col in colz:\n",
    "    df_transformations_outliers_log[col] = df_transformations_outliers_log[col].clip_upper(int(df_transformations_outliers_log[col].quantile(uq)))\n",
    "    df_transformations_outliers_log[col] = df_transformations_outliers_log[col].clip_lower(int(df_transformations_outliers_log[col].quantile(lq)))"
   ]
  },
  {
   "cell_type": "markdown",
   "metadata": {},
   "source": [
    "#### (c) Apply Logarithmic transformations (Not just to the outliers but to all the samples (observations) in the numeric columns). "
   ]
  },
  {
   "cell_type": "markdown",
   "metadata": {},
   "source": [
    "Creating a new dataframe to apply logarithm transformations.\n",
    "From all the numerical columns, logarithmic transformations can be applied to only a few since others have '0' and negative values"
   ]
  },
  {
   "cell_type": "markdown",
   "metadata": {},
   "source": [
    "Excluded\n",
    "\n",
    "1. cci - (negative)\n",
    "2. pcontacts - (zero)\n",
    "3. evr (negative)\n",
    "\n",
    "Included but not sure\n",
    "    \n",
    "1. duration - 0\n",
    "2. pdays - 0\n",
    "3. pcontacts - 0\n",
    "4. pdays - (value 999 - means client was not contacted previously)\n",
    "\n",
    "z.astype(bool).sum(axis=0)      # Count of zeros in a columns <br>\n",
    "z[z<0].count()                  # Count of negative values in each column"
   ]
  },
  {
   "cell_type": "code",
   "execution_count": 22,
   "metadata": {
    "collapsed": true
   },
   "outputs": [],
   "source": [
    "# num = ['age','dcontacts','cpi','euribor','employees','duration_outliers','dcontacts_outliers','pdays_outliers','euribor_outliers','employees_outliers']\n",
    "num = ['age','dcontacts', 'cpi', 'euribor','employees']"
   ]
  },
  {
   "cell_type": "code",
   "execution_count": 23,
   "metadata": {
    "collapsed": true
   },
   "outputs": [],
   "source": [
    "for n in num:\n",
    "    df_log[n] = np.log(df_log[n])"
   ]
  },
  {
   "cell_type": "code",
   "execution_count": 24,
   "metadata": {
    "collapsed": true
   },
   "outputs": [],
   "source": [
    "for n in num:\n",
    "    df_outliers_log[n] = np.log(df_outliers_log[n])"
   ]
  },
  {
   "cell_type": "code",
   "execution_count": 25,
   "metadata": {
    "collapsed": true
   },
   "outputs": [],
   "source": [
    "# Transformed array does not have 'age' column. Instead it has 'age_cat' column\n",
    "for n in num:\n",
    "    if n == 'age':\n",
    "        continue\n",
    "    else:\n",
    "        df_transformations_outliers_log[n] = np.log(df_transformations_outliers_log[n])"
   ]
  },
  {
   "cell_type": "code",
   "execution_count": null,
   "metadata": {
    "collapsed": true
   },
   "outputs": [],
   "source": []
  },
  {
   "cell_type": "markdown",
   "metadata": {},
   "source": [
    "## 3. Data Rescaling\n",
    "\n",
    "Preprocessed data may contain attributes with a mixtures of scales for various quantities such as dollars, kilograms \n",
    "and sales volume.\n",
    "Many machine learning methods expect or are more effective if the data attributes have the same scale. \n",
    "\n",
    "Two popular data scaling methods are normalization and standardization.\n",
    "\n",
    "1. Data Normalization\n",
    "2. Data Standardization\n",
    "\n",
    "** Normalization **:\n",
    "It refers to rescaling real valued numeric attributes into the range 0 and 1.\n",
    "It is useful to scale the input attributes for a model that relies on the magnitude of values, \n",
    "such as distance measures used in k-nearest neighbors and in the preparation of coefficients in regression. <br>\n",
    "\n",
    "<u>Advantages</u>: ML algorithms such as Linear Regression and SVM perform faster on normalized data. \n",
    "\n",
    "** Standardization **:\n",
    "Standardization refers to shifting the distribution of each attribute to have a mean of zero and a \n",
    "standard deviation of one (unit variance).\n",
    "It is useful to standardize attributes for a model that relies on the distribution of attributes such as Gaussian processes.\n",
    "\n",
    "**Which Method To Use**:\n",
    "It is hard to know whether rescaling your data will improve the performance of your algorithms before you apply them. \n",
    "If often can, but not always.\n",
    "\n",
    "A good tip is to create rescaled copies of your dataset and race them against each other using your test harness \n",
    "and a handful of algorithms you want to spot check. This can quickly highlight the benefits (or lack there of) of \n",
    "rescaling your data with given models, and which rescaling method may be worthy of further investigation."
   ]
  },
  {
   "cell_type": "markdown",
   "metadata": {},
   "source": [
    "### Normalizing and Standardizing the data"
   ]
  },
  {
   "cell_type": "code",
   "execution_count": 26,
   "metadata": {
    "collapsed": true
   },
   "outputs": [],
   "source": [
    "numerical = ['age','duration','dcontacts','pdays','pcontacts','evr','cpi','cci','euribor','employees']"
   ]
  },
  {
   "cell_type": "code",
   "execution_count": 27,
   "metadata": {
    "collapsed": true
   },
   "outputs": [],
   "source": [
    "df_normalization = df.copy(deep = True)\n",
    "df_transformations_outliers_normalization = df_transformations_outliers.copy(deep = True)\n",
    "df_log_normalization = df_log.copy(deep = True)\n",
    "df_transformations_outliers_log_normalization = df_transformations_outliers_log.copy(deep = True)"
   ]
  },
  {
   "cell_type": "code",
   "execution_count": 28,
   "metadata": {
    "collapsed": true
   },
   "outputs": [],
   "source": [
    "for dataframe in (df_normalization, df_log_normalization):\n",
    "    for n in numerical:\n",
    "        col = dataframe[[n]].values.astype(float)\n",
    "        col_transformed = (preprocessing.MinMaxScaler()).fit_transform(col)\n",
    "#         dataframe[n+'_normalized'] = pd.DataFrame(col_transformed)\n",
    "        dataframe[n] = pd.DataFrame(col_transformed)\n",
    "\n",
    "# Transformed dataframes do not have 'age' as a numerical column ('age_cat' as categorical column)\n",
    "for dataframe in (df_transformations_outliers_normalization, df_transformations_outliers_log_normalization):\n",
    "    for n in numerical:\n",
    "        if n == 'age':\n",
    "            continue\n",
    "        col = dataframe[[n]].values.astype(float)\n",
    "        col_transformed = (preprocessing.MinMaxScaler()).fit_transform(col)\n",
    "        dataframe[n] = pd.DataFrame(col_transformed)"
   ]
  },
  {
   "cell_type": "code",
   "execution_count": 29,
   "metadata": {
    "collapsed": true
   },
   "outputs": [],
   "source": [
    "df_standardization = df.copy(deep = True)\n",
    "df_transformations_outliers_standardization = df_transformations_outliers.copy(deep = True)\n",
    "df_log_standardization = df_log.copy(deep = True)\n",
    "df_transformations_outliers_log_standardization = df_transformations_outliers_log.copy(deep = True)"
   ]
  },
  {
   "cell_type": "code",
   "execution_count": 30,
   "metadata": {
    "collapsed": true
   },
   "outputs": [],
   "source": [
    "for dataframe in (df_standardization, df_log_standardization):\n",
    "    for n in numerical:\n",
    "        col = dataframe[[n]].values.astype(float)\n",
    "        col_transformed = (preprocessing.StandardScaler()).fit_transform(col)\n",
    "#         dataframe[n+'_standardized'] = pd.DataFrame(col_transformed)\n",
    "        dataframe[n] = pd.DataFrame(col_transformed)\n",
    "\n",
    "# Transformed dataframes do not have 'age' as a numerical column ('age_cat' as categorical column)\n",
    "for dataframe in (df_transformations_outliers_standardization, df_transformations_outliers_log_standardization):\n",
    "     for n in numerical:\n",
    "        if n == 'age':\n",
    "            continue\n",
    "        col = dataframe[[n]].values.astype(float)\n",
    "        col_transformed = (preprocessing.StandardScaler()).fit_transform(col)\n",
    "#         dataframe[n+'_standardized'] = pd.DataFrame(col_transformed)\n",
    "        dataframe[n] = pd.DataFrame(col_transformed)"
   ]
  },
  {
   "cell_type": "code",
   "execution_count": null,
   "metadata": {
    "collapsed": true
   },
   "outputs": [],
   "source": []
  },
  {
   "cell_type": "markdown",
   "metadata": {},
   "source": [
    "Delete 'duration' column"
   ]
  },
  {
   "cell_type": "code",
   "execution_count": null,
   "metadata": {
    "collapsed": true
   },
   "outputs": [],
   "source": [
    "# df_duration_no_standardized.drop('duration',axis=1, inplace=True) #axis = 1 deletes column; axis = 0 delets rows\n",
    "# df_duration_no_normalized.drop('duration',axis=1, inplace=True)\n",
    "# df_duration_no.drop('duration',axis=1, inplace=True)"
   ]
  },
  {
   "cell_type": "code",
   "execution_count": null,
   "metadata": {
    "collapsed": true
   },
   "outputs": [],
   "source": []
  },
  {
   "cell_type": "markdown",
   "metadata": {},
   "source": [
    "## 4. Data Resampling (Upsample)"
   ]
  },
  {
   "cell_type": "markdown",
   "metadata": {},
   "source": [
    "df_upsample\n",
    "df_transformations_outliers_upsample\n",
    "df_transformations_outliers_log_upsample\n",
    "df_transformations_outliers_log_normalization_upsample\n",
    "df_transformations_outliers_log_standardization_upsample"
   ]
  },
  {
   "cell_type": "markdown",
   "metadata": {},
   "source": [
    "df_downsample\n",
    "df_transformations_outliers_downsample\n",
    "df_transformations_outliers_log_downsample\n",
    "df_transformations_outliers_log_normalization_downsample\n",
    "df_transformations_outliers_log_standardization_downsample"
   ]
  },
  {
   "cell_type": "markdown",
   "metadata": {
    "collapsed": true
   },
   "source": []
  },
  {
   "cell_type": "code",
   "execution_count": 31,
   "metadata": {
    "collapsed": true
   },
   "outputs": [],
   "source": [
    "from sklearn.utils import resample"
   ]
  },
  {
   "cell_type": "code",
   "execution_count": 32,
   "metadata": {
    "collapsed": true
   },
   "outputs": [],
   "source": [
    "df_upsample = df.copy(deep=True)\n",
    "df_transformations_outliers_upsample = df_transformations_outliers.copy(deep = True)\n",
    "df_transformations_outliers_log_upsample = df_transformations_outliers_log.copy(deep = True)\n",
    "df_transformations_outliers_log_normalization_upsample = df_transformations_outliers_log_normalization.copy(deep = True)\n",
    "df_transformations_outliers_log_standardization_upsample = df_transformations_outliers_log_standardization.copy(deep = True)"
   ]
  },
  {
   "cell_type": "code",
   "execution_count": 33,
   "metadata": {
    "collapsed": true
   },
   "outputs": [],
   "source": [
    "df_downsample = df.copy(deep=True)\n",
    "df_transformations_outliers_downsample = df_transformations_outliers.copy(deep = True)\n",
    "df_transformations_outliers_log_downsample = df_transformations_outliers_log.copy(deep = True)\n",
    "df_transformations_outliers_log_normalization_downsample = df_transformations_outliers_log_normalization.copy(deep = True)\n",
    "df_transformations_outliers_log_standardization_downsample = df_transformations_outliers_log_standardization.copy(deep = True)"
   ]
  },
  {
   "cell_type": "code",
   "execution_count": null,
   "metadata": {
    "collapsed": true
   },
   "outputs": [],
   "source": []
  },
  {
   "cell_type": "markdown",
   "metadata": {},
   "source": [
    "**The following peice of code doesn't work in a 'for' loop to resample data inplace:**\n",
    "\n",
    "```\n",
    "from sklearn.utils import resample\n",
    "#### Upsampling Data\n",
    "for dataframe in (df_upsample, df_transformations_outliers_upsample, df_transformations_outliers_log_upsample, df_transformations_outliers_log_normalization_upsample, df_transformations_outliers_log_standardization_upsample):<br>\n",
    "    \n",
    "    major_class = dataframe[dataframe.y == 'no']\n",
    "    minor_class = dataframe[dataframe.y == 'yes']\n",
    "    \n",
    "    dataframe = resample(minor_class, replace = True, n_samples = len(major_class), random_state = 42)\n",
    "    dataframe = pd.concat([major_class, dataframe])\n",
    "    \n",
    "    print(dataframe.y.value_counts())\n",
    "    \n",
    "#### Downsampling Data\n",
    "for dataframe in (df_downsample, df_transformations_outliers_downsample, df_transformations_outliers_log_downsample, df_transformations_outliers_log_normalization_downsample, df_transformations_outliers_log_standardization_downsample): <br>\n",
    "    \n",
    "    major_class = dataframe[dataframe.y == 'no']\n",
    "    minor_class = dataframe[dataframe.y == 'yes']\n",
    "    \n",
    "    dataframe = resample(major_class, replace = False, n_samples = len(minor_class), random_state = 42)\n",
    "    dataframe = pd.concat([dataframe, minor_class])\n",
    "    \n",
    "    print(dataframe.y.value_counts())"
   ]
  },
  {
   "cell_type": "markdown",
   "metadata": {},
   "source": [
    "Hence, resampling the data in each dataframe individually"
   ]
  },
  {
   "cell_type": "code",
   "execution_count": null,
   "metadata": {
    "collapsed": true
   },
   "outputs": [],
   "source": []
  },
  {
   "cell_type": "code",
   "execution_count": 34,
   "metadata": {},
   "outputs": [
    {
     "name": "stdout",
     "output_type": "stream",
     "text": [
      "(41188, 21) (41188, 21) (41188, 21) (41188, 21) (41188, 21) (41188, 21) (41188, 21) (41188, 21) (41188, 21) (41188, 21)\n"
     ]
    }
   ],
   "source": [
    "print(df.shape, df_log.shape, df_outliers.shape, df_outliers_log.shape, df_normalization.shape, df_log_normalization.shape, df_standardization.shape,\n",
    "df_log_standardization.shape, df_upsample.shape, df_downsample.shape)"
   ]
  },
  {
   "cell_type": "code",
   "execution_count": null,
   "metadata": {
    "collapsed": true
   },
   "outputs": [],
   "source": []
  },
  {
   "cell_type": "code",
   "execution_count": 35,
   "metadata": {},
   "outputs": [
    {
     "name": "stdout",
     "output_type": "stream",
     "text": [
      "no     36548\n",
      "yes    36548\n",
      "Name: y, dtype: int64\n",
      "no     36548\n",
      "yes    36548\n",
      "Name: y, dtype: int64\n",
      "no     36548\n",
      "yes    36548\n",
      "Name: y, dtype: int64\n",
      "no     36548\n",
      "yes    36548\n",
      "Name: y, dtype: int64\n",
      "no     36548\n",
      "yes    36548\n",
      "Name: y, dtype: int64\n"
     ]
    }
   ],
   "source": [
    "# Upsampling Data - df_upsample\n",
    "major_class = df[df.y == 'no']\n",
    "minor_class = df[df.y == 'yes']\n",
    "    \n",
    "df_minor_upsample = resample(minor_class, replace = True, n_samples = len(major_class), random_state = 42)\n",
    "df_upsample = pd.concat([major_class, df_minor_upsample])\n",
    "    \n",
    "print(df_upsample.y.value_counts())\n",
    "\n",
    "# Upsampling Data - df_transformations_outliers_upsample\n",
    "major_class = df_transformations_outliers[df_transformations_outliers.y == 'no']\n",
    "minor_class = df_transformations_outliers[df_transformations_outliers.y == 'yes']\n",
    "    \n",
    "df_minor_upsample = resample(minor_class, replace = True, n_samples = len(major_class), random_state = 42)\n",
    "df_transformations_outliers_upsample = pd.concat([major_class, df_minor_upsample])\n",
    "    \n",
    "print(df_transformations_outliers_upsample.y.value_counts())\n",
    "\n",
    "# Upsampling Data - df_transformations_outliers_log_upsample\n",
    "major_class = df_transformations_outliers_log[df_transformations_outliers_log.y == 'no']\n",
    "minor_class = df_transformations_outliers_log[df_transformations_outliers_log.y == 'yes']\n",
    "    \n",
    "df_minor_upsample = resample(minor_class, replace = True, n_samples = len(major_class), random_state = 42)\n",
    "df_transformations_outliers_log_upsample = pd.concat([major_class, df_minor_upsample])\n",
    "    \n",
    "print(df_transformations_outliers_log_upsample.y.value_counts())\n",
    "\n",
    "# Upsampling Data - df_transformations_outliers_log_normalization_upsample\n",
    "major_class = df_transformations_outliers_log_normalization[df_transformations_outliers_log_normalization.y == 'no']\n",
    "minor_class = df_transformations_outliers_log_normalization[df_transformations_outliers_log_normalization.y == 'yes']\n",
    "    \n",
    "df_minor_upsample = resample(minor_class, replace = True, n_samples = len(major_class), random_state = 42)\n",
    "df_transformations_outliers_log_normalization_upsample = pd.concat([major_class, df_minor_upsample])\n",
    "    \n",
    "print(df_transformations_outliers_log_normalization_upsample.y.value_counts())\n",
    "\n",
    "# Upsampling Data - df_transformations_outliers_log_standardization_upsample\n",
    "major_class = df_transformations_outliers_log_standardization[df_transformations_outliers_log_standardization.y == 'no']\n",
    "minor_class = df_transformations_outliers_log_standardization[df_transformations_outliers_log_standardization.y == 'yes']\n",
    "    \n",
    "df_minor_upsample = resample(minor_class, replace = True, n_samples = len(major_class), random_state = 42)\n",
    "df_transformations_outliers_log_standardization_upsample = pd.concat([major_class, df_minor_upsample])\n",
    "    \n",
    "print(df_transformations_outliers_log_standardization_upsample.y.value_counts())"
   ]
  },
  {
   "cell_type": "code",
   "execution_count": null,
   "metadata": {
    "collapsed": true
   },
   "outputs": [],
   "source": []
  },
  {
   "cell_type": "code",
   "execution_count": 36,
   "metadata": {},
   "outputs": [
    {
     "name": "stdout",
     "output_type": "stream",
     "text": [
      "yes    4640\n",
      "no     4640\n",
      "Name: y, dtype: int64\n",
      "yes    4640\n",
      "no     4640\n",
      "Name: y, dtype: int64\n",
      "yes    4640\n",
      "no     4640\n",
      "Name: y, dtype: int64\n",
      "yes    4640\n",
      "no     4640\n",
      "Name: y, dtype: int64\n",
      "yes    4640\n",
      "no     4640\n",
      "Name: y, dtype: int64\n"
     ]
    }
   ],
   "source": [
    "# Downsampling Data - df_downsample\n",
    "major_class = df[df.y == 'no']\n",
    "minor_class = df[df.y == 'yes']\n",
    "    \n",
    "df_major_downsample = resample(major_class, replace = False, n_samples = len(minor_class), random_state = 42)\n",
    "df_downsample = pd.concat([df_major_downsample, minor_class])\n",
    "    \n",
    "print(df_downsample.y.value_counts())\n",
    "\n",
    "# Downsampling Data - df_transformations_outliers_downsample\n",
    "major_class = df_transformations_outliers[df_transformations_outliers.y == 'no']\n",
    "minor_class = df_transformations_outliers[df_transformations_outliers.y == 'yes']\n",
    "    \n",
    "df_major_downsample = resample(major_class, replace = False, n_samples = len(minor_class), random_state = 42)\n",
    "df_transformations_outliers_downsample = pd.concat([df_major_downsample, minor_class])\n",
    "    \n",
    "print(df_transformations_outliers_downsample.y.value_counts())\n",
    "\n",
    "# Downsampling Data - df_transformations_outliers_log_downsample\n",
    "major_class = df_transformations_outliers_log[df_transformations_outliers_log.y == 'no']\n",
    "minor_class = df_transformations_outliers_log[df_transformations_outliers_log.y == 'yes']\n",
    "    \n",
    "df_minor_upsample = resample(major_class, replace = False, n_samples = len(minor_class), random_state = 42)\n",
    "df_transformations_outliers_log_downsample = pd.concat([df_major_downsample, minor_class])\n",
    "    \n",
    "print(df_transformations_outliers_log_downsample.y.value_counts())\n",
    "\n",
    "# Downsampling Data - df_transformations_outliers_log_normalization_downsample\n",
    "major_class = df_transformations_outliers_log_normalization[df_transformations_outliers_log_normalization.y == 'no']\n",
    "minor_class = df_transformations_outliers_log_normalization[df_transformations_outliers_log_normalization.y == 'yes']\n",
    "    \n",
    "df_minor_upsample = resample(major_class, replace = False, n_samples = len(minor_class), random_state = 42)\n",
    "df_transformations_outliers_log_normalization_downsample =  pd.concat([df_major_downsample, minor_class])\n",
    "    \n",
    "print(df_transformations_outliers_log_normalization_downsample.y.value_counts())\n",
    "\n",
    "# Downsampling Data - df_transformations_outliers_log_standardization_downsample\n",
    "major_class = df_transformations_outliers_log_standardization[df_transformations_outliers_log_standardization.y == 'no']\n",
    "minor_class = df_transformations_outliers_log_standardization[df_transformations_outliers_log_standardization.y == 'yes']\n",
    "    \n",
    "df_minor_upsample = resample(major_class, replace = False, n_samples = len(minor_class), random_state = 42)\n",
    "df_transformations_outliers_log_standardization_downsample = pd.concat([df_major_downsample, minor_class])\n",
    "    \n",
    "print(df_transformations_outliers_log_standardization_downsample.y.value_counts())"
   ]
  },
  {
   "cell_type": "code",
   "execution_count": null,
   "metadata": {
    "collapsed": true
   },
   "outputs": [],
   "source": []
  },
  {
   "cell_type": "code",
   "execution_count": 37,
   "metadata": {},
   "outputs": [
    {
     "name": "stdout",
     "output_type": "stream",
     "text": [
      "(73096, 21)\n",
      "(73096, 21)\n",
      "(73096, 21)\n",
      "(73096, 21)\n",
      "(73096, 21)\n"
     ]
    }
   ],
   "source": [
    "for dataframe in (df_upsample, df_transformations_outliers_upsample, df_transformations_outliers_log_upsample, df_transformations_outliers_log_normalization_upsample, df_transformations_outliers_log_standardization_upsample):\n",
    "    print(dataframe.shape)"
   ]
  },
  {
   "cell_type": "code",
   "execution_count": 38,
   "metadata": {},
   "outputs": [
    {
     "name": "stdout",
     "output_type": "stream",
     "text": [
      "(9280, 21)\n",
      "(9280, 21)\n",
      "(9280, 21)\n",
      "(9280, 21)\n",
      "(9280, 21)\n"
     ]
    }
   ],
   "source": [
    "for dataframe in (df_downsample, df_transformations_outliers_downsample, df_transformations_outliers_log_downsample, df_transformations_outliers_log_normalization_downsample, df_transformations_outliers_log_standardization_downsample):\n",
    "    print(dataframe.shape)"
   ]
  },
  {
   "cell_type": "code",
   "execution_count": null,
   "metadata": {
    "collapsed": true
   },
   "outputs": [],
   "source": []
  },
  {
   "cell_type": "markdown",
   "metadata": {},
   "source": [
    "## 5. Dummy Variables"
   ]
  },
  {
   "cell_type": "markdown",
   "metadata": {},
   "source": [
    "`pd.get_dummies` does not support (inplace = True) when used inside a 'for' loop. Here is a little tweak that can help loop through the dataframes and get dummy variables for each of the categorical fields"
   ]
  },
  {
   "cell_type": "markdown",
   "metadata": {},
   "source": [
    "dfs = [df1, df2] <br>\n",
    "categorical_fields = [col1, col2]  <br>\n",
    "df1, df2 = [pd.get_dummies(df, columns=categorical_fields) for df in [df1, df2]]"
   ]
  },
  {
   "cell_type": "code",
   "execution_count": 39,
   "metadata": {
    "collapsed": true
   },
   "outputs": [],
   "source": [
    "zz = df_outliers.copy(deep = True)"
   ]
  },
  {
   "cell_type": "code",
   "execution_count": null,
   "metadata": {
    "collapsed": true
   },
   "outputs": [],
   "source": []
  },
  {
   "cell_type": "code",
   "execution_count": 40,
   "metadata": {
    "collapsed": true
   },
   "outputs": [],
   "source": [
    "# Untransformed dataframes have 'age' column\n",
    "all_dataframes_1 = [df, df_outliers, df_log, df_outliers_log, df_normalization,  df_log_normalization, df_standardization, df_log_standardization, df_upsample, df_downsample]"
   ]
  },
  {
   "cell_type": "code",
   "execution_count": 41,
   "metadata": {
    "collapsed": true
   },
   "outputs": [],
   "source": [
    "# Transformed dataframes have 'age_cat' column\n",
    "all_dataframes_2 = [df_transformations, df_transformations_outliers, df_transformations_outliers_log, df_transformations_outliers_normalization, df_transformations_outliers_log_normalization, df_transformations_outliers_standardization, df_transformations_outliers_log_standardization, df_transformations_outliers_upsample, df_transformations_outliers_log_upsample, df_transformations_outliers_log_normalization_upsample, df_transformations_outliers_log_standardization_upsample, df_transformations_outliers_downsample, df_transformations_outliers_log_downsample, df_transformations_outliers_log_normalization_downsample, df_transformations_outliers_log_standardization_downsample]"
   ]
  },
  {
   "cell_type": "code",
   "execution_count": 42,
   "metadata": {
    "collapsed": true
   },
   "outputs": [],
   "source": [
    "# Categorical fields for respective dataframes\n",
    "categorical_fields_1 = ['job', 'marital', 'education', 'default', 'housing', 'personal',\n",
    "       'contact_type', 'month', 'day', 'poutcome']\n",
    "\n",
    "categorical_fields_2 = ['job', 'marital', 'education', 'default', 'housing', 'personal',\n",
    "       'contact_type', 'month', 'day', 'poutcome', 'age_cat']"
   ]
  },
  {
   "cell_type": "code",
   "execution_count": null,
   "metadata": {
    "collapsed": true
   },
   "outputs": [],
   "source": []
  },
  {
   "cell_type": "code",
   "execution_count": 43,
   "metadata": {
    "collapsed": true
   },
   "outputs": [],
   "source": [
    "# Get dummies for all_dataframes_1 with categorical_fields_1\n",
    "df, df_outliers, df_log, df_outliers_log, df_normalization,  df_log_normalization, \\\n",
    "df_standardization, df_log_standardization, df_upsample, df_downsample \\\n",
    "      = [pd.get_dummies(df, columns=categorical_fields_1) \\\n",
    "         for df in [df, df_outliers, df_log, df_outliers_log, df_normalization,  df_log_normalization, \\\n",
    "                    df_standardization, df_log_standardization, df_upsample, df_downsample]]"
   ]
  },
  {
   "cell_type": "code",
   "execution_count": 45,
   "metadata": {
    "collapsed": true
   },
   "outputs": [],
   "source": [
    "all_dataframes_1 = [pd.get_dummies(df, columns = categorical_fields_1) for df in all_dataframes_1]"
   ]
  },
  {
   "cell_type": "markdown",
   "metadata": {},
   "source": [
    "**If the above piece of code doesn't work, try the following code:**\n",
    "``` \n",
    "\n",
    "all_dataframes_1 = [pd.get_dummies(df, columns = categorical_fields_1) for df in all_dataframes_1]"
   ]
  },
  {
   "cell_type": "code",
   "execution_count": null,
   "metadata": {
    "collapsed": true
   },
   "outputs": [],
   "source": []
  },
  {
   "cell_type": "code",
   "execution_count": 47,
   "metadata": {
    "collapsed": true
   },
   "outputs": [],
   "source": [
    "# Get dummies for all_dataframes_2 with categorical_fields_2\n",
    "df_transformations, df_transformations_outliers, df_transformations_outliers_log, \\\n",
    "df_transformations_outliers_normalization, df_transformations_outliers_log_normalization, \\\n",
    "df_transformations_outliers_standardization, df_transformations_outliers_log_standardization, \\\n",
    "df_transformations_outliers_upsample, df_transformations_outliers_log_upsample, \\\n",
    "df_transformations_outliers_log_normalization_upsample, df_transformations_outliers_log_standardization_upsample, \\\n",
    "df_transformations_outliers_downsample, df_transformations_outliers_log_downsample, \\\n",
    "df_transformations_outliers_log_normalization_downsample, df_transformations_outliers_log_standardization_downsample \\\n",
    "      = [pd.get_dummies(df, columns=categorical_fields_2) \\\n",
    "         for df in [df_transformations, df_transformations_outliers, df_transformations_outliers_log, \\\n",
    "                    df_transformations_outliers_normalization, df_transformations_outliers_log_normalization, \\\n",
    "                    df_transformations_outliers_standardization, df_transformations_outliers_log_standardization, \\\n",
    "                    df_transformations_outliers_upsample, df_transformations_outliers_log_upsample, \\\n",
    "                    df_transformations_outliers_log_normalization_upsample, \\\n",
    "                    df_transformations_outliers_log_standardization_upsample, \\\n",
    "                    df_transformations_outliers_downsample, df_transformations_outliers_log_downsample, \\\n",
    "                    df_transformations_outliers_log_normalization_downsample, \\\n",
    "                    df_transformations_outliers_log_standardization_downsample]]"
   ]
  },
  {
   "cell_type": "code",
   "execution_count": 49,
   "metadata": {
    "collapsed": true
   },
   "outputs": [],
   "source": [
    "all_dataframes_2 = [pd.get_dummies(df, columns = categorical_fields_2) for df in all_dataframes_2]"
   ]
  },
  {
   "cell_type": "markdown",
   "metadata": {},
   "source": [
    "**If the above piece of code doesn't work, try the following code:**\n",
    "``` \n",
    "\n",
    "all_dataframes_2 = [pd.get_dummies(df, columns = categorical_fields_2) for df in all_dataframes_2]"
   ]
  },
  {
   "cell_type": "code",
   "execution_count": 46,
   "metadata": {},
   "outputs": [
    {
     "name": "stdout",
     "output_type": "stream",
     "text": [
      "['y']\n",
      "['y']\n",
      "['y']\n",
      "['y']\n",
      "['y']\n",
      "['y']\n",
      "['y']\n",
      "['y']\n",
      "['y']\n",
      "['y']\n"
     ]
    }
   ],
   "source": [
    "# Verifying if the dataframes have any 'categorical' columns\n",
    "for dataframe in all_dataframes_1:\n",
    "    print(dataframe.select_dtypes(include=['O']).columns.values)"
   ]
  },
  {
   "cell_type": "code",
   "execution_count": 50,
   "metadata": {},
   "outputs": [
    {
     "name": "stdout",
     "output_type": "stream",
     "text": [
      "['y']\n",
      "['y']\n",
      "['y']\n",
      "['y']\n",
      "['y']\n",
      "['y']\n",
      "['y']\n",
      "['y']\n",
      "['y']\n",
      "['y']\n",
      "['y']\n",
      "['y']\n",
      "['y']\n",
      "['y']\n",
      "['y']\n"
     ]
    }
   ],
   "source": [
    "# Verifying if the dataframes have any 'categorical' columns\n",
    "for dataframe in all_dataframes_2:\n",
    "    print(dataframe.select_dtypes(include=['O']).columns.values)"
   ]
  },
  {
   "cell_type": "code",
   "execution_count": 51,
   "metadata": {
    "scrolled": true
   },
   "outputs": [
    {
     "name": "stdout",
     "output_type": "stream",
     "text": [
      "(41188, 64)\n",
      "(41188, 64)\n",
      "(41188, 64)\n",
      "(41188, 64)\n",
      "(41188, 64)\n",
      "(41188, 64)\n",
      "(41188, 64)\n",
      "(41188, 64)\n",
      "(73096, 64)\n",
      "(9280, 64)\n"
     ]
    }
   ],
   "source": [
    "# Verifying if the dataframes have any 'categorical' columns\n",
    "for dataframe in all_dataframes_1:\n",
    "    print(dataframe.shape)"
   ]
  },
  {
   "cell_type": "code",
   "execution_count": 52,
   "metadata": {},
   "outputs": [
    {
     "name": "stdout",
     "output_type": "stream",
     "text": [
      "(41188, 48)\n",
      "(41188, 48)\n",
      "(41188, 48)\n",
      "(41188, 48)\n",
      "(41188, 48)\n",
      "(41188, 48)\n",
      "(41188, 48)\n",
      "(73096, 48)\n",
      "(73096, 48)\n",
      "(73096, 48)\n",
      "(73096, 48)\n",
      "(9280, 48)\n",
      "(9280, 48)\n",
      "(9280, 48)\n",
      "(9280, 48)\n"
     ]
    }
   ],
   "source": [
    "# Verifying if the dataframes have any 'categorical' columns\n",
    "for dataframe in all_dataframes_2:\n",
    "    print(dataframe.shape)"
   ]
  },
  {
   "cell_type": "markdown",
   "metadata": {
    "collapsed": true
   },
   "source": [
    "<u> Note </u>:\n",
    "Using multiple conditions in Lambda functions: lambda x: x*10 if x<20 else (x**2 if x<4 else x+10)"
   ]
  },
  {
   "cell_type": "markdown",
   "metadata": {},
   "source": [
    "<u> Warning </u> : More about 'SettingWithCopyWarning' warning.\n",
    "https://www.dataquest.io/blog/settingwithcopywarning/"
   ]
  },
  {
   "cell_type": "code",
   "execution_count": null,
   "metadata": {
    "collapsed": true
   },
   "outputs": [],
   "source": []
  },
  {
   "cell_type": "markdown",
   "metadata": {},
   "source": [
    "## 6. DataFrames"
   ]
  },
  {
   "cell_type": "markdown",
   "metadata": {},
   "source": [
    "## 6.1 Logistic Regression"
   ]
  },
  {
   "cell_type": "code",
   "execution_count": 53,
   "metadata": {
    "collapsed": true
   },
   "outputs": [],
   "source": [
    "from sklearn.linear_model import LogisticRegression\n",
    "from sklearn.model_selection import KFold\n",
    "from sklearn.model_selection import cross_val_score\n",
    "from sklearn.ensemble import RandomForestClassifier\n",
    "from sklearn.model_selection import train_test_split\n",
    "from sklearn.metrics import accuracy_score "
   ]
  },
  {
   "cell_type": "code",
   "execution_count": 54,
   "metadata": {
    "collapsed": true
   },
   "outputs": [],
   "source": [
    "# Assiging a name to each dataframe\n",
    "df.name = 'df'\n",
    "df_outliers.name = 'df_outliers'\n",
    "df_log.name = 'df_log'\n",
    "df_outliers_log.name = 'df_outliers_log'\n",
    "df_normalization.name = 'df_normalization'\n",
    "df_log_normalization.name = 'df_log_normalization'\n",
    "df_standardization.name = 'df_standardization'\n",
    "df_log_standardization.name = 'df_log_standardization'\n",
    "df_upsample.name = 'df_upsample'\n",
    "df_downsample.name = 'df_downsample'\n",
    "df_transformations.name = 'df_transformations'\n",
    "df_transformations_outliers.name = 'df_transformations_outliers'\n",
    "df_transformations_outliers_log.name = 'df_transformations_outliers_log'\n",
    "df_transformations_outliers_normalization.name = 'df_transformations_outliers_normalization'\n",
    "df_transformations_outliers_log_normalization.name = 'df_transformations_outliers_log_normalization'\n",
    "df_transformations_outliers_standardization.name = 'df_transformations_outliers_standardization'\n",
    "df_transformations_outliers_log_standardization.name = 'df_transformations_outliers_log_standardization'\n",
    "df_transformations_outliers_upsample.name = 'df_transformations_outliers_upsample'\n",
    "df_transformations_outliers_log_upsample.name = 'df_transformations_outliers_log_upsample'\n",
    "df_transformations_outliers_log_normalization_upsample.name = 'df_transformations_outliers_log_normalization_upsample'\n",
    "df_transformations_outliers_log_standardization_upsample.name = 'df_transformations_outliers_log_standardization_upsample'\n",
    "df_transformations_outliers_downsample.name = 'df_transformations_outliers_downsample'\n",
    "df_transformations_outliers_log_downsample.name = 'df_transformations_outliers_log_downsample'\n",
    "df_transformations_outliers_log_normalization_downsample.name = 'df_transformations_outliers_log_normalization_downsample'\n",
    "df_transformations_outliers_log_standardization_downsample.name = 'df_transformations_outliers_log_standardization_downsample'"
   ]
  },
  {
   "cell_type": "code",
   "execution_count": 55,
   "metadata": {
    "collapsed": true
   },
   "outputs": [],
   "source": [
    "all_dataframes = [df, df_outliers, df_log, df_outliers_log, df_normalization,  df_log_normalization, df_standardization, df_log_standardization, df_upsample, df_downsample, df_transformations, df_transformations_outliers, df_transformations_outliers_log, df_transformations_outliers_normalization, df_transformations_outliers_log_normalization, df_transformations_outliers_standardization, df_transformations_outliers_log_standardization, df_transformations_outliers_upsample, df_transformations_outliers_log_upsample, df_transformations_outliers_log_normalization_upsample, df_transformations_outliers_log_standardization_upsample, df_transformations_outliers_downsample, df_transformations_outliers_log_downsample, df_transformations_outliers_log_normalization_downsample, df_transformations_outliers_log_standardization_downsample]"
   ]
  },
  {
   "cell_type": "code",
   "execution_count": 80,
   "metadata": {
    "scrolled": true
   },
   "outputs": [
    {
     "name": "stderr",
     "output_type": "stream",
     "text": [
      "C:\\Users\\Nishu\\Anaconda3\\Lib\\site-packages\\sklearn\\utils\\validation.py:526: DataConversionWarning: A column-vector y was passed when a 1d array was expected. Please change the shape of y to (n_samples, ), for example using ravel().\n",
      "  y = column_or_1d(y, warn=True)\n"
     ]
    },
    {
     "name": "stdout",
     "output_type": "stream",
     "text": [
      "df -- 0.907016266084\n",
      "df_outliers -- 0.908351541636\n",
      "df_log -- 0.905316824472\n",
      "df_outliers_log -- 0.907259043457\n",
      "df_normalization -- 0.897305171158\n",
      "df_log_normalization -- 0.896941005098\n",
      "df_standardization -- 0.898154891964\n",
      "df_log_standardization -- 0.898276280651\n",
      "df_upsample -- 0.872640218878\n",
      "df_downsample -- 0.865301724138\n",
      "df_transformations -- 0.906045156591\n",
      "df_transformations_outliers -- 0.905316824472\n",
      "df_transformations_outliers_log -- 0.904102937606\n",
      "df_transformations_outliers_normalization -- 0.898761835397\n",
      "df_transformations_outliers_log_normalization -- 0.89864044671\n",
      "df_transformations_outliers_standardization -- 0.899126001457\n",
      "df_transformations_outliers_log_standardization -- 0.899247390143\n",
      "df_transformations_outliers_upsample -- 0.871203830369\n",
      "df_transformations_outliers_log_upsample -- 0.867510259918\n",
      "df_transformations_outliers_log_normalization_upsample -- 0.824487004104\n",
      "df_transformations_outliers_log_standardization_upsample -- 0.824487004104\n",
      "df_transformations_outliers_downsample -- 0.869612068966\n",
      "df_transformations_outliers_log_downsample -- 1.0\n",
      "df_transformations_outliers_log_normalization_downsample -- 1.0\n",
      "df_transformations_outliers_log_standardization_downsample -- 1.0\n"
     ]
    }
   ],
   "source": [
    "scores = []\n",
    "for dframe in all_dataframes:\n",
    "    X = dframe.drop('y', 1)\n",
    "    y = pd.DataFrame(dframe[['y']])\n",
    "    X_train, X_test, y_train, y_test = train_test_split(X, y, test_size = 0.2, random_state = 42)\n",
    "    \n",
    "    reg = LogisticRegression()\n",
    "    reg.fit(X_train, y_train)\n",
    "    pred = reg.predict(X_test)\n",
    "    print(dframe.name, '--', (accuracy_score(y_test, pred)))"
   ]
  },
  {
   "cell_type": "code",
   "execution_count": 458,
   "metadata": {
    "collapsed": true
   },
   "outputs": [],
   "source": []
  },
  {
   "cell_type": "markdown",
   "metadata": {},
   "source": [
    "### Hyperparameter Tuning"
   ]
  },
  {
   "cell_type": "code",
   "execution_count": 81,
   "metadata": {
    "collapsed": true
   },
   "outputs": [],
   "source": [
    "new_all_dataframes = [df, df_outliers, df_log, df_outliers_log, df_normalization,  df_log_normalization, df_standardization, df_log_standardization, df_upsample, df_downsample, df_transformations, df_transformations_outliers, df_transformations_outliers_log, df_transformations_outliers_normalization, df_transformations_outliers_log_normalization, df_transformations_outliers_standardization, df_transformations_outliers_log_standardization, df_transformations_outliers_upsample, df_transformations_outliers_log_upsample, df_transformations_outliers_log_normalization_upsample, df_transformations_outliers_log_standardization_upsample, df_transformations_outliers_downsample]"
   ]
  },
  {
   "cell_type": "code",
   "execution_count": 82,
   "metadata": {
    "collapsed": true
   },
   "outputs": [],
   "source": [
    "Cs = [0.001, 0.1, 1, 10, 100]\n",
    "results = []\n",
    "max_score = 0"
   ]
  },
  {
   "cell_type": "markdown",
   "metadata": {},
   "source": [
    "### Acuracy"
   ]
  },
  {
   "cell_type": "code",
   "execution_count": 85,
   "metadata": {},
   "outputs": [
    {
     "name": "stderr",
     "output_type": "stream",
     "text": [
      "C:\\Users\\Nishu\\Anaconda3\\Lib\\site-packages\\sklearn\\utils\\validation.py:526: DataConversionWarning: A column-vector y was passed when a 1d array was expected. Please change the shape of y to (n_samples, ), for example using ravel().\n",
      "  y = column_or_1d(y, warn=True)\n"
     ]
    },
    {
     "name": "stdout",
     "output_type": "stream",
     "text": [
      "df -- 0.001000 score: 0.904710\n",
      "df -- 0.100000 score: 0.906895\n",
      "df -- 1.000000 score: 0.907016\n",
      "df -- 10.000000 score: 0.907016\n",
      "df -- 100.000000 score: 0.907016\n",
      "df_outliers -- 0.001000 score: 0.904710\n",
      "df_outliers -- 0.100000 score: 0.908837\n",
      "df_outliers -- 1.000000 score: 0.908352\n",
      "df_outliers -- 10.000000 score: 0.908594\n",
      "df_outliers -- 100.000000 score: 0.908352\n",
      "df_log -- 0.001000 score: 0.903496\n",
      "df_log -- 0.100000 score: 0.905681\n",
      "df_log -- 1.000000 score: 0.905317\n",
      "df_log -- 10.000000 score: 0.905074\n",
      "df_log -- 100.000000 score: 0.906045\n",
      "df_outliers_log -- 0.001000 score: 0.901068\n",
      "df_outliers_log -- 0.100000 score: 0.907380\n",
      "df_outliers_log -- 1.000000 score: 0.907259\n",
      "df_outliers_log -- 10.000000 score: 0.908230\n",
      "df_outliers_log -- 100.000000 score: 0.907987\n",
      "df_normalization -- 0.001000 score: 0.886502\n",
      "df_normalization -- 0.100000 score: 0.896334\n",
      "df_normalization -- 1.000000 score: 0.897305\n",
      "df_normalization -- 10.000000 score: 0.898398\n",
      "df_normalization -- 100.000000 score: 0.898276\n",
      "df_log_normalization -- 0.001000 score: 0.886502\n",
      "df_log_normalization -- 0.100000 score: 0.896577\n",
      "df_log_normalization -- 1.000000 score: 0.896941\n",
      "df_log_normalization -- 10.000000 score: 0.898276\n",
      "df_log_normalization -- 100.000000 score: 0.898155\n",
      "df_standardization -- 0.001000 score: 0.892450\n",
      "df_standardization -- 0.100000 score: 0.898155\n",
      "df_standardization -- 1.000000 score: 0.898155\n",
      "df_standardization -- 10.000000 score: 0.898276\n",
      "df_standardization -- 100.000000 score: 0.898276\n",
      "df_log_standardization -- 0.001000 score: 0.892450\n",
      "df_log_standardization -- 0.100000 score: 0.897791\n",
      "df_log_standardization -- 1.000000 score: 0.898276\n",
      "df_log_standardization -- 10.000000 score: 0.898276\n",
      "df_log_standardization -- 100.000000 score: 0.898155\n",
      "df_upsample -- 0.001000 score: 0.866484\n",
      "df_upsample -- 0.100000 score: 0.872914\n",
      "df_upsample -- 1.000000 score: 0.872640\n",
      "df_upsample -- 10.000000 score: 0.871135\n",
      "df_upsample -- 100.000000 score: 0.872367\n",
      "df_downsample -- 0.001000 score: 0.862069\n",
      "df_downsample -- 0.100000 score: 0.871228\n",
      "df_downsample -- 1.000000 score: 0.865302\n",
      "df_downsample -- 10.000000 score: 0.864224\n",
      "df_downsample -- 100.000000 score: 0.866379\n",
      "df_transformations -- 0.001000 score: 0.905438\n",
      "df_transformations -- 0.100000 score: 0.906045\n",
      "df_transformations -- 1.000000 score: 0.906045\n",
      "df_transformations -- 10.000000 score: 0.906045\n",
      "df_transformations -- 100.000000 score: 0.906045\n",
      "df_transformations_outliers -- 0.001000 score: 0.902282\n",
      "df_transformations_outliers -- 0.100000 score: 0.906045\n",
      "df_transformations_outliers -- 1.000000 score: 0.905317\n",
      "df_transformations_outliers -- 10.000000 score: 0.907623\n",
      "df_transformations_outliers -- 100.000000 score: 0.906409\n",
      "df_transformations_outliers_log -- 0.001000 score: 0.900704\n",
      "df_transformations_outliers_log -- 0.100000 score: 0.904224\n",
      "df_transformations_outliers_log -- 1.000000 score: 0.904103\n",
      "df_transformations_outliers_log -- 10.000000 score: 0.904346\n",
      "df_transformations_outliers_log -- 100.000000 score: 0.904346\n",
      "df_transformations_outliers_normalization -- 0.001000 score: 0.887715\n",
      "df_transformations_outliers_normalization -- 0.100000 score: 0.897305\n",
      "df_transformations_outliers_normalization -- 1.000000 score: 0.898762\n",
      "df_transformations_outliers_normalization -- 10.000000 score: 0.899005\n",
      "df_transformations_outliers_normalization -- 100.000000 score: 0.898883\n",
      "df_transformations_outliers_log_normalization -- 0.001000 score: 0.887837\n",
      "df_transformations_outliers_log_normalization -- 0.100000 score: 0.897305\n",
      "df_transformations_outliers_log_normalization -- 1.000000 score: 0.898640\n",
      "df_transformations_outliers_log_normalization -- 10.000000 score: 0.899369\n",
      "df_transformations_outliers_log_normalization -- 100.000000 score: 0.899247\n",
      "df_transformations_outliers_standardization -- 0.001000 score: 0.894877\n",
      "df_transformations_outliers_standardization -- 0.100000 score: 0.898034\n",
      "df_transformations_outliers_standardization -- 1.000000 score: 0.899126\n",
      "df_transformations_outliers_standardization -- 10.000000 score: 0.898762\n",
      "df_transformations_outliers_standardization -- 100.000000 score: 0.898762\n",
      "df_transformations_outliers_log_standardization -- 0.001000 score: 0.895120\n",
      "df_transformations_outliers_log_standardization -- 0.100000 score: 0.898762\n",
      "df_transformations_outliers_log_standardization -- 1.000000 score: 0.899247\n",
      "df_transformations_outliers_log_standardization -- 10.000000 score: 0.899247\n",
      "df_transformations_outliers_log_standardization -- 100.000000 score: 0.899247\n",
      "df_transformations_outliers_upsample -- 0.001000 score: 0.865663\n",
      "df_transformations_outliers_upsample -- 0.100000 score: 0.870725\n",
      "df_transformations_outliers_upsample -- 1.000000 score: 0.871204\n",
      "df_transformations_outliers_upsample -- 10.000000 score: 0.870999\n",
      "df_transformations_outliers_upsample -- 100.000000 score: 0.870862\n",
      "df_transformations_outliers_log_upsample -- 0.001000 score: 0.865732\n",
      "df_transformations_outliers_log_upsample -- 0.100000 score: 0.867100\n",
      "df_transformations_outliers_log_upsample -- 1.000000 score: 0.867510\n",
      "df_transformations_outliers_log_upsample -- 10.000000 score: 0.866826\n",
      "df_transformations_outliers_log_upsample -- 100.000000 score: 0.867442\n",
      "df_transformations_outliers_log_normalization_upsample -- 0.001000 score: 0.800684\n",
      "df_transformations_outliers_log_normalization_upsample -- 0.100000 score: 0.822914\n",
      "df_transformations_outliers_log_normalization_upsample -- 1.000000 score: 0.824487\n",
      "df_transformations_outliers_log_normalization_upsample -- 10.000000 score: 0.824692\n",
      "df_transformations_outliers_log_normalization_upsample -- 100.000000 score: 0.824761\n",
      "df_transformations_outliers_log_standardization_upsample -- 0.001000 score: 0.812859\n",
      "df_transformations_outliers_log_standardization_upsample -- 0.100000 score: 0.824829\n",
      "df_transformations_outliers_log_standardization_upsample -- 1.000000 score: 0.824487\n",
      "df_transformations_outliers_log_standardization_upsample -- 10.000000 score: 0.824761\n",
      "df_transformations_outliers_log_standardization_upsample -- 100.000000 score: 0.825239\n",
      "df_transformations_outliers_downsample -- 0.001000 score: 0.855603\n",
      "df_transformations_outliers_downsample -- 0.100000 score: 0.872306\n",
      "df_transformations_outliers_downsample -- 1.000000 score: 0.869612\n",
      "df_transformations_outliers_downsample -- 10.000000 score: 0.869612\n",
      "df_transformations_outliers_downsample -- 100.000000 score: 0.869612\n",
      "Best df:df_outliers\n",
      "Best c:0.1\n"
     ]
    }
   ],
   "source": [
    "for dframe in new_all_dataframes:\n",
    "    \n",
    "    X = dframe.drop('y', 1)\n",
    "    y = pd.DataFrame(dframe[['y']])\n",
    "    X_train, X_test, y_train, y_test = train_test_split(X, y, test_size = 0.2, random_state = 42)\n",
    "    \n",
    "    for c in Cs:\n",
    "        \n",
    "        reg = LogisticRegression(C=c)\n",
    "        reg.fit(X_train, y_train)\n",
    "        score = accuracy_score(reg.predict(X_test),y_test)\n",
    "        print(dframe.name + \" -- %f score: %f\" % (c, score))\n",
    "        \n",
    "        if (score > max_score):\n",
    "            max_score = score\n",
    "            best_c = c\n",
    "            best_df = dframe.name\n",
    "\n",
    "print(\"Best df:\"+ str(best_df))\n",
    "print(\"Best c:\" + str(best_c))"
   ]
  },
  {
   "cell_type": "markdown",
   "metadata": {},
   "source": [
    "**'df_outliers' with a c-value '0.1' yeilded a score of '0.908837'**"
   ]
  },
  {
   "cell_type": "markdown",
   "metadata": {},
   "source": [
    "Basically, if we want to focus more on minimising False Negatives, we would want our Recall to be as close to 100% as possible without precision being too bad "
   ]
  },
  {
   "cell_type": "code",
   "execution_count": null,
   "metadata": {
    "collapsed": true
   },
   "outputs": [],
   "source": []
  },
  {
   "cell_type": "code",
   "execution_count": 87,
   "metadata": {
    "collapsed": true
   },
   "outputs": [],
   "source": [
    "from sklearn.metrics import classification_report\n",
    "from sklearn.metrics import precision_score, recall_score, f1_score"
   ]
  },
  {
   "cell_type": "markdown",
   "metadata": {},
   "source": [
    "### Recall"
   ]
  },
  {
   "cell_type": "code",
   "execution_count": 503,
   "metadata": {
    "collapsed": true
   },
   "outputs": [],
   "source": [
    "import math"
   ]
  },
  {
   "cell_type": "code",
   "execution_count": 506,
   "metadata": {
    "collapsed": true
   },
   "outputs": [
    {
     "name": "stdout",
     "output_type": "stream",
     "text": [
      "True df\n",
      "True df_outliers\n",
      "True df_log\n",
      "True df_outliers_log\n",
      "True df_normalization\n",
      "True df_log_normalization\n",
      "True df_standardization\n",
      "True df_log_standardization\n",
      "True df_upsample\n",
      "True df_downsample\n",
      "True df_transformations\n",
      "True df_transformations_outliers\n",
      "True df_transformations_outliers_log\n",
      "True df_transformations_outliers_normalization\n",
      "True df_transformations_outliers_log_normalization\n",
      "True df_transformations_outliers_standardization\n",
      "True df_transformations_outliers_log_standardization\n",
      "True df_transformations_outliers_upsample\n",
      "True df_transformations_outliers_log_upsample\n",
      "True df_transformations_outliers_log_normalization_upsample\n",
      "True df_transformations_outliers_log_standardization_upsample\n",
      "True df_transformations_outliers_downsample\n"
     ]
    }
   ],
   "source": [
    "for dframe in new_all_dataframes:\n",
    "    X = dframe.drop('y', 1)\n",
    "    y = pd.get_dummies(dframe[['y']], drop_first = True)\n",
    "    X_train, X_test, y_train, y_test = train_test_split(X, y, test_size = 0.2, random_state = 42)\n",
    "    print(len(X_test) == len(y_test), dframe.name)"
   ]
  },
  {
   "cell_type": "code",
   "execution_count": 88,
   "metadata": {},
   "outputs": [
    {
     "name": "stderr",
     "output_type": "stream",
     "text": [
      "C:\\Users\\Nishu\\Anaconda3\\Lib\\site-packages\\sklearn\\utils\\validation.py:526: DataConversionWarning: A column-vector y was passed when a 1d array was expected. Please change the shape of y to (n_samples, ), for example using ravel().\n",
      "  y = column_or_1d(y, warn=True)\n"
     ]
    },
    {
     "name": "stdout",
     "output_type": "stream",
     "text": [
      "Best df: df_outliers\n",
      "Best c: 0.1\n",
      "Best df: df_upsample\n",
      "Best recall: 0.889485273878\n",
      "Best df: df_log_standardization\n",
      "Best precision: 0.586419753086\n"
     ]
    }
   ],
   "source": [
    "Cs = [0.001, 0.1, 1, 10, 100]\n",
    "results = []\n",
    "max_score = 0\n",
    "max_recall = 0\n",
    "min_precision = math.inf\n",
    "\n",
    "for dframe in new_all_dataframes:\n",
    "    for c in Cs:\n",
    "        \n",
    "        X = dframe.drop('y', 1)\n",
    "        y = pd.get_dummies(dframe[['y']], drop_first = True)\n",
    "        X_train, X_test, y_train, y_test = train_test_split(X, y, test_size = 0.2, random_state = 42)\n",
    "\n",
    "        reg = LogisticRegression(C=c)\n",
    "        reg.fit(X_train, y_train)\n",
    "        pred = reg.predict(X_test)\n",
    "        \n",
    "        score = accuracy_score(reg.predict(X_test),y_test)\n",
    "        recall = recall_score(y_test, pred)\n",
    "        precision = precision_score(y_test, pred)\n",
    "        \n",
    "        if (score > max_score):\n",
    "            max_score = score\n",
    "            best_c = c\n",
    "            best_c_df = dframe.name\n",
    "        \n",
    "        if (recall > max_recall):\n",
    "            max_recall = recall\n",
    "            best_recall = recall\n",
    "            best_recall_df = dframe.name\n",
    "        \n",
    "        if (precision < min_precision):\n",
    "            min_precision = precision\n",
    "            best_precision = precision\n",
    "            best_precision_df = dframe.name\n",
    "\n",
    "\n",
    "print(\"Best df: \"+ str(best_c_df))\n",
    "print(\"Best c: \" + str(best_c))\n",
    "print(\"Best df: \"+ str(best_recall_df))\n",
    "print(\"Best recall: \" + str(best_recall))\n",
    "print(\"Best df: \"+ str(best_precision_df))\n",
    "print(\"Best precision: \" + str(best_precision))"
   ]
  },
  {
   "cell_type": "code",
   "execution_count": null,
   "metadata": {
    "collapsed": true
   },
   "outputs": [],
   "source": []
  },
  {
   "cell_type": "markdown",
   "metadata": {},
   "source": [
    "### ROC Curve"
   ]
  },
  {
   "cell_type": "code",
   "execution_count": 89,
   "metadata": {
    "collapsed": true
   },
   "outputs": [],
   "source": [
    "from sklearn.metrics import roc_curve\n",
    "from sklearn.metrics import auc"
   ]
  },
  {
   "cell_type": "code",
   "execution_count": 95,
   "metadata": {
    "collapsed": true
   },
   "outputs": [],
   "source": [
    "X = df.drop('y', 1)\n",
    "y = pd.get_dummies(df[['y']], drop_first = True)\n",
    "X_train, X_test, y_train, y_test = train_test_split(X, y, test_size = 0.2, random_state = 42)"
   ]
  },
  {
   "cell_type": "code",
   "execution_count": 96,
   "metadata": {},
   "outputs": [
    {
     "name": "stderr",
     "output_type": "stream",
     "text": [
      "C:\\Users\\Nishu\\Anaconda3\\Lib\\site-packages\\sklearn\\utils\\validation.py:526: DataConversionWarning: A column-vector y was passed when a 1d array was expected. Please change the shape of y to (n_samples, ), for example using ravel().\n",
      "  y = column_or_1d(y, warn=True)\n"
     ]
    }
   ],
   "source": [
    "reg = LogisticRegression(C = 0.1)\n",
    "reg.fit(X_train, y_train)\n",
    "pred = reg.predict(X_test)"
   ]
  },
  {
   "cell_type": "code",
   "execution_count": 116,
   "metadata": {
    "collapsed": true
   },
   "outputs": [],
   "source": [
    "y_test_sorted = sorted(y_test.values)\n",
    "y_pred_sorted = sorted(pred)"
   ]
  },
  {
   "cell_type": "code",
   "execution_count": 118,
   "metadata": {
    "collapsed": true
   },
   "outputs": [],
   "source": [
    "fpr, tpr, thresholds = (roc_curve(y_test_sorted, y_pred_sorted))"
   ]
  },
  {
   "cell_type": "code",
   "execution_count": 119,
   "metadata": {
    "collapsed": true
   },
   "outputs": [],
   "source": [
    "roc_auc = auc(y_test_sorted, y_pred_sorted)"
   ]
  },
  {
   "cell_type": "code",
   "execution_count": 121,
   "metadata": {
    "collapsed": true
   },
   "outputs": [],
   "source": [
    "import matplotlib.pyplot as plt"
   ]
  },
  {
   "cell_type": "code",
   "execution_count": 122,
   "metadata": {},
   "outputs": [
    {
     "data": {
      "application/javascript": [
       "/* Put everything inside the global mpl namespace */\n",
       "window.mpl = {};\n",
       "\n",
       "\n",
       "mpl.get_websocket_type = function() {\n",
       "    if (typeof(WebSocket) !== 'undefined') {\n",
       "        return WebSocket;\n",
       "    } else if (typeof(MozWebSocket) !== 'undefined') {\n",
       "        return MozWebSocket;\n",
       "    } else {\n",
       "        alert('Your browser does not have WebSocket support.' +\n",
       "              'Please try Chrome, Safari or Firefox ≥ 6. ' +\n",
       "              'Firefox 4 and 5 are also supported but you ' +\n",
       "              'have to enable WebSockets in about:config.');\n",
       "    };\n",
       "}\n",
       "\n",
       "mpl.figure = function(figure_id, websocket, ondownload, parent_element) {\n",
       "    this.id = figure_id;\n",
       "\n",
       "    this.ws = websocket;\n",
       "\n",
       "    this.supports_binary = (this.ws.binaryType != undefined);\n",
       "\n",
       "    if (!this.supports_binary) {\n",
       "        var warnings = document.getElementById(\"mpl-warnings\");\n",
       "        if (warnings) {\n",
       "            warnings.style.display = 'block';\n",
       "            warnings.textContent = (\n",
       "                \"This browser does not support binary websocket messages. \" +\n",
       "                    \"Performance may be slow.\");\n",
       "        }\n",
       "    }\n",
       "\n",
       "    this.imageObj = new Image();\n",
       "\n",
       "    this.context = undefined;\n",
       "    this.message = undefined;\n",
       "    this.canvas = undefined;\n",
       "    this.rubberband_canvas = undefined;\n",
       "    this.rubberband_context = undefined;\n",
       "    this.format_dropdown = undefined;\n",
       "\n",
       "    this.image_mode = 'full';\n",
       "\n",
       "    this.root = $('<div/>');\n",
       "    this._root_extra_style(this.root)\n",
       "    this.root.attr('style', 'display: inline-block');\n",
       "\n",
       "    $(parent_element).append(this.root);\n",
       "\n",
       "    this._init_header(this);\n",
       "    this._init_canvas(this);\n",
       "    this._init_toolbar(this);\n",
       "\n",
       "    var fig = this;\n",
       "\n",
       "    this.waiting = false;\n",
       "\n",
       "    this.ws.onopen =  function () {\n",
       "            fig.send_message(\"supports_binary\", {value: fig.supports_binary});\n",
       "            fig.send_message(\"send_image_mode\", {});\n",
       "            if (mpl.ratio != 1) {\n",
       "                fig.send_message(\"set_dpi_ratio\", {'dpi_ratio': mpl.ratio});\n",
       "            }\n",
       "            fig.send_message(\"refresh\", {});\n",
       "        }\n",
       "\n",
       "    this.imageObj.onload = function() {\n",
       "            if (fig.image_mode == 'full') {\n",
       "                // Full images could contain transparency (where diff images\n",
       "                // almost always do), so we need to clear the canvas so that\n",
       "                // there is no ghosting.\n",
       "                fig.context.clearRect(0, 0, fig.canvas.width, fig.canvas.height);\n",
       "            }\n",
       "            fig.context.drawImage(fig.imageObj, 0, 0);\n",
       "        };\n",
       "\n",
       "    this.imageObj.onunload = function() {\n",
       "        this.ws.close();\n",
       "    }\n",
       "\n",
       "    this.ws.onmessage = this._make_on_message_function(this);\n",
       "\n",
       "    this.ondownload = ondownload;\n",
       "}\n",
       "\n",
       "mpl.figure.prototype._init_header = function() {\n",
       "    var titlebar = $(\n",
       "        '<div class=\"ui-dialog-titlebar ui-widget-header ui-corner-all ' +\n",
       "        'ui-helper-clearfix\"/>');\n",
       "    var titletext = $(\n",
       "        '<div class=\"ui-dialog-title\" style=\"width: 100%; ' +\n",
       "        'text-align: center; padding: 3px;\"/>');\n",
       "    titlebar.append(titletext)\n",
       "    this.root.append(titlebar);\n",
       "    this.header = titletext[0];\n",
       "}\n",
       "\n",
       "\n",
       "\n",
       "mpl.figure.prototype._canvas_extra_style = function(canvas_div) {\n",
       "\n",
       "}\n",
       "\n",
       "\n",
       "mpl.figure.prototype._root_extra_style = function(canvas_div) {\n",
       "\n",
       "}\n",
       "\n",
       "mpl.figure.prototype._init_canvas = function() {\n",
       "    var fig = this;\n",
       "\n",
       "    var canvas_div = $('<div/>');\n",
       "\n",
       "    canvas_div.attr('style', 'position: relative; clear: both; outline: 0');\n",
       "\n",
       "    function canvas_keyboard_event(event) {\n",
       "        return fig.key_event(event, event['data']);\n",
       "    }\n",
       "\n",
       "    canvas_div.keydown('key_press', canvas_keyboard_event);\n",
       "    canvas_div.keyup('key_release', canvas_keyboard_event);\n",
       "    this.canvas_div = canvas_div\n",
       "    this._canvas_extra_style(canvas_div)\n",
       "    this.root.append(canvas_div);\n",
       "\n",
       "    var canvas = $('<canvas/>');\n",
       "    canvas.addClass('mpl-canvas');\n",
       "    canvas.attr('style', \"left: 0; top: 0; z-index: 0; outline: 0\")\n",
       "\n",
       "    this.canvas = canvas[0];\n",
       "    this.context = canvas[0].getContext(\"2d\");\n",
       "\n",
       "    var backingStore = this.context.backingStorePixelRatio ||\n",
       "\tthis.context.webkitBackingStorePixelRatio ||\n",
       "\tthis.context.mozBackingStorePixelRatio ||\n",
       "\tthis.context.msBackingStorePixelRatio ||\n",
       "\tthis.context.oBackingStorePixelRatio ||\n",
       "\tthis.context.backingStorePixelRatio || 1;\n",
       "\n",
       "    mpl.ratio = (window.devicePixelRatio || 1) / backingStore;\n",
       "\n",
       "    var rubberband = $('<canvas/>');\n",
       "    rubberband.attr('style', \"position: absolute; left: 0; top: 0; z-index: 1;\")\n",
       "\n",
       "    var pass_mouse_events = true;\n",
       "\n",
       "    canvas_div.resizable({\n",
       "        start: function(event, ui) {\n",
       "            pass_mouse_events = false;\n",
       "        },\n",
       "        resize: function(event, ui) {\n",
       "            fig.request_resize(ui.size.width, ui.size.height);\n",
       "        },\n",
       "        stop: function(event, ui) {\n",
       "            pass_mouse_events = true;\n",
       "            fig.request_resize(ui.size.width, ui.size.height);\n",
       "        },\n",
       "    });\n",
       "\n",
       "    function mouse_event_fn(event) {\n",
       "        if (pass_mouse_events)\n",
       "            return fig.mouse_event(event, event['data']);\n",
       "    }\n",
       "\n",
       "    rubberband.mousedown('button_press', mouse_event_fn);\n",
       "    rubberband.mouseup('button_release', mouse_event_fn);\n",
       "    // Throttle sequential mouse events to 1 every 20ms.\n",
       "    rubberband.mousemove('motion_notify', mouse_event_fn);\n",
       "\n",
       "    rubberband.mouseenter('figure_enter', mouse_event_fn);\n",
       "    rubberband.mouseleave('figure_leave', mouse_event_fn);\n",
       "\n",
       "    canvas_div.on(\"wheel\", function (event) {\n",
       "        event = event.originalEvent;\n",
       "        event['data'] = 'scroll'\n",
       "        if (event.deltaY < 0) {\n",
       "            event.step = 1;\n",
       "        } else {\n",
       "            event.step = -1;\n",
       "        }\n",
       "        mouse_event_fn(event);\n",
       "    });\n",
       "\n",
       "    canvas_div.append(canvas);\n",
       "    canvas_div.append(rubberband);\n",
       "\n",
       "    this.rubberband = rubberband;\n",
       "    this.rubberband_canvas = rubberband[0];\n",
       "    this.rubberband_context = rubberband[0].getContext(\"2d\");\n",
       "    this.rubberband_context.strokeStyle = \"#000000\";\n",
       "\n",
       "    this._resize_canvas = function(width, height) {\n",
       "        // Keep the size of the canvas, canvas container, and rubber band\n",
       "        // canvas in synch.\n",
       "        canvas_div.css('width', width)\n",
       "        canvas_div.css('height', height)\n",
       "\n",
       "        canvas.attr('width', width * mpl.ratio);\n",
       "        canvas.attr('height', height * mpl.ratio);\n",
       "        canvas.attr('style', 'width: ' + width + 'px; height: ' + height + 'px;');\n",
       "\n",
       "        rubberband.attr('width', width);\n",
       "        rubberband.attr('height', height);\n",
       "    }\n",
       "\n",
       "    // Set the figure to an initial 600x600px, this will subsequently be updated\n",
       "    // upon first draw.\n",
       "    this._resize_canvas(600, 600);\n",
       "\n",
       "    // Disable right mouse context menu.\n",
       "    $(this.rubberband_canvas).bind(\"contextmenu\",function(e){\n",
       "        return false;\n",
       "    });\n",
       "\n",
       "    function set_focus () {\n",
       "        canvas.focus();\n",
       "        canvas_div.focus();\n",
       "    }\n",
       "\n",
       "    window.setTimeout(set_focus, 100);\n",
       "}\n",
       "\n",
       "mpl.figure.prototype._init_toolbar = function() {\n",
       "    var fig = this;\n",
       "\n",
       "    var nav_element = $('<div/>')\n",
       "    nav_element.attr('style', 'width: 100%');\n",
       "    this.root.append(nav_element);\n",
       "\n",
       "    // Define a callback function for later on.\n",
       "    function toolbar_event(event) {\n",
       "        return fig.toolbar_button_onclick(event['data']);\n",
       "    }\n",
       "    function toolbar_mouse_event(event) {\n",
       "        return fig.toolbar_button_onmouseover(event['data']);\n",
       "    }\n",
       "\n",
       "    for(var toolbar_ind in mpl.toolbar_items) {\n",
       "        var name = mpl.toolbar_items[toolbar_ind][0];\n",
       "        var tooltip = mpl.toolbar_items[toolbar_ind][1];\n",
       "        var image = mpl.toolbar_items[toolbar_ind][2];\n",
       "        var method_name = mpl.toolbar_items[toolbar_ind][3];\n",
       "\n",
       "        if (!name) {\n",
       "            // put a spacer in here.\n",
       "            continue;\n",
       "        }\n",
       "        var button = $('<button/>');\n",
       "        button.addClass('ui-button ui-widget ui-state-default ui-corner-all ' +\n",
       "                        'ui-button-icon-only');\n",
       "        button.attr('role', 'button');\n",
       "        button.attr('aria-disabled', 'false');\n",
       "        button.click(method_name, toolbar_event);\n",
       "        button.mouseover(tooltip, toolbar_mouse_event);\n",
       "\n",
       "        var icon_img = $('<span/>');\n",
       "        icon_img.addClass('ui-button-icon-primary ui-icon');\n",
       "        icon_img.addClass(image);\n",
       "        icon_img.addClass('ui-corner-all');\n",
       "\n",
       "        var tooltip_span = $('<span/>');\n",
       "        tooltip_span.addClass('ui-button-text');\n",
       "        tooltip_span.html(tooltip);\n",
       "\n",
       "        button.append(icon_img);\n",
       "        button.append(tooltip_span);\n",
       "\n",
       "        nav_element.append(button);\n",
       "    }\n",
       "\n",
       "    var fmt_picker_span = $('<span/>');\n",
       "\n",
       "    var fmt_picker = $('<select/>');\n",
       "    fmt_picker.addClass('mpl-toolbar-option ui-widget ui-widget-content');\n",
       "    fmt_picker_span.append(fmt_picker);\n",
       "    nav_element.append(fmt_picker_span);\n",
       "    this.format_dropdown = fmt_picker[0];\n",
       "\n",
       "    for (var ind in mpl.extensions) {\n",
       "        var fmt = mpl.extensions[ind];\n",
       "        var option = $(\n",
       "            '<option/>', {selected: fmt === mpl.default_extension}).html(fmt);\n",
       "        fmt_picker.append(option)\n",
       "    }\n",
       "\n",
       "    // Add hover states to the ui-buttons\n",
       "    $( \".ui-button\" ).hover(\n",
       "        function() { $(this).addClass(\"ui-state-hover\");},\n",
       "        function() { $(this).removeClass(\"ui-state-hover\");}\n",
       "    );\n",
       "\n",
       "    var status_bar = $('<span class=\"mpl-message\"/>');\n",
       "    nav_element.append(status_bar);\n",
       "    this.message = status_bar[0];\n",
       "}\n",
       "\n",
       "mpl.figure.prototype.request_resize = function(x_pixels, y_pixels) {\n",
       "    // Request matplotlib to resize the figure. Matplotlib will then trigger a resize in the client,\n",
       "    // which will in turn request a refresh of the image.\n",
       "    this.send_message('resize', {'width': x_pixels, 'height': y_pixels});\n",
       "}\n",
       "\n",
       "mpl.figure.prototype.send_message = function(type, properties) {\n",
       "    properties['type'] = type;\n",
       "    properties['figure_id'] = this.id;\n",
       "    this.ws.send(JSON.stringify(properties));\n",
       "}\n",
       "\n",
       "mpl.figure.prototype.send_draw_message = function() {\n",
       "    if (!this.waiting) {\n",
       "        this.waiting = true;\n",
       "        this.ws.send(JSON.stringify({type: \"draw\", figure_id: this.id}));\n",
       "    }\n",
       "}\n",
       "\n",
       "\n",
       "mpl.figure.prototype.handle_save = function(fig, msg) {\n",
       "    var format_dropdown = fig.format_dropdown;\n",
       "    var format = format_dropdown.options[format_dropdown.selectedIndex].value;\n",
       "    fig.ondownload(fig, format);\n",
       "}\n",
       "\n",
       "\n",
       "mpl.figure.prototype.handle_resize = function(fig, msg) {\n",
       "    var size = msg['size'];\n",
       "    if (size[0] != fig.canvas.width || size[1] != fig.canvas.height) {\n",
       "        fig._resize_canvas(size[0], size[1]);\n",
       "        fig.send_message(\"refresh\", {});\n",
       "    };\n",
       "}\n",
       "\n",
       "mpl.figure.prototype.handle_rubberband = function(fig, msg) {\n",
       "    var x0 = msg['x0'] / mpl.ratio;\n",
       "    var y0 = (fig.canvas.height - msg['y0']) / mpl.ratio;\n",
       "    var x1 = msg['x1'] / mpl.ratio;\n",
       "    var y1 = (fig.canvas.height - msg['y1']) / mpl.ratio;\n",
       "    x0 = Math.floor(x0) + 0.5;\n",
       "    y0 = Math.floor(y0) + 0.5;\n",
       "    x1 = Math.floor(x1) + 0.5;\n",
       "    y1 = Math.floor(y1) + 0.5;\n",
       "    var min_x = Math.min(x0, x1);\n",
       "    var min_y = Math.min(y0, y1);\n",
       "    var width = Math.abs(x1 - x0);\n",
       "    var height = Math.abs(y1 - y0);\n",
       "\n",
       "    fig.rubberband_context.clearRect(\n",
       "        0, 0, fig.canvas.width, fig.canvas.height);\n",
       "\n",
       "    fig.rubberband_context.strokeRect(min_x, min_y, width, height);\n",
       "}\n",
       "\n",
       "mpl.figure.prototype.handle_figure_label = function(fig, msg) {\n",
       "    // Updates the figure title.\n",
       "    fig.header.textContent = msg['label'];\n",
       "}\n",
       "\n",
       "mpl.figure.prototype.handle_cursor = function(fig, msg) {\n",
       "    var cursor = msg['cursor'];\n",
       "    switch(cursor)\n",
       "    {\n",
       "    case 0:\n",
       "        cursor = 'pointer';\n",
       "        break;\n",
       "    case 1:\n",
       "        cursor = 'default';\n",
       "        break;\n",
       "    case 2:\n",
       "        cursor = 'crosshair';\n",
       "        break;\n",
       "    case 3:\n",
       "        cursor = 'move';\n",
       "        break;\n",
       "    }\n",
       "    fig.rubberband_canvas.style.cursor = cursor;\n",
       "}\n",
       "\n",
       "mpl.figure.prototype.handle_message = function(fig, msg) {\n",
       "    fig.message.textContent = msg['message'];\n",
       "}\n",
       "\n",
       "mpl.figure.prototype.handle_draw = function(fig, msg) {\n",
       "    // Request the server to send over a new figure.\n",
       "    fig.send_draw_message();\n",
       "}\n",
       "\n",
       "mpl.figure.prototype.handle_image_mode = function(fig, msg) {\n",
       "    fig.image_mode = msg['mode'];\n",
       "}\n",
       "\n",
       "mpl.figure.prototype.updated_canvas_event = function() {\n",
       "    // Called whenever the canvas gets updated.\n",
       "    this.send_message(\"ack\", {});\n",
       "}\n",
       "\n",
       "// A function to construct a web socket function for onmessage handling.\n",
       "// Called in the figure constructor.\n",
       "mpl.figure.prototype._make_on_message_function = function(fig) {\n",
       "    return function socket_on_message(evt) {\n",
       "        if (evt.data instanceof Blob) {\n",
       "            /* FIXME: We get \"Resource interpreted as Image but\n",
       "             * transferred with MIME type text/plain:\" errors on\n",
       "             * Chrome.  But how to set the MIME type?  It doesn't seem\n",
       "             * to be part of the websocket stream */\n",
       "            evt.data.type = \"image/png\";\n",
       "\n",
       "            /* Free the memory for the previous frames */\n",
       "            if (fig.imageObj.src) {\n",
       "                (window.URL || window.webkitURL).revokeObjectURL(\n",
       "                    fig.imageObj.src);\n",
       "            }\n",
       "\n",
       "            fig.imageObj.src = (window.URL || window.webkitURL).createObjectURL(\n",
       "                evt.data);\n",
       "            fig.updated_canvas_event();\n",
       "            fig.waiting = false;\n",
       "            return;\n",
       "        }\n",
       "        else if (typeof evt.data === 'string' && evt.data.slice(0, 21) == \"data:image/png;base64\") {\n",
       "            fig.imageObj.src = evt.data;\n",
       "            fig.updated_canvas_event();\n",
       "            fig.waiting = false;\n",
       "            return;\n",
       "        }\n",
       "\n",
       "        var msg = JSON.parse(evt.data);\n",
       "        var msg_type = msg['type'];\n",
       "\n",
       "        // Call the  \"handle_{type}\" callback, which takes\n",
       "        // the figure and JSON message as its only arguments.\n",
       "        try {\n",
       "            var callback = fig[\"handle_\" + msg_type];\n",
       "        } catch (e) {\n",
       "            console.log(\"No handler for the '\" + msg_type + \"' message type: \", msg);\n",
       "            return;\n",
       "        }\n",
       "\n",
       "        if (callback) {\n",
       "            try {\n",
       "                // console.log(\"Handling '\" + msg_type + \"' message: \", msg);\n",
       "                callback(fig, msg);\n",
       "            } catch (e) {\n",
       "                console.log(\"Exception inside the 'handler_\" + msg_type + \"' callback:\", e, e.stack, msg);\n",
       "            }\n",
       "        }\n",
       "    };\n",
       "}\n",
       "\n",
       "// from http://stackoverflow.com/questions/1114465/getting-mouse-location-in-canvas\n",
       "mpl.findpos = function(e) {\n",
       "    //this section is from http://www.quirksmode.org/js/events_properties.html\n",
       "    var targ;\n",
       "    if (!e)\n",
       "        e = window.event;\n",
       "    if (e.target)\n",
       "        targ = e.target;\n",
       "    else if (e.srcElement)\n",
       "        targ = e.srcElement;\n",
       "    if (targ.nodeType == 3) // defeat Safari bug\n",
       "        targ = targ.parentNode;\n",
       "\n",
       "    // jQuery normalizes the pageX and pageY\n",
       "    // pageX,Y are the mouse positions relative to the document\n",
       "    // offset() returns the position of the element relative to the document\n",
       "    var x = e.pageX - $(targ).offset().left;\n",
       "    var y = e.pageY - $(targ).offset().top;\n",
       "\n",
       "    return {\"x\": x, \"y\": y};\n",
       "};\n",
       "\n",
       "/*\n",
       " * return a copy of an object with only non-object keys\n",
       " * we need this to avoid circular references\n",
       " * http://stackoverflow.com/a/24161582/3208463\n",
       " */\n",
       "function simpleKeys (original) {\n",
       "  return Object.keys(original).reduce(function (obj, key) {\n",
       "    if (typeof original[key] !== 'object')\n",
       "        obj[key] = original[key]\n",
       "    return obj;\n",
       "  }, {});\n",
       "}\n",
       "\n",
       "mpl.figure.prototype.mouse_event = function(event, name) {\n",
       "    var canvas_pos = mpl.findpos(event)\n",
       "\n",
       "    if (name === 'button_press')\n",
       "    {\n",
       "        this.canvas.focus();\n",
       "        this.canvas_div.focus();\n",
       "    }\n",
       "\n",
       "    var x = canvas_pos.x * mpl.ratio;\n",
       "    var y = canvas_pos.y * mpl.ratio;\n",
       "\n",
       "    this.send_message(name, {x: x, y: y, button: event.button,\n",
       "                             step: event.step,\n",
       "                             guiEvent: simpleKeys(event)});\n",
       "\n",
       "    /* This prevents the web browser from automatically changing to\n",
       "     * the text insertion cursor when the button is pressed.  We want\n",
       "     * to control all of the cursor setting manually through the\n",
       "     * 'cursor' event from matplotlib */\n",
       "    event.preventDefault();\n",
       "    return false;\n",
       "}\n",
       "\n",
       "mpl.figure.prototype._key_event_extra = function(event, name) {\n",
       "    // Handle any extra behaviour associated with a key event\n",
       "}\n",
       "\n",
       "mpl.figure.prototype.key_event = function(event, name) {\n",
       "\n",
       "    // Prevent repeat events\n",
       "    if (name == 'key_press')\n",
       "    {\n",
       "        if (event.which === this._key)\n",
       "            return;\n",
       "        else\n",
       "            this._key = event.which;\n",
       "    }\n",
       "    if (name == 'key_release')\n",
       "        this._key = null;\n",
       "\n",
       "    var value = '';\n",
       "    if (event.ctrlKey && event.which != 17)\n",
       "        value += \"ctrl+\";\n",
       "    if (event.altKey && event.which != 18)\n",
       "        value += \"alt+\";\n",
       "    if (event.shiftKey && event.which != 16)\n",
       "        value += \"shift+\";\n",
       "\n",
       "    value += 'k';\n",
       "    value += event.which.toString();\n",
       "\n",
       "    this._key_event_extra(event, name);\n",
       "\n",
       "    this.send_message(name, {key: value,\n",
       "                             guiEvent: simpleKeys(event)});\n",
       "    return false;\n",
       "}\n",
       "\n",
       "mpl.figure.prototype.toolbar_button_onclick = function(name) {\n",
       "    if (name == 'download') {\n",
       "        this.handle_save(this, null);\n",
       "    } else {\n",
       "        this.send_message(\"toolbar_button\", {name: name});\n",
       "    }\n",
       "};\n",
       "\n",
       "mpl.figure.prototype.toolbar_button_onmouseover = function(tooltip) {\n",
       "    this.message.textContent = tooltip;\n",
       "};\n",
       "mpl.toolbar_items = [[\"Home\", \"Reset original view\", \"fa fa-home icon-home\", \"home\"], [\"Back\", \"Back to  previous view\", \"fa fa-arrow-left icon-arrow-left\", \"back\"], [\"Forward\", \"Forward to next view\", \"fa fa-arrow-right icon-arrow-right\", \"forward\"], [\"\", \"\", \"\", \"\"], [\"Pan\", \"Pan axes with left mouse, zoom with right\", \"fa fa-arrows icon-move\", \"pan\"], [\"Zoom\", \"Zoom to rectangle\", \"fa fa-square-o icon-check-empty\", \"zoom\"], [\"\", \"\", \"\", \"\"], [\"Download\", \"Download plot\", \"fa fa-floppy-o icon-save\", \"download\"]];\n",
       "\n",
       "mpl.extensions = [\"eps\", \"jpeg\", \"pdf\", \"png\", \"ps\", \"raw\", \"svg\", \"tif\"];\n",
       "\n",
       "mpl.default_extension = \"png\";var comm_websocket_adapter = function(comm) {\n",
       "    // Create a \"websocket\"-like object which calls the given IPython comm\n",
       "    // object with the appropriate methods. Currently this is a non binary\n",
       "    // socket, so there is still some room for performance tuning.\n",
       "    var ws = {};\n",
       "\n",
       "    ws.close = function() {\n",
       "        comm.close()\n",
       "    };\n",
       "    ws.send = function(m) {\n",
       "        //console.log('sending', m);\n",
       "        comm.send(m);\n",
       "    };\n",
       "    // Register the callback with on_msg.\n",
       "    comm.on_msg(function(msg) {\n",
       "        //console.log('receiving', msg['content']['data'], msg);\n",
       "        // Pass the mpl event to the overriden (by mpl) onmessage function.\n",
       "        ws.onmessage(msg['content']['data'])\n",
       "    });\n",
       "    return ws;\n",
       "}\n",
       "\n",
       "mpl.mpl_figure_comm = function(comm, msg) {\n",
       "    // This is the function which gets called when the mpl process\n",
       "    // starts-up an IPython Comm through the \"matplotlib\" channel.\n",
       "\n",
       "    var id = msg.content.data.id;\n",
       "    // Get hold of the div created by the display call when the Comm\n",
       "    // socket was opened in Python.\n",
       "    var element = $(\"#\" + id);\n",
       "    var ws_proxy = comm_websocket_adapter(comm)\n",
       "\n",
       "    function ondownload(figure, format) {\n",
       "        window.open(figure.imageObj.src);\n",
       "    }\n",
       "\n",
       "    var fig = new mpl.figure(id, ws_proxy,\n",
       "                           ondownload,\n",
       "                           element.get(0));\n",
       "\n",
       "    // Call onopen now - mpl needs it, as it is assuming we've passed it a real\n",
       "    // web socket which is closed, not our websocket->open comm proxy.\n",
       "    ws_proxy.onopen();\n",
       "\n",
       "    fig.parent_element = element.get(0);\n",
       "    fig.cell_info = mpl.find_output_cell(\"<div id='\" + id + \"'></div>\");\n",
       "    if (!fig.cell_info) {\n",
       "        console.error(\"Failed to find cell for figure\", id, fig);\n",
       "        return;\n",
       "    }\n",
       "\n",
       "    var output_index = fig.cell_info[2]\n",
       "    var cell = fig.cell_info[0];\n",
       "\n",
       "};\n",
       "\n",
       "mpl.figure.prototype.handle_close = function(fig, msg) {\n",
       "    var width = fig.canvas.width/mpl.ratio\n",
       "    fig.root.unbind('remove')\n",
       "\n",
       "    // Update the output cell to use the data from the current canvas.\n",
       "    fig.push_to_output();\n",
       "    var dataURL = fig.canvas.toDataURL();\n",
       "    // Re-enable the keyboard manager in IPython - without this line, in FF,\n",
       "    // the notebook keyboard shortcuts fail.\n",
       "    IPython.keyboard_manager.enable()\n",
       "    $(fig.parent_element).html('<img src=\"' + dataURL + '\" width=\"' + width + '\">');\n",
       "    fig.close_ws(fig, msg);\n",
       "}\n",
       "\n",
       "mpl.figure.prototype.close_ws = function(fig, msg){\n",
       "    fig.send_message('closing', msg);\n",
       "    // fig.ws.close()\n",
       "}\n",
       "\n",
       "mpl.figure.prototype.push_to_output = function(remove_interactive) {\n",
       "    // Turn the data on the canvas into data in the output cell.\n",
       "    var width = this.canvas.width/mpl.ratio\n",
       "    var dataURL = this.canvas.toDataURL();\n",
       "    this.cell_info[1]['text/html'] = '<img src=\"' + dataURL + '\" width=\"' + width + '\">';\n",
       "}\n",
       "\n",
       "mpl.figure.prototype.updated_canvas_event = function() {\n",
       "    // Tell IPython that the notebook contents must change.\n",
       "    IPython.notebook.set_dirty(true);\n",
       "    this.send_message(\"ack\", {});\n",
       "    var fig = this;\n",
       "    // Wait a second, then push the new image to the DOM so\n",
       "    // that it is saved nicely (might be nice to debounce this).\n",
       "    setTimeout(function () { fig.push_to_output() }, 1000);\n",
       "}\n",
       "\n",
       "mpl.figure.prototype._init_toolbar = function() {\n",
       "    var fig = this;\n",
       "\n",
       "    var nav_element = $('<div/>')\n",
       "    nav_element.attr('style', 'width: 100%');\n",
       "    this.root.append(nav_element);\n",
       "\n",
       "    // Define a callback function for later on.\n",
       "    function toolbar_event(event) {\n",
       "        return fig.toolbar_button_onclick(event['data']);\n",
       "    }\n",
       "    function toolbar_mouse_event(event) {\n",
       "        return fig.toolbar_button_onmouseover(event['data']);\n",
       "    }\n",
       "\n",
       "    for(var toolbar_ind in mpl.toolbar_items){\n",
       "        var name = mpl.toolbar_items[toolbar_ind][0];\n",
       "        var tooltip = mpl.toolbar_items[toolbar_ind][1];\n",
       "        var image = mpl.toolbar_items[toolbar_ind][2];\n",
       "        var method_name = mpl.toolbar_items[toolbar_ind][3];\n",
       "\n",
       "        if (!name) { continue; };\n",
       "\n",
       "        var button = $('<button class=\"btn btn-default\" href=\"#\" title=\"' + name + '\"><i class=\"fa ' + image + ' fa-lg\"></i></button>');\n",
       "        button.click(method_name, toolbar_event);\n",
       "        button.mouseover(tooltip, toolbar_mouse_event);\n",
       "        nav_element.append(button);\n",
       "    }\n",
       "\n",
       "    // Add the status bar.\n",
       "    var status_bar = $('<span class=\"mpl-message\" style=\"text-align:right; float: right;\"/>');\n",
       "    nav_element.append(status_bar);\n",
       "    this.message = status_bar[0];\n",
       "\n",
       "    // Add the close button to the window.\n",
       "    var buttongrp = $('<div class=\"btn-group inline pull-right\"></div>');\n",
       "    var button = $('<button class=\"btn btn-mini btn-primary\" href=\"#\" title=\"Stop Interaction\"><i class=\"fa fa-power-off icon-remove icon-large\"></i></button>');\n",
       "    button.click(function (evt) { fig.handle_close(fig, {}); } );\n",
       "    button.mouseover('Stop Interaction', toolbar_mouse_event);\n",
       "    buttongrp.append(button);\n",
       "    var titlebar = this.root.find($('.ui-dialog-titlebar'));\n",
       "    titlebar.prepend(buttongrp);\n",
       "}\n",
       "\n",
       "mpl.figure.prototype._root_extra_style = function(el){\n",
       "    var fig = this\n",
       "    el.on(\"remove\", function(){\n",
       "\tfig.close_ws(fig, {});\n",
       "    });\n",
       "}\n",
       "\n",
       "mpl.figure.prototype._canvas_extra_style = function(el){\n",
       "    // this is important to make the div 'focusable\n",
       "    el.attr('tabindex', 0)\n",
       "    // reach out to IPython and tell the keyboard manager to turn it's self\n",
       "    // off when our div gets focus\n",
       "\n",
       "    // location in version 3\n",
       "    if (IPython.notebook.keyboard_manager) {\n",
       "        IPython.notebook.keyboard_manager.register_events(el);\n",
       "    }\n",
       "    else {\n",
       "        // location in version 2\n",
       "        IPython.keyboard_manager.register_events(el);\n",
       "    }\n",
       "\n",
       "}\n",
       "\n",
       "mpl.figure.prototype._key_event_extra = function(event, name) {\n",
       "    var manager = IPython.notebook.keyboard_manager;\n",
       "    if (!manager)\n",
       "        manager = IPython.keyboard_manager;\n",
       "\n",
       "    // Check for shift+enter\n",
       "    if (event.shiftKey && event.which == 13) {\n",
       "        this.canvas_div.blur();\n",
       "        // select the cell after this one\n",
       "        var index = IPython.notebook.find_cell_index(this.cell_info[0]);\n",
       "        IPython.notebook.select(index + 1);\n",
       "    }\n",
       "}\n",
       "\n",
       "mpl.figure.prototype.handle_save = function(fig, msg) {\n",
       "    fig.ondownload(fig, null);\n",
       "}\n",
       "\n",
       "\n",
       "mpl.find_output_cell = function(html_output) {\n",
       "    // Return the cell and output element which can be found *uniquely* in the notebook.\n",
       "    // Note - this is a bit hacky, but it is done because the \"notebook_saving.Notebook\"\n",
       "    // IPython event is triggered only after the cells have been serialised, which for\n",
       "    // our purposes (turning an active figure into a static one), is too late.\n",
       "    var cells = IPython.notebook.get_cells();\n",
       "    var ncells = cells.length;\n",
       "    for (var i=0; i<ncells; i++) {\n",
       "        var cell = cells[i];\n",
       "        if (cell.cell_type === 'code'){\n",
       "            for (var j=0; j<cell.output_area.outputs.length; j++) {\n",
       "                var data = cell.output_area.outputs[j];\n",
       "                if (data.data) {\n",
       "                    // IPython >= 3 moved mimebundle to data attribute of output\n",
       "                    data = data.data;\n",
       "                }\n",
       "                if (data['text/html'] == html_output) {\n",
       "                    return [cell, data, j];\n",
       "                }\n",
       "            }\n",
       "        }\n",
       "    }\n",
       "}\n",
       "\n",
       "// Register the function which deals with the matplotlib target/channel.\n",
       "// The kernel may be null if the page has been refreshed.\n",
       "if (IPython.notebook.kernel != null) {\n",
       "    IPython.notebook.kernel.comm_manager.register_target('matplotlib', mpl.mpl_figure_comm);\n",
       "}\n"
      ],
      "text/plain": [
       "<IPython.core.display.Javascript object>"
      ]
     },
     "metadata": {},
     "output_type": "display_data"
    },
    {
     "data": {
      "text/html": [
       "<img src=\"data:image/png;base64,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\" width=\"800\">"
      ],
      "text/plain": [
       "<IPython.core.display.HTML object>"
      ]
     },
     "metadata": {},
     "output_type": "display_data"
    },
    {
     "data": {
      "text/plain": [
       "<matplotlib.legend.Legend at 0xdd561d0>"
      ]
     },
     "execution_count": 122,
     "metadata": {},
     "output_type": "execute_result"
    }
   ],
   "source": [
    "plt.plot(fpr, tpr, label='ROC curve (area = %0.3f)' % roc_auc)\n",
    "plt.plot([0, 1], [0, 1], 'k--')  # random predictions curve\n",
    "plt.xlim([0.0, 1.0])\n",
    "plt.ylim([0.0, 1.0])\n",
    "plt.xlabel('False Positive Rate or (1 - Specifity)')\n",
    "plt.ylabel('True Positive Rate or (Sensitivity)')\n",
    "plt.title('Receiver Operating Characteristic')\n",
    "plt.legend(loc=\"lower right\")"
   ]
  },
  {
   "cell_type": "code",
   "execution_count": null,
   "metadata": {
    "collapsed": true
   },
   "outputs": [],
   "source": []
  },
  {
   "cell_type": "markdown",
   "metadata": {},
   "source": [
    "## 6.2 KNN (K-Nearest Neighbors)"
   ]
  },
  {
   "cell_type": "code",
   "execution_count": 123,
   "metadata": {
    "collapsed": true
   },
   "outputs": [],
   "source": [
    "X = df.drop('y', 1)\n",
    "y = pd.get_dummies(df[['y']], drop_first = True)\n",
    "X_train, X_test, y_train, y_test = train_test_split(X, y, test_size = 0.2, random_state = 42)"
   ]
  },
  {
   "cell_type": "code",
   "execution_count": 125,
   "metadata": {},
   "outputs": [
    {
     "name": "stderr",
     "output_type": "stream",
     "text": [
      "C:\\Users\\Nishu\\Anaconda3\\Lib\\site-packages\\ipykernel_launcher.py:4: DataConversionWarning: A column-vector y was passed when a 1d array was expected. Please change the shape of y to (n_samples, ), for example using ravel().\n",
      "  after removing the cwd from sys.path.\n"
     ]
    },
    {
     "name": "stdout",
     "output_type": "stream",
     "text": [
      "0.896941005098\n"
     ]
    }
   ],
   "source": [
    "from sklearn.neighbors import KNeighborsClassifier\n",
    "\n",
    "knn = KNeighborsClassifier(n_neighbors=3)\n",
    "knn.fit(X_train, y_train)\n",
    "pred = knn.predict(X_test)\n",
    "\n",
    "print(accuracy_score(y_test, pred))"
   ]
  },
  {
   "cell_type": "code",
   "execution_count": 146,
   "metadata": {},
   "outputs": [
    {
     "name": "stdout",
     "output_type": "stream",
     "text": [
      "[1, 3, 5, 7, 9, 11, 13, 15, 17, 19, 21, 23, 25, 27, 29, 31, 33, 35, 37, 39, 41, 43, 45, 47, 49]\n"
     ]
    }
   ],
   "source": [
    "neighbors = []\n",
    "for i in range(1, 50, 2):\n",
    "    neighbors.append(i)\n",
    "print(neighbors)"
   ]
  },
  {
   "cell_type": "code",
   "execution_count": null,
   "metadata": {
    "collapsed": true
   },
   "outputs": [],
   "source": [
    "for k in neighbors:\n",
    "    knn = KNeighborsClassifier(n_neighbors = i)\n",
    "    knn.fit(X_train, y_train)\n",
    "    pred = knn.predict(X_test)\n",
    "    "
   ]
  },
  {
   "cell_type": "code",
   "execution_count": 157,
   "metadata": {
    "collapsed": true
   },
   "outputs": [],
   "source": [
    "accuracy = []"
   ]
  },
  {
   "cell_type": "code",
   "execution_count": 158,
   "metadata": {},
   "outputs": [
    {
     "name": "stderr",
     "output_type": "stream",
     "text": [
      "C:\\Users\\Nishu\\Anaconda3\\Lib\\site-packages\\ipykernel_launcher.py:3: DataConversionWarning: A column-vector y was passed when a 1d array was expected. Please change the shape of y to (n_samples, ), for example using ravel().\n",
      "  This is separate from the ipykernel package so we can avoid doing imports until\n"
     ]
    }
   ],
   "source": [
    "for i in neighbors:\n",
    "    knn = KNeighborsClassifier(n_neighbors = i)\n",
    "    knn.fit(X_train, y_train)\n",
    "    pred = knn.predict(X_test)\n",
    "    score = (accuracy_score(y_test, pred))\n",
    "    accuracy.append(score)"
   ]
  },
  {
   "cell_type": "code",
   "execution_count": 166,
   "metadata": {},
   "outputs": [
    {
     "data": {
      "text/plain": [
       "<matplotlib.figure.Figure at 0xf024f60>"
      ]
     },
     "execution_count": 166,
     "metadata": {},
     "output_type": "execute_result"
    },
    {
     "data": {
      "text/plain": [
       "<matplotlib.figure.Figure at 0xf024f60>"
      ]
     },
     "metadata": {},
     "output_type": "display_data"
    }
   ],
   "source": [
    "from matplotlib.pyplot import figure\n",
    "%matplotlib inline"
   ]
  },
  {
   "cell_type": "code",
   "execution_count": 171,
   "metadata": {},
   "outputs": [
    {
     "data": {
      "image/png": "[encoded data removed]",
      "text/plain": [
       "<matplotlib.figure.Figure at 0xcca3a90>"
      ]
     },
     "metadata": {},
     "output_type": "display_data"
    }
   ],
   "source": [
    "figure(num=None, figsize=(10, 6), dpi=80, facecolor='w', edgecolor='k')\n",
    "plt.plot(neighbors, accuracy)\n",
    "plt.xlabel('k-neighbors')\n",
    "plt.ylabel('Accuracy')\n",
    "plt.show()"
   ]
  },
  {
   "cell_type": "code",
   "execution_count": 155,
   "metadata": {
    "scrolled": false
   },
   "outputs": [
    {
     "name": "stderr",
     "output_type": "stream",
     "text": [
      "C:\\Users\\Nishu\\Anaconda3\\Lib\\site-packages\\ipykernel_launcher.py:3: DataConversionWarning: A column-vector y was passed when a 1d array was expected. Please change the shape of y to (n_samples, ), for example using ravel().\n",
      "  This is separate from the ipykernel package so we can avoid doing imports until\n"
     ]
    },
    {
     "name": "stdout",
     "output_type": "stream",
     "text": [
      "1 ---- 0.887351298859\n",
      "3 ---- 0.896941005098\n",
      "5 ---- 0.902403495994\n",
      "7 ---- 0.902767662054\n",
      "9 ---- 0.903131828114\n",
      "11 ---- 0.904952658412\n",
      "13 ---- 0.904588492353\n",
      "15 ---- 0.905438213159\n",
      "17 ---- 0.906894877397\n",
      "19 ---- 0.907623209517\n",
      "21 ---- 0.906409322651\n",
      "23 ---- 0.905559601845\n",
      "25 ---- 0.906287933965\n",
      "27 ---- 0.907987375577\n",
      "29 ---- 0.907259043457\n",
      "31 ---- 0.907623209517\n",
      "33 ---- 0.907380432144\n",
      "35 ---- 0.907380432144\n",
      "37 ---- 0.907016266084\n",
      "39 ---- 0.906894877397\n",
      "41 ---- 0.906409322651\n",
      "43 ---- 0.907137654771\n",
      "45 ---- 0.906652100024\n",
      "47 ---- 0.907016266084\n",
      "49 ---- 0.906773488711\n"
     ]
    }
   ],
   "source": [
    "for i in neighbors:\n",
    "    knn = KNeighborsClassifier(n_neighbors = i)\n",
    "    knn.fit(X_train, y_train)\n",
    "    pred = knn.predict(X_test)\n",
    "    print(str(i) + ' ---- '+ str((accuracy_score(y_test, pred))))"
   ]
  },
  {
   "cell_type": "markdown",
   "metadata": {},
   "source": [
    "**Note:** We see that accuracy is highest for neighbors '19' and '27'"
   ]
  },
  {
   "cell_type": "code",
   "execution_count": null,
   "metadata": {
    "collapsed": true
   },
   "outputs": [],
   "source": []
  },
  {
   "cell_type": "code",
   "execution_count": 194,
   "metadata": {
    "collapsed": true
   },
   "outputs": [],
   "source": [
    "max_score = 0\n",
    "max_recall = 0\n",
    "min_precision = math.inf"
   ]
  },
  {
   "cell_type": "code",
   "execution_count": 197,
   "metadata": {},
   "outputs": [
    {
     "name": "stdout",
     "output_type": "stream",
     "text": [
      "[1, 3, 5, 7, 9, 11, 13, 15, 17, 19, 21, 23, 25, 27, 29]\n"
     ]
    }
   ],
   "source": [
    "new_neighbors = []\n",
    "for i in range(1, 30, 2):\n",
    "    new_neighbors.append(i)\n",
    "print(new_neighbors)"
   ]
  },
  {
   "cell_type": "markdown",
   "metadata": {},
   "source": [
    "<div class = \"alert alert-warning\">\n",
    "\n",
    "Retry for every dataframe individually....!\n",
    "\n",
    "</div>"
   ]
  },
  {
   "cell_type": "code",
   "execution_count": null,
   "metadata": {
    "collapsed": true
   },
   "outputs": [],
   "source": []
  },
  {
   "cell_type": "markdown",
   "metadata": {},
   "source": [
    "## 6.3 SVM"
   ]
  },
  {
   "cell_type": "code",
   "execution_count": null,
   "metadata": {
    "collapsed": true
   },
   "outputs": [],
   "source": [
    "SVM\n",
    "\t- kernel = “linear”, “rbf”,”poly” (default value is “rbf”)\n",
    "\t- C = 1, 10, 100, 1000\n",
    "\t- gamma = 0, 10, 100, 1000\n",
    "\t\n",
    "\tmodel = svm.svc(kernel='linear', c=1, gamma=1) \n",
    "\tmodel.fit(X, y)\n",
    "\tmodel.score(X, y)\n",
    "\tpredicted= model.predict(x_test)"
   ]
  },
  {
   "cell_type": "code",
   "execution_count": 64,
   "metadata": {
    "collapsed": true
   },
   "outputs": [],
   "source": [
    "from sklearn import svm\n",
    "from sklearn.svm import SVC"
   ]
  },
  {
   "cell_type": "code",
   "execution_count": 67,
   "metadata": {
    "collapsed": true
   },
   "outputs": [],
   "source": [
    "X = df.drop('y', 1)\n",
    "y = pd.get_dummies(df[['y']], drop_first = True)\n",
    "X_train, X_test, y_train, y_test = train_test_split(X, y, test_size = 0.2, random_state = 42)"
   ]
  },
  {
   "cell_type": "code",
   "execution_count": 70,
   "metadata": {
    "collapsed": true
   },
   "outputs": [],
   "source": [
    "model = SVC(kernel='linear') \n",
    "model.fit(X_train, y_train.values.ravel())\n",
    "pred = model.predict(X_test)"
   ]
  },
  {
   "cell_type": "code",
   "execution_count": 71,
   "metadata": {},
   "outputs": [
    {
     "data": {
      "text/plain": [
       "0.88941490653071131"
      ]
     },
     "execution_count": 71,
     "metadata": {},
     "output_type": "execute_result"
    }
   ],
   "source": [
    "accuracy_score(y_test, pred)"
   ]
  },
  {
   "cell_type": "code",
   "execution_count": 83,
   "metadata": {
    "collapsed": true
   },
   "outputs": [],
   "source": [
    "models = ['linear', 'rbf', 'poly']\n",
    "C = [1, 10, 100, 1000]\n",
    "gamma = [1, 10, 100, 1000]"
   ]
  },
  {
   "cell_type": "code",
   "execution_count": 84,
   "metadata": {
    "collapsed": true
   },
   "outputs": [],
   "source": [
    "best_accuracy = 0"
   ]
  },
  {
   "cell_type": "code",
   "execution_count": null,
   "metadata": {
    "collapsed": true
   },
   "outputs": [],
   "source": [
    "for m in models:\n",
    "    for c in C:\n",
    "        for g in gamma:\n",
    "            model = SVC(kernel = m, C = c, gamma = g)\n",
    "            model.fit(X_train, y_train.values.ravel())\n",
    "            pred = model.predict(X_test)\n",
    "            score = accuracy_score(y_test, pred)\n",
    "            \n",
    "            if best_accuracy < score:\n",
    "                best_accuracy = score\n",
    "                best_model = m\n",
    "                best_C = c\n",
    "                best_gamma = g\n",
    "\n",
    "\n",
    "print(\"Best mdoel is \" + m + \" -- Best c is \" + str(c) + \" -- Best gamma is \" + str(g) + \" -- Best accuracy is \" + str(score))"
   ]
  },
  {
   "cell_type": "code",
   "execution_count": 78,
   "metadata": {
    "collapsed": true
   },
   "outputs": [],
   "source": [
    "test_model = SVC(kernel='linear', gamma = 1) "
   ]
  },
  {
   "cell_type": "code",
   "execution_count": null,
   "metadata": {
    "collapsed": true
   },
   "outputs": [],
   "source": []
  },
  {
   "cell_type": "markdown",
   "metadata": {},
   "source": [
    "**Note**: 'numpy.ndarray' object has no attribute 'values'. If you have a numpy.ndarray, then use train_y.ravel() instead"
   ]
  },
  {
   "cell_type": "code",
   "execution_count": null,
   "metadata": {
    "collapsed": true
   },
   "outputs": [],
   "source": []
  },
  {
   "cell_type": "markdown",
   "metadata": {},
   "source": [
    "## 6.4 Random Forests"
   ]
  },
  {
   "cell_type": "code",
   "execution_count": 72,
   "metadata": {
    "collapsed": true
   },
   "outputs": [],
   "source": [
    "from sklearn.model_selection import KFold\n",
    "from sklearn.model_selection import cross_val_score\n",
    "from sklearn.ensemble import RandomForestClassifier"
   ]
  },
  {
   "cell_type": "code",
   "execution_count": 74,
   "metadata": {
    "collapsed": true
   },
   "outputs": [],
   "source": [
    "rf = RandomForestClassifier(random_state = 42) \n",
    "model = rf.fit(X_train, y_train.values.ravel())"
   ]
  },
  {
   "cell_type": "code",
   "execution_count": 180,
   "metadata": {},
   "outputs": [
    {
     "data": {
      "text/plain": [
       "0.90386016023306626"
      ]
     },
     "execution_count": 180,
     "metadata": {},
     "output_type": "execute_result"
    }
   ],
   "source": [
    "model.score(X_test,y_test)"
   ]
  },
  {
   "cell_type": "code",
   "execution_count": 181,
   "metadata": {},
   "outputs": [
    {
     "name": "stdout",
     "output_type": "stream",
     "text": [
      "             precision    recall  f1-score   support\n",
      "\n",
      "          0       0.93      0.97      0.95      7296\n",
      "          1       0.63      0.39      0.48       942\n",
      "\n",
      "avg / total       0.89      0.90      0.89      8238\n",
      "\n"
     ]
    }
   ],
   "source": [
    "pred = model.predict(X_test)\n",
    "print(classification_report(y_test, pred))"
   ]
  },
  {
   "cell_type": "code",
   "execution_count": null,
   "metadata": {
    "collapsed": true
   },
   "outputs": [],
   "source": [
    "np.sum(predictions)"
   ]
  },
  {
   "cell_type": "code",
   "execution_count": 191,
   "metadata": {
    "collapsed": true
   },
   "outputs": [],
   "source": [
    "#ROC curve\n",
    "from sklearn.metrics import roc_curve\n",
    "from sklearn.metrics import auc\n",
    "\n",
    "y_test_sorted = sorted(y_test.values)\n",
    "y_pred_sorted = sorted(pred)\n",
    "\n",
    "fpr, tpr, thresholds = (roc_curve(y_test_sorted, y_pred_sorted))\n",
    "roc_auc = auc(y_test_sorted, y_pred_sorted)"
   ]
  },
  {
   "cell_type": "code",
   "execution_count": 193,
   "metadata": {},
   "outputs": [
    {
     "data": {
      "text/plain": [
       "<matplotlib.legend.Legend at 0xcca35f8>"
      ]
     },
     "execution_count": 193,
     "metadata": {},
     "output_type": "execute_result"
    },
    {
     "data": {
      "image/png": "[encoded data removed]",
      "text/plain": [
       "<matplotlib.figure.Figure at 0xdd0e048>"
      ]
     },
     "metadata": {},
     "output_type": "display_data"
    }
   ],
   "source": [
    "# Plot ROC curve\n",
    "figure(num=None, figsize=(10, 6), dpi=80, facecolor='w', edgecolor='k')\n",
    "plt.plot(fpr, tpr, label='ROC curve (area = %0.3f)' % roc_auc)\n",
    "plt.plot([0, 1], [0, 1], 'k--')  # random predictions curve\n",
    "plt.xlim([0.0, 1.0])\n",
    "plt.ylim([0.0, 1.0])\n",
    "plt.xlabel('False Positive Rate or (1 - Specifity)')\n",
    "plt.ylabel('True Positive Rate or (Sensitivity)')\n",
    "plt.title('Receiver Operating Characteristic')\n",
    "plt.legend(loc=\"lower right\")"
   ]
  },
  {
   "cell_type": "code",
   "execution_count": null,
   "metadata": {
    "collapsed": true
   },
   "outputs": [],
   "source": []
  },
  {
   "cell_type": "markdown",
   "metadata": {},
   "source": [
    "Random Forests has the following hyper parameters:\n",
    "\n",
    "n_estimators = number of trees in the foreset <br>\n",
    "max_features = max number of features considered for splitting a node <br>\n",
    "max_depth = max number of levels in each decision tree <br>\n",
    "min_samples_split = min number of data points placed in a node before the node is split <br>\n",
    "min_samples_leaf = min number of data points allowed in a leaf node <br>\n",
    "bootstrap = method for sampling data points (with or without replacement) <br>"
   ]
  },
  {
   "cell_type": "code",
   "execution_count": null,
   "metadata": {
    "collapsed": true
   },
   "outputs": [],
   "source": []
  },
  {
   "cell_type": "markdown",
   "metadata": {},
   "source": [
    "### 6.3.1 GridSearchCV "
   ]
  },
  {
   "cell_type": "code",
   "execution_count": 205,
   "metadata": {
    "collapsed": true
   },
   "outputs": [],
   "source": [
    "from sklearn.model_selection import GridSearchCV\n",
    "from sklearn.ensemble import RandomForestRegressor\n",
    "from pprint import pprint"
   ]
  },
  {
   "cell_type": "code",
   "execution_count": 206,
   "metadata": {
    "collapsed": true
   },
   "outputs": [],
   "source": [
    "# Create the parameter grid based on the results of random search \n",
    "param_grid = {\n",
    "    'bootstrap': [True],\n",
    "    'max_depth': [80, 90, 100, 110],\n",
    "    'max_features': [2, 3],\n",
    "    'min_samples_leaf': [3, 4, 5],\n",
    "    'min_samples_split': [8, 10, 12],\n",
    "    'n_estimators': [100, 200, 300, 1000]\n",
    "}\n",
    "\n",
    "rf = RandomForestRegressor()\n",
    "grid_search = GridSearchCV(estimator = rf, param_grid = param_grid, \n",
    "                          cv = 3, n_jobs = -1, verbose = 2)"
   ]
  },
  {
   "cell_type": "code",
   "execution_count": 207,
   "metadata": {},
   "outputs": [
    {
     "name": "stdout",
     "output_type": "stream",
     "text": [
      "Parameters currently in use:\n",
      "\n",
      "{'bootstrap': True,\n",
      " 'criterion': 'mse',\n",
      " 'max_depth': None,\n",
      " 'max_features': 'auto',\n",
      " 'max_leaf_nodes': None,\n",
      " 'min_impurity_split': 1e-07,\n",
      " 'min_samples_leaf': 1,\n",
      " 'min_samples_split': 2,\n",
      " 'min_weight_fraction_leaf': 0.0,\n",
      " 'n_estimators': 10,\n",
      " 'n_jobs': 1,\n",
      " 'oob_score': False,\n",
      " 'random_state': None,\n",
      " 'verbose': 0,\n",
      " 'warm_start': False}\n"
     ]
    }
   ],
   "source": [
    "print('Parameters currently in use:\\n')\n",
    "pprint(rf.get_params())"
   ]
  },
  {
   "cell_type": "code",
   "execution_count": null,
   "metadata": {
    "collapsed": true
   },
   "outputs": [],
   "source": []
  },
  {
   "cell_type": "code",
   "execution_count": null,
   "metadata": {
    "collapsed": true
   },
   "outputs": [],
   "source": []
  },
  {
   "cell_type": "markdown",
   "metadata": {},
   "source": [
    "### 6.3.2 RandomSearchCV"
   ]
  },
  {
   "cell_type": "code",
   "execution_count": 208,
   "metadata": {
    "collapsed": true
   },
   "outputs": [],
   "source": [
    "from sklearn.model_selection import RandomizedSearchCV\n",
    "from pprint import pprint"
   ]
  },
  {
   "cell_type": "code",
   "execution_count": 209,
   "metadata": {
    "collapsed": true
   },
   "outputs": [],
   "source": [
    "# Number of trees in random forest\n",
    "n_estimators = [int(x) for x in np.linspace(start = 200, stop = 2000, num = 10)]\n",
    "# Number of features to consider at every split\n",
    "max_features = ['auto', 'sqrt']\n",
    "# Maximum number of levels in tree\n",
    "max_depth = [int(x) for x in np.linspace(10, 110, num = 11)]\n",
    "max_depth.append(None)\n",
    "# Minimum number of samples required to split a node\n",
    "min_samples_split = [2, 5, 10]\n",
    "# Minimum number of samples required at each leaf node\n",
    "min_samples_leaf = [1, 2, 4]\n",
    "# Method of selecting samples for training each tree\n",
    "bootstrap = [True, False]"
   ]
  },
  {
   "cell_type": "code",
   "execution_count": 210,
   "metadata": {
    "collapsed": true
   },
   "outputs": [],
   "source": [
    "# Create the random grid\n",
    "random_grid = {'n_estimators': n_estimators,\n",
    "               'max_features': max_features,\n",
    "               'max_depth': max_depth,\n",
    "               'min_samples_split': min_samples_split,\n",
    "               'min_samples_leaf': min_samples_leaf,\n",
    "               'bootstrap': bootstrap}"
   ]
  },
  {
   "cell_type": "code",
   "execution_count": 211,
   "metadata": {},
   "outputs": [
    {
     "name": "stdout",
     "output_type": "stream",
     "text": [
      "{'bootstrap': [True, False],\n",
      " 'max_depth': [10, 20, 30, 40, 50, 60, 70, 80, 90, 100, 110, None],\n",
      " 'max_features': ['auto', 'sqrt'],\n",
      " 'min_samples_leaf': [1, 2, 4],\n",
      " 'min_samples_split': [2, 5, 10],\n",
      " 'n_estimators': [200, 400, 600, 800, 1000, 1200, 1400, 1600, 1800, 2000]}\n"
     ]
    }
   ],
   "source": [
    "pprint(random_grid)"
   ]
  },
  {
   "cell_type": "code",
   "execution_count": null,
   "metadata": {},
   "outputs": [
    {
     "name": "stdout",
     "output_type": "stream",
     "text": [
      "Fitting 3 folds for each of 100 candidates, totalling 300 fits\n"
     ]
    },
    {
     "name": "stderr",
     "output_type": "stream",
     "text": [
      "[Parallel(n_jobs=-1)]: Done  33 tasks      | elapsed: 55.7min\n",
      "[Parallel(n_jobs=-1)]: Done 154 tasks      | elapsed: 186.2min\n"
     ]
    }
   ],
   "source": [
    "# Use the random grid to search for best hyperparameters\n",
    "# First create the base model to tune\n",
    "rf = RandomForestRegressor()\n",
    "# Random search of parameters, using 3 fold cross validation, \n",
    "# search across 100 different combinations, and use all available cores\n",
    "rf_random = RandomizedSearchCV(estimator = rf, param_distributions = random_grid, n_iter = 100, cv = 3, verbose=2, random_state=42, n_jobs = -1)\n",
    "# Fit the random search model\n",
    "rf_random.fit(X_train, y_train)"
   ]
  },
  {
   "cell_type": "code",
   "execution_count": null,
   "metadata": {
    "collapsed": true
   },
   "outputs": [],
   "source": [
    "rf_random.best_params_"
   ]
  },
  {
   "cell_type": "code",
   "execution_count": null,
   "metadata": {
    "collapsed": true
   },
   "outputs": [],
   "source": []
  }
 ],
 "metadata": {
  "kernelspec": {
   "display_name": "Python 3",
   "language": "python",
   "name": "python3"
  },
  "language_info": {
   "codemirror_mode": {
    "name": "ipython",
    "version": 3
   },
   "file_extension": ".py",
   "mimetype": "text/x-python",
   "name": "python",
   "nbconvert_exporter": "python",
   "pygments_lexer": "ipython3",
   "version": "3.6.1"
  }
 },
 "nbformat": 4,
 "nbformat_minor": 2
}
